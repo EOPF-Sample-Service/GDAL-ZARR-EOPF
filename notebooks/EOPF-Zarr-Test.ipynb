{
 "cells": [
  {
   "cell_type": "markdown",
   "id": "7c9aca25",
   "metadata": {},
   "source": [
    "# EOPF-Zarr GDAL Driver Test Notebook\n",
    "\n",
    "This notebook demonstrates the EOPF-Zarr GDAL driver working in the Docker environment.\n",
    "\n",
    "## Overview\n",
    "\n",
    "- **Environment**: Ubuntu 25.04 + GDAL 3.10 + Python 3.13\n",
    "- **Driver**: Custom EOPF-Zarr GDAL driver\n",
    "- **Use Case**: Reading and processing EOPF/Zarr geospatial data"
   ]
  },
  {
   "cell_type": "code",
   "execution_count": 2,
   "id": "0a937da8",
   "metadata": {},
   "outputs": [
    {
     "name": "stdout",
     "output_type": "stream",
     "text": [
      "📦 Environment Information:\n",
      "   Python: 3.13.3 (main, Jun 16 2025, 18:15:32) [GCC 14.2.0]\n",
      "   GDAL: 3100200\n",
      "   NumPy: 2.2.3\n",
      "   xarray: 2025.7.1\n",
      "   zarr: 2.18.7\n"
     ]
    }
   ],
   "source": [
    "# Import required libraries\n",
    "import os\n",
    "import sys\n",
    "from osgeo import gdal\n",
    "import xarray as xr\n",
    "import zarr\n",
    "import numpy as np\n",
    "import pandas as pd\n",
    "\n",
    "print(\"📦 Environment Information:\")\n",
    "print(f\"   Python: {sys.version}\")\n",
    "print(f\"   GDAL: {gdal.VersionInfo()}\")\n",
    "print(f\"   NumPy: {np.__version__}\")\n",
    "print(f\"   xarray: {xr.__version__}\")\n",
    "print(f\"   zarr: {zarr.__version__}\")"
   ]
  },
  {
   "cell_type": "code",
   "execution_count": 3,
   "id": "b5f7f762",
   "metadata": {},
   "outputs": [
    {
     "name": "stdout",
     "output_type": "stream",
     "text": [
      "🔧 Environment Variables:\n",
      "   GDAL_DRIVER_PATH: /opt/eopf-zarr/drivers\n",
      "   GDAL_DATA: /usr/share/gdal\n",
      "   PROJ_LIB: /usr/share/proj\n",
      "   PYTHONPATH: /usr/local/lib/python3.13/site-packages\n"
     ]
    }
   ],
   "source": [
    "# Check environment variables\n",
    "print(\"🔧 Environment Variables:\")\n",
    "env_vars = ['GDAL_DRIVER_PATH', 'GDAL_DATA', 'PROJ_LIB', 'PYTHONPATH']\n",
    "for var in env_vars:\n",
    "    value = os.environ.get(var, 'Not set')\n",
    "    print(f\"   {var}: {value}\")"
   ]
  },
  {
   "cell_type": "code",
   "execution_count": 4,
   "id": "898e9cb4",
   "metadata": {},
   "outputs": [
    {
     "name": "stdout",
     "output_type": "stream",
     "text": [
      "📋 Total GDAL drivers available: 222\n",
      "\n",
      "🔍 Looking for EOPF-Zarr driver...\n",
      "✅ EOPF-Zarr driver found: EOPFZARR\n",
      "   Metadata: {'DMD_LONGNAME': 'EOPF Zarr Wrapper Driver', 'DCAP_RASTER': 'YES', 'DCAP_VIRTUALIO': 'YES', 'DMD_HELPTOPIC': 'drivers/raster/eopfzarr.html', 'DMD_SUBDATASETS': 'YES', 'DMD_OPENOPTIONLIST': \"<OpenOptionList>  <Option name='EOPF_PROCESS' type='boolean' default='NO' description='Enable EOPF features'>    <Value>YES</Value>    <Value>NO</Value>  </Option></OpenOptionList>\", 'DCAP_OPEN': 'YES'}\n"
     ]
    }
   ],
   "source": [
    "# List available GDAL drivers\n",
    "gdal.AllRegister()\n",
    "print(f\"📋 Total GDAL drivers available: {gdal.GetDriverCount()}\")\n",
    "print(\"\\n🔍 Looking for EOPF-Zarr driver...\")\n",
    "\n",
    "# Try to find EOPF-Zarr driver\n",
    "eopf_driver = gdal.GetDriverByName('EOPFZARR')\n",
    "if eopf_driver:\n",
    "    print(f\"✅ EOPF-Zarr driver found: {eopf_driver.GetDescription()}\")\n",
    "    print(f\"   Metadata: {eopf_driver.GetMetadata()}\")\n",
    "else:\n",
    "    print(\"⚠️ EOPF-Zarr driver not found\")\n",
    "    print(\"\\n📋 Available drivers containing 'zarr':\")\n",
    "    for i in range(gdal.GetDriverCount()):\n",
    "        driver = gdal.GetDriver(i)\n",
    "        name = driver.GetDescription()\n",
    "        if 'zarr' in name.lower():\n",
    "            print(f\"   {name}\")"
   ]
  },
  {
   "cell_type": "code",
   "execution_count": 5,
   "id": "c9653dcf",
   "metadata": {},
   "outputs": [
    {
     "name": "stdout",
     "output_type": "stream",
     "text": [
      "🧪 Creating test Zarr dataset...\n",
      "✅ Test data saved to: /tmp/test_zarr_data/test_data.zarr\n",
      "   Dataset shape: FrozenMappingWarningOnValuesAccess({'x': 100, 'y': 100, 'time': 10})\n",
      "   Variables: ['temperature', 'pressure']\n"
     ]
    }
   ],
   "source": [
    "# Create a sample Zarr dataset for testing\n",
    "print(\"🧪 Creating test Zarr dataset...\")\n",
    "\n",
    "# Create test data\n",
    "import tempfile\n",
    "import shutil\n",
    "\n",
    "# Create temporary directory for test data\n",
    "test_dir = '/tmp/test_zarr_data'\n",
    "if os.path.exists(test_dir):\n",
    "    shutil.rmtree(test_dir)\n",
    "os.makedirs(test_dir)\n",
    "\n",
    "# Create a simple xarray dataset\n",
    "data = xr.Dataset({\n",
    "    'temperature': (['x', 'y', 'time'], \n",
    "                   np.random.rand(100, 100, 10) * 30 + 273.15),  # Kelvin\n",
    "    'pressure': (['x', 'y', 'time'], \n",
    "                np.random.rand(100, 100, 10) * 500 + 1000),  # hPa\n",
    "}, coords={\n",
    "    'x': np.linspace(0, 10, 100),\n",
    "    'y': np.linspace(0, 10, 100),\n",
    "    'time': pd.date_range('2023-01-01', periods=10, freq='D')\n",
    "})\n",
    "\n",
    "# Add attributes\n",
    "data.attrs['title'] = 'Test EOPF Dataset'\n",
    "data.attrs['description'] = 'Sample data for testing EOPF-Zarr driver'\n",
    "data['temperature'].attrs['units'] = 'K'\n",
    "data['pressure'].attrs['units'] = 'hPa'\n",
    "\n",
    "# Save as Zarr\n",
    "zarr_path = os.path.join(test_dir, 'test_data.zarr')\n",
    "data.to_zarr(zarr_path)\n",
    "print(f\"✅ Test data saved to: {zarr_path}\")\n",
    "print(f\"   Dataset shape: {data.dims}\")\n",
    "print(f\"   Variables: {list(data.data_vars)}\")"
   ]
  },
  {
   "cell_type": "code",
   "execution_count": 6,
   "id": "538b7f12",
   "metadata": {},
   "outputs": [
    {
     "name": "stdout",
     "output_type": "stream",
     "text": [
      "🔍 Testing GDAL access to Zarr data...\n",
      "✅ Successfully opened Zarr with GDAL\n",
      "   Driver: EOPFZARR\n",
      "   Size: 512 x 512\n",
      "   Bands: 0\n",
      "   Metadata keys: ['EOPF_PRODUCT', 'spatial_ref', 'EPSG', 'proj:epsg', 'geospatial_lon_min']...\n"
     ]
    },
    {
     "name": "stderr",
     "output_type": "stream",
     "text": [
      "/usr/lib/python3/dist-packages/osgeo/gdal.py:311: FutureWarning: Neither gdal.UseExceptions() nor gdal.DontUseExceptions() has been explicitly called. In GDAL 4.0, exceptions will be enabled by default.\n",
      "  warnings.warn(\n"
     ]
    }
   ],
   "source": [
    "# Test GDAL access to Zarr data\n",
    "print(\"🔍 Testing GDAL access to Zarr data...\")\n",
    "\n",
    "# Try to open with GDAL\n",
    "try:\n",
    "    dataset = gdal.Open(\"EOPFZARR:\" + zarr_path)\n",
    "    if dataset:\n",
    "        print(f\"✅ Successfully opened Zarr with GDAL\")\n",
    "        print(f\"   Driver: {dataset.GetDriver().GetDescription()}\")\n",
    "        print(f\"   Size: {dataset.RasterXSize} x {dataset.RasterYSize}\")\n",
    "        print(f\"   Bands: {dataset.RasterCount}\")\n",
    "        \n",
    "        # Get some metadata\n",
    "        metadata = dataset.GetMetadata()\n",
    "        if metadata:\n",
    "            print(f\"   Metadata keys: {list(metadata.keys())[:5]}...\")  # Show first 5 keys\n",
    "        \n",
    "        dataset = None  # Close dataset\n",
    "    else:\n",
    "        print(\"❌ Could not open Zarr with GDAL\")\n",
    "except Exception as e:\n",
    "    print(f\"❌ Error opening Zarr with GDAL: {e}\")"
   ]
  },
  {
   "cell_type": "code",
   "execution_count": 7,
   "id": "36201e5c-f5e3-4a83-9142-15ea6aba8002",
   "metadata": {},
   "outputs": [
    {
     "data": {
      "text/plain": [
       "<osgeo.gdal.Dataset; proxy of <Swig Object of type 'GDALDatasetShadow *' at 0x7fefd3fc4870> >"
      ]
     },
     "execution_count": 7,
     "metadata": {},
     "output_type": "execute_result"
    }
   ],
   "source": [
    "remote=\"https://objects.eodc.eu/e05ab01a9d56408d82ac32d69a5aae2a:202507-s02msil2a/21/products/cpm_v256/S2B_MSIL2A_20250721T073619_N0511_R092_T36HUG_20250721T095416.zarr\"\n",
    "remote_url = \"EOPFZARR:/vsicurl/\" + remote\n",
    "remote_ds = gdal.Open(remote_url)\n",
    "remote_ds"
   ]
  },
  {
   "cell_type": "code",
   "execution_count": 8,
   "id": "e595d570-b074-46f9-b902-bd832eed1448",
   "metadata": {},
   "outputs": [
    {
     "data": {
      "text/plain": [
       "{'EOPF_PRODUCT': 'YES',\n",
       " 'EPSG': '32736',\n",
       " 'proj:epsg': '32736',\n",
       " 'spatial_ref': 'PROJCS[\"WGS 84 / UTM zone 36S\",GEOGCS[\"WGS 84\",DATUM[\"WGS_1984\",SPHEROID[\"WGS 84\",6378137,298.257223563,AUTHORITY[\"EPSG\",\"7030\"]],AUTHORITY[\"EPSG\",\"6326\"]],PRIMEM[\"Greenwich\",0,AUTHORITY[\"EPSG\",\"8901\"]],UNIT[\"degree\",0.0174532925199433,AUTHORITY[\"EPSG\",\"9122\"]],AUTHORITY[\"EPSG\",\"4326\"]],PROJECTION[\"Transverse_Mercator\"],PARAMETER[\"latitude_of_origin\",0],PARAMETER[\"central_meridian\",33],PARAMETER[\"scale_factor\",0.9996],PARAMETER[\"false_easting\",500000],PARAMETER[\"false_northing\",10000000],UNIT[\"metre\",1,AUTHORITY[\"EPSG\",\"9001\"]],AXIS[\"Easting\",EAST],AXIS[\"Northing\",NORTH],AUTHORITY[\"EPSG\",\"32736\"]]',\n",
       " 'geo_transform': '300000.000000000000,214.453125000000,0.000000000000,6200020.000000000000,0.000000000000,-214.453125000000',\n",
       " 'utm_easting_min': '300000.00000000',\n",
       " 'utm_easting_max': '409800.00000000',\n",
       " 'utm_northing_min': '6090220.00000000',\n",
       " 'utm_northing_max': '6200020.00000000'}"
      ]
     },
     "execution_count": 8,
     "metadata": {},
     "output_type": "execute_result"
    }
   ],
   "source": [
    "remote_ds.GetMetadata()"
   ]
  },
  {
   "cell_type": "code",
   "execution_count": 9,
   "id": "98d47f4c-85eb-405d-99d5-9201a9990731",
   "metadata": {},
   "outputs": [
    {
     "data": {
      "text/plain": [
       "[('EOPFZARR:\"/vsicurl/https://objects.eodc.eu/e05ab01a9d56408d82ac32d69a5aae2a:202507-s02msil2a/21/products/cpm_v256/S2B_MSIL2A_20250721T073619_N0511_R092_T36HUG_20250721T095416.zarr/conditions/geometry/angle\"',\n",
       "  'Array /conditions/geometry/angle'),\n",
       " ('EOPFZARR:\"/vsicurl/https://objects.eodc.eu/e05ab01a9d56408d82ac32d69a5aae2a:202507-s02msil2a/21/products/cpm_v256/S2B_MSIL2A_20250721T073619_N0511_R092_T36HUG_20250721T095416.zarr/conditions/geometry/band\"',\n",
       "  'Array /conditions/geometry/band'),\n",
       " ('EOPFZARR:\"/vsicurl/https://objects.eodc.eu/e05ab01a9d56408d82ac32d69a5aae2a:202507-s02msil2a/21/products/cpm_v256/S2B_MSIL2A_20250721T073619_N0511_R092_T36HUG_20250721T095416.zarr/conditions/geometry/detector\"',\n",
       "  'Array /conditions/geometry/detector'),\n",
       " ('EOPFZARR:\"/vsicurl/https://objects.eodc.eu/e05ab01a9d56408d82ac32d69a5aae2a:202507-s02msil2a/21/products/cpm_v256/S2B_MSIL2A_20250721T073619_N0511_R092_T36HUG_20250721T095416.zarr/conditions/geometry/x\"',\n",
       "  'Array /conditions/geometry/x'),\n",
       " ('EOPFZARR:\"/vsicurl/https://objects.eodc.eu/e05ab01a9d56408d82ac32d69a5aae2a:202507-s02msil2a/21/products/cpm_v256/S2B_MSIL2A_20250721T073619_N0511_R092_T36HUG_20250721T095416.zarr/conditions/geometry/y\"',\n",
       "  'Array /conditions/geometry/y'),\n",
       " ('EOPFZARR:\"/vsicurl/https://objects.eodc.eu/e05ab01a9d56408d82ac32d69a5aae2a:202507-s02msil2a/21/products/cpm_v256/S2B_MSIL2A_20250721T073619_N0511_R092_T36HUG_20250721T095416.zarr/conditions/geometry/mean_sun_angles\"',\n",
       "  'Array /conditions/geometry/mean_sun_angles'),\n",
       " ('EOPFZARR:\"/vsicurl/https://objects.eodc.eu/e05ab01a9d56408d82ac32d69a5aae2a:202507-s02msil2a/21/products/cpm_v256/S2B_MSIL2A_20250721T073619_N0511_R092_T36HUG_20250721T095416.zarr/conditions/geometry/mean_viewing_incidence_angles\"',\n",
       "  'Array /conditions/geometry/mean_viewing_incidence_angles'),\n",
       " ('EOPFZARR:\"/vsicurl/https://objects.eodc.eu/e05ab01a9d56408d82ac32d69a5aae2a:202507-s02msil2a/21/products/cpm_v256/S2B_MSIL2A_20250721T073619_N0511_R092_T36HUG_20250721T095416.zarr/conditions/geometry/sun_angles\"',\n",
       "  'Array /conditions/geometry/sun_angles'),\n",
       " ('EOPFZARR:\"/vsicurl/https://objects.eodc.eu/e05ab01a9d56408d82ac32d69a5aae2a:202507-s02msil2a/21/products/cpm_v256/S2B_MSIL2A_20250721T073619_N0511_R092_T36HUG_20250721T095416.zarr/conditions/geometry/viewing_incidence_angles\"',\n",
       "  'Array /conditions/geometry/viewing_incidence_angles'),\n",
       " ('EOPFZARR:\"/vsicurl/https://objects.eodc.eu/e05ab01a9d56408d82ac32d69a5aae2a:202507-s02msil2a/21/products/cpm_v256/S2B_MSIL2A_20250721T073619_N0511_R092_T36HUG_20250721T095416.zarr/conditions/mask/detector_footprint/r10m/x\"',\n",
       "  'Array /conditions/mask/detector_footprint/r10m/x'),\n",
       " ('EOPFZARR:\"/vsicurl/https://objects.eodc.eu/e05ab01a9d56408d82ac32d69a5aae2a:202507-s02msil2a/21/products/cpm_v256/S2B_MSIL2A_20250721T073619_N0511_R092_T36HUG_20250721T095416.zarr/conditions/mask/detector_footprint/r10m/y\"',\n",
       "  'Array /conditions/mask/detector_footprint/r10m/y'),\n",
       " ('EOPFZARR:\"/vsicurl/https://objects.eodc.eu/e05ab01a9d56408d82ac32d69a5aae2a:202507-s02msil2a/21/products/cpm_v256/S2B_MSIL2A_20250721T073619_N0511_R092_T36HUG_20250721T095416.zarr/conditions/mask/detector_footprint/r10m/b02\"',\n",
       "  'Array /conditions/mask/detector_footprint/r10m/b02'),\n",
       " ('EOPFZARR:\"/vsicurl/https://objects.eodc.eu/e05ab01a9d56408d82ac32d69a5aae2a:202507-s02msil2a/21/products/cpm_v256/S2B_MSIL2A_20250721T073619_N0511_R092_T36HUG_20250721T095416.zarr/conditions/mask/detector_footprint/r10m/b03\"',\n",
       "  'Array /conditions/mask/detector_footprint/r10m/b03'),\n",
       " ('EOPFZARR:\"/vsicurl/https://objects.eodc.eu/e05ab01a9d56408d82ac32d69a5aae2a:202507-s02msil2a/21/products/cpm_v256/S2B_MSIL2A_20250721T073619_N0511_R092_T36HUG_20250721T095416.zarr/conditions/mask/detector_footprint/r10m/b04\"',\n",
       "  'Array /conditions/mask/detector_footprint/r10m/b04'),\n",
       " ('EOPFZARR:\"/vsicurl/https://objects.eodc.eu/e05ab01a9d56408d82ac32d69a5aae2a:202507-s02msil2a/21/products/cpm_v256/S2B_MSIL2A_20250721T073619_N0511_R092_T36HUG_20250721T095416.zarr/conditions/mask/detector_footprint/r10m/b08\"',\n",
       "  'Array /conditions/mask/detector_footprint/r10m/b08'),\n",
       " ('EOPFZARR:\"/vsicurl/https://objects.eodc.eu/e05ab01a9d56408d82ac32d69a5aae2a:202507-s02msil2a/21/products/cpm_v256/S2B_MSIL2A_20250721T073619_N0511_R092_T36HUG_20250721T095416.zarr/conditions/mask/detector_footprint/r20m/x\"',\n",
       "  'Array /conditions/mask/detector_footprint/r20m/x'),\n",
       " ('EOPFZARR:\"/vsicurl/https://objects.eodc.eu/e05ab01a9d56408d82ac32d69a5aae2a:202507-s02msil2a/21/products/cpm_v256/S2B_MSIL2A_20250721T073619_N0511_R092_T36HUG_20250721T095416.zarr/conditions/mask/detector_footprint/r20m/y\"',\n",
       "  'Array /conditions/mask/detector_footprint/r20m/y'),\n",
       " ('EOPFZARR:\"/vsicurl/https://objects.eodc.eu/e05ab01a9d56408d82ac32d69a5aae2a:202507-s02msil2a/21/products/cpm_v256/S2B_MSIL2A_20250721T073619_N0511_R092_T36HUG_20250721T095416.zarr/conditions/mask/detector_footprint/r20m/b05\"',\n",
       "  'Array /conditions/mask/detector_footprint/r20m/b05'),\n",
       " ('EOPFZARR:\"/vsicurl/https://objects.eodc.eu/e05ab01a9d56408d82ac32d69a5aae2a:202507-s02msil2a/21/products/cpm_v256/S2B_MSIL2A_20250721T073619_N0511_R092_T36HUG_20250721T095416.zarr/conditions/mask/detector_footprint/r20m/b06\"',\n",
       "  'Array /conditions/mask/detector_footprint/r20m/b06'),\n",
       " ('EOPFZARR:\"/vsicurl/https://objects.eodc.eu/e05ab01a9d56408d82ac32d69a5aae2a:202507-s02msil2a/21/products/cpm_v256/S2B_MSIL2A_20250721T073619_N0511_R092_T36HUG_20250721T095416.zarr/conditions/mask/detector_footprint/r20m/b07\"',\n",
       "  'Array /conditions/mask/detector_footprint/r20m/b07'),\n",
       " ('EOPFZARR:\"/vsicurl/https://objects.eodc.eu/e05ab01a9d56408d82ac32d69a5aae2a:202507-s02msil2a/21/products/cpm_v256/S2B_MSIL2A_20250721T073619_N0511_R092_T36HUG_20250721T095416.zarr/conditions/mask/detector_footprint/r20m/b11\"',\n",
       "  'Array /conditions/mask/detector_footprint/r20m/b11'),\n",
       " ('EOPFZARR:\"/vsicurl/https://objects.eodc.eu/e05ab01a9d56408d82ac32d69a5aae2a:202507-s02msil2a/21/products/cpm_v256/S2B_MSIL2A_20250721T073619_N0511_R092_T36HUG_20250721T095416.zarr/conditions/mask/detector_footprint/r20m/b12\"',\n",
       "  'Array /conditions/mask/detector_footprint/r20m/b12'),\n",
       " ('EOPFZARR:\"/vsicurl/https://objects.eodc.eu/e05ab01a9d56408d82ac32d69a5aae2a:202507-s02msil2a/21/products/cpm_v256/S2B_MSIL2A_20250721T073619_N0511_R092_T36HUG_20250721T095416.zarr/conditions/mask/detector_footprint/r20m/b8a\"',\n",
       "  'Array /conditions/mask/detector_footprint/r20m/b8a'),\n",
       " ('EOPFZARR:\"/vsicurl/https://objects.eodc.eu/e05ab01a9d56408d82ac32d69a5aae2a:202507-s02msil2a/21/products/cpm_v256/S2B_MSIL2A_20250721T073619_N0511_R092_T36HUG_20250721T095416.zarr/conditions/mask/detector_footprint/r60m/x\"',\n",
       "  'Array /conditions/mask/detector_footprint/r60m/x'),\n",
       " ('EOPFZARR:\"/vsicurl/https://objects.eodc.eu/e05ab01a9d56408d82ac32d69a5aae2a:202507-s02msil2a/21/products/cpm_v256/S2B_MSIL2A_20250721T073619_N0511_R092_T36HUG_20250721T095416.zarr/conditions/mask/detector_footprint/r60m/y\"',\n",
       "  'Array /conditions/mask/detector_footprint/r60m/y'),\n",
       " ('EOPFZARR:\"/vsicurl/https://objects.eodc.eu/e05ab01a9d56408d82ac32d69a5aae2a:202507-s02msil2a/21/products/cpm_v256/S2B_MSIL2A_20250721T073619_N0511_R092_T36HUG_20250721T095416.zarr/conditions/mask/detector_footprint/r60m/b01\"',\n",
       "  'Array /conditions/mask/detector_footprint/r60m/b01'),\n",
       " ('EOPFZARR:\"/vsicurl/https://objects.eodc.eu/e05ab01a9d56408d82ac32d69a5aae2a:202507-s02msil2a/21/products/cpm_v256/S2B_MSIL2A_20250721T073619_N0511_R092_T36HUG_20250721T095416.zarr/conditions/mask/detector_footprint/r60m/b09\"',\n",
       "  'Array /conditions/mask/detector_footprint/r60m/b09'),\n",
       " ('EOPFZARR:\"/vsicurl/https://objects.eodc.eu/e05ab01a9d56408d82ac32d69a5aae2a:202507-s02msil2a/21/products/cpm_v256/S2B_MSIL2A_20250721T073619_N0511_R092_T36HUG_20250721T095416.zarr/conditions/mask/detector_footprint/r60m/b10\"',\n",
       "  'Array /conditions/mask/detector_footprint/r60m/b10'),\n",
       " ('EOPFZARR:\"/vsicurl/https://objects.eodc.eu/e05ab01a9d56408d82ac32d69a5aae2a:202507-s02msil2a/21/products/cpm_v256/S2B_MSIL2A_20250721T073619_N0511_R092_T36HUG_20250721T095416.zarr/conditions/mask/l1c_classification/r60m/x\"',\n",
       "  'Array /conditions/mask/l1c_classification/r60m/x'),\n",
       " ('EOPFZARR:\"/vsicurl/https://objects.eodc.eu/e05ab01a9d56408d82ac32d69a5aae2a:202507-s02msil2a/21/products/cpm_v256/S2B_MSIL2A_20250721T073619_N0511_R092_T36HUG_20250721T095416.zarr/conditions/mask/l1c_classification/r60m/y\"',\n",
       "  'Array /conditions/mask/l1c_classification/r60m/y'),\n",
       " ('EOPFZARR:\"/vsicurl/https://objects.eodc.eu/e05ab01a9d56408d82ac32d69a5aae2a:202507-s02msil2a/21/products/cpm_v256/S2B_MSIL2A_20250721T073619_N0511_R092_T36HUG_20250721T095416.zarr/conditions/mask/l1c_classification/r60m/b00\"',\n",
       "  'Array /conditions/mask/l1c_classification/r60m/b00'),\n",
       " ('EOPFZARR:\"/vsicurl/https://objects.eodc.eu/e05ab01a9d56408d82ac32d69a5aae2a:202507-s02msil2a/21/products/cpm_v256/S2B_MSIL2A_20250721T073619_N0511_R092_T36HUG_20250721T095416.zarr/conditions/mask/l2a_classification/r20m/x\"',\n",
       "  'Array /conditions/mask/l2a_classification/r20m/x'),\n",
       " ('EOPFZARR:\"/vsicurl/https://objects.eodc.eu/e05ab01a9d56408d82ac32d69a5aae2a:202507-s02msil2a/21/products/cpm_v256/S2B_MSIL2A_20250721T073619_N0511_R092_T36HUG_20250721T095416.zarr/conditions/mask/l2a_classification/r20m/y\"',\n",
       "  'Array /conditions/mask/l2a_classification/r20m/y'),\n",
       " ('EOPFZARR:\"/vsicurl/https://objects.eodc.eu/e05ab01a9d56408d82ac32d69a5aae2a:202507-s02msil2a/21/products/cpm_v256/S2B_MSIL2A_20250721T073619_N0511_R092_T36HUG_20250721T095416.zarr/conditions/mask/l2a_classification/r20m/scl\"',\n",
       "  'Array /conditions/mask/l2a_classification/r20m/scl'),\n",
       " ('EOPFZARR:\"/vsicurl/https://objects.eodc.eu/e05ab01a9d56408d82ac32d69a5aae2a:202507-s02msil2a/21/products/cpm_v256/S2B_MSIL2A_20250721T073619_N0511_R092_T36HUG_20250721T095416.zarr/conditions/mask/l2a_classification/r60m/x\"',\n",
       "  'Array /conditions/mask/l2a_classification/r60m/x'),\n",
       " ('EOPFZARR:\"/vsicurl/https://objects.eodc.eu/e05ab01a9d56408d82ac32d69a5aae2a:202507-s02msil2a/21/products/cpm_v256/S2B_MSIL2A_20250721T073619_N0511_R092_T36HUG_20250721T095416.zarr/conditions/mask/l2a_classification/r60m/y\"',\n",
       "  'Array /conditions/mask/l2a_classification/r60m/y'),\n",
       " ('EOPFZARR:\"/vsicurl/https://objects.eodc.eu/e05ab01a9d56408d82ac32d69a5aae2a:202507-s02msil2a/21/products/cpm_v256/S2B_MSIL2A_20250721T073619_N0511_R092_T36HUG_20250721T095416.zarr/conditions/mask/l2a_classification/r60m/scl\"',\n",
       "  'Array /conditions/mask/l2a_classification/r60m/scl'),\n",
       " ('EOPFZARR:\"/vsicurl/https://objects.eodc.eu/e05ab01a9d56408d82ac32d69a5aae2a:202507-s02msil2a/21/products/cpm_v256/S2B_MSIL2A_20250721T073619_N0511_R092_T36HUG_20250721T095416.zarr/conditions/meteorology/cams/latitude\"',\n",
       "  'Array /conditions/meteorology/cams/latitude'),\n",
       " ('EOPFZARR:\"/vsicurl/https://objects.eodc.eu/e05ab01a9d56408d82ac32d69a5aae2a:202507-s02msil2a/21/products/cpm_v256/S2B_MSIL2A_20250721T073619_N0511_R092_T36HUG_20250721T095416.zarr/conditions/meteorology/cams/longitude\"',\n",
       "  'Array /conditions/meteorology/cams/longitude'),\n",
       " ('EOPFZARR:\"/vsicurl/https://objects.eodc.eu/e05ab01a9d56408d82ac32d69a5aae2a:202507-s02msil2a/21/products/cpm_v256/S2B_MSIL2A_20250721T073619_N0511_R092_T36HUG_20250721T095416.zarr/conditions/meteorology/cams/aod1240\"',\n",
       "  'Array /conditions/meteorology/cams/aod1240'),\n",
       " ('EOPFZARR:\"/vsicurl/https://objects.eodc.eu/e05ab01a9d56408d82ac32d69a5aae2a:202507-s02msil2a/21/products/cpm_v256/S2B_MSIL2A_20250721T073619_N0511_R092_T36HUG_20250721T095416.zarr/conditions/meteorology/cams/aod469\"',\n",
       "  'Array /conditions/meteorology/cams/aod469'),\n",
       " ('EOPFZARR:\"/vsicurl/https://objects.eodc.eu/e05ab01a9d56408d82ac32d69a5aae2a:202507-s02msil2a/21/products/cpm_v256/S2B_MSIL2A_20250721T073619_N0511_R092_T36HUG_20250721T095416.zarr/conditions/meteorology/cams/aod550\"',\n",
       "  'Array /conditions/meteorology/cams/aod550'),\n",
       " ('EOPFZARR:\"/vsicurl/https://objects.eodc.eu/e05ab01a9d56408d82ac32d69a5aae2a:202507-s02msil2a/21/products/cpm_v256/S2B_MSIL2A_20250721T073619_N0511_R092_T36HUG_20250721T095416.zarr/conditions/meteorology/cams/aod670\"',\n",
       "  'Array /conditions/meteorology/cams/aod670'),\n",
       " ('EOPFZARR:\"/vsicurl/https://objects.eodc.eu/e05ab01a9d56408d82ac32d69a5aae2a:202507-s02msil2a/21/products/cpm_v256/S2B_MSIL2A_20250721T073619_N0511_R092_T36HUG_20250721T095416.zarr/conditions/meteorology/cams/aod865\"',\n",
       "  'Array /conditions/meteorology/cams/aod865'),\n",
       " ('EOPFZARR:\"/vsicurl/https://objects.eodc.eu/e05ab01a9d56408d82ac32d69a5aae2a:202507-s02msil2a/21/products/cpm_v256/S2B_MSIL2A_20250721T073619_N0511_R092_T36HUG_20250721T095416.zarr/conditions/meteorology/cams/bcaod550\"',\n",
       "  'Array /conditions/meteorology/cams/bcaod550'),\n",
       " ('EOPFZARR:\"/vsicurl/https://objects.eodc.eu/e05ab01a9d56408d82ac32d69a5aae2a:202507-s02msil2a/21/products/cpm_v256/S2B_MSIL2A_20250721T073619_N0511_R092_T36HUG_20250721T095416.zarr/conditions/meteorology/cams/duaod550\"',\n",
       "  'Array /conditions/meteorology/cams/duaod550'),\n",
       " ('EOPFZARR:\"/vsicurl/https://objects.eodc.eu/e05ab01a9d56408d82ac32d69a5aae2a:202507-s02msil2a/21/products/cpm_v256/S2B_MSIL2A_20250721T073619_N0511_R092_T36HUG_20250721T095416.zarr/conditions/meteorology/cams/isobaricInhPa\"',\n",
       "  'Array /conditions/meteorology/cams/isobaricInhPa'),\n",
       " ('EOPFZARR:\"/vsicurl/https://objects.eodc.eu/e05ab01a9d56408d82ac32d69a5aae2a:202507-s02msil2a/21/products/cpm_v256/S2B_MSIL2A_20250721T073619_N0511_R092_T36HUG_20250721T095416.zarr/conditions/meteorology/cams/number\"',\n",
       "  'Array /conditions/meteorology/cams/number'),\n",
       " ('EOPFZARR:\"/vsicurl/https://objects.eodc.eu/e05ab01a9d56408d82ac32d69a5aae2a:202507-s02msil2a/21/products/cpm_v256/S2B_MSIL2A_20250721T073619_N0511_R092_T36HUG_20250721T095416.zarr/conditions/meteorology/cams/omaod550\"',\n",
       "  'Array /conditions/meteorology/cams/omaod550'),\n",
       " ('EOPFZARR:\"/vsicurl/https://objects.eodc.eu/e05ab01a9d56408d82ac32d69a5aae2a:202507-s02msil2a/21/products/cpm_v256/S2B_MSIL2A_20250721T073619_N0511_R092_T36HUG_20250721T095416.zarr/conditions/meteorology/cams/ssaod550\"',\n",
       "  'Array /conditions/meteorology/cams/ssaod550'),\n",
       " ('EOPFZARR:\"/vsicurl/https://objects.eodc.eu/e05ab01a9d56408d82ac32d69a5aae2a:202507-s02msil2a/21/products/cpm_v256/S2B_MSIL2A_20250721T073619_N0511_R092_T36HUG_20250721T095416.zarr/conditions/meteorology/cams/step\"',\n",
       "  'Array /conditions/meteorology/cams/step'),\n",
       " ('EOPFZARR:\"/vsicurl/https://objects.eodc.eu/e05ab01a9d56408d82ac32d69a5aae2a:202507-s02msil2a/21/products/cpm_v256/S2B_MSIL2A_20250721T073619_N0511_R092_T36HUG_20250721T095416.zarr/conditions/meteorology/cams/suaod550\"',\n",
       "  'Array /conditions/meteorology/cams/suaod550'),\n",
       " ('EOPFZARR:\"/vsicurl/https://objects.eodc.eu/e05ab01a9d56408d82ac32d69a5aae2a:202507-s02msil2a/21/products/cpm_v256/S2B_MSIL2A_20250721T073619_N0511_R092_T36HUG_20250721T095416.zarr/conditions/meteorology/cams/surface\"',\n",
       "  'Array /conditions/meteorology/cams/surface'),\n",
       " ('EOPFZARR:\"/vsicurl/https://objects.eodc.eu/e05ab01a9d56408d82ac32d69a5aae2a:202507-s02msil2a/21/products/cpm_v256/S2B_MSIL2A_20250721T073619_N0511_R092_T36HUG_20250721T095416.zarr/conditions/meteorology/cams/time\"',\n",
       "  'Array /conditions/meteorology/cams/time'),\n",
       " ('EOPFZARR:\"/vsicurl/https://objects.eodc.eu/e05ab01a9d56408d82ac32d69a5aae2a:202507-s02msil2a/21/products/cpm_v256/S2B_MSIL2A_20250721T073619_N0511_R092_T36HUG_20250721T095416.zarr/conditions/meteorology/cams/valid_time\"',\n",
       "  'Array /conditions/meteorology/cams/valid_time'),\n",
       " ('EOPFZARR:\"/vsicurl/https://objects.eodc.eu/e05ab01a9d56408d82ac32d69a5aae2a:202507-s02msil2a/21/products/cpm_v256/S2B_MSIL2A_20250721T073619_N0511_R092_T36HUG_20250721T095416.zarr/conditions/meteorology/cams/z\"',\n",
       "  'Array /conditions/meteorology/cams/z'),\n",
       " ('EOPFZARR:\"/vsicurl/https://objects.eodc.eu/e05ab01a9d56408d82ac32d69a5aae2a:202507-s02msil2a/21/products/cpm_v256/S2B_MSIL2A_20250721T073619_N0511_R092_T36HUG_20250721T095416.zarr/conditions/meteorology/ecmwf/latitude\"',\n",
       "  'Array /conditions/meteorology/ecmwf/latitude'),\n",
       " ('EOPFZARR:\"/vsicurl/https://objects.eodc.eu/e05ab01a9d56408d82ac32d69a5aae2a:202507-s02msil2a/21/products/cpm_v256/S2B_MSIL2A_20250721T073619_N0511_R092_T36HUG_20250721T095416.zarr/conditions/meteorology/ecmwf/longitude\"',\n",
       "  'Array /conditions/meteorology/ecmwf/longitude'),\n",
       " ('EOPFZARR:\"/vsicurl/https://objects.eodc.eu/e05ab01a9d56408d82ac32d69a5aae2a:202507-s02msil2a/21/products/cpm_v256/S2B_MSIL2A_20250721T073619_N0511_R092_T36HUG_20250721T095416.zarr/conditions/meteorology/ecmwf/isobaricInhPa\"',\n",
       "  'Array /conditions/meteorology/ecmwf/isobaricInhPa'),\n",
       " ('EOPFZARR:\"/vsicurl/https://objects.eodc.eu/e05ab01a9d56408d82ac32d69a5aae2a:202507-s02msil2a/21/products/cpm_v256/S2B_MSIL2A_20250721T073619_N0511_R092_T36HUG_20250721T095416.zarr/conditions/meteorology/ecmwf/msl\"',\n",
       "  'Array /conditions/meteorology/ecmwf/msl'),\n",
       " ('EOPFZARR:\"/vsicurl/https://objects.eodc.eu/e05ab01a9d56408d82ac32d69a5aae2a:202507-s02msil2a/21/products/cpm_v256/S2B_MSIL2A_20250721T073619_N0511_R092_T36HUG_20250721T095416.zarr/conditions/meteorology/ecmwf/number\"',\n",
       "  'Array /conditions/meteorology/ecmwf/number'),\n",
       " ('EOPFZARR:\"/vsicurl/https://objects.eodc.eu/e05ab01a9d56408d82ac32d69a5aae2a:202507-s02msil2a/21/products/cpm_v256/S2B_MSIL2A_20250721T073619_N0511_R092_T36HUG_20250721T095416.zarr/conditions/meteorology/ecmwf/r\"',\n",
       "  'Array /conditions/meteorology/ecmwf/r'),\n",
       " ('EOPFZARR:\"/vsicurl/https://objects.eodc.eu/e05ab01a9d56408d82ac32d69a5aae2a:202507-s02msil2a/21/products/cpm_v256/S2B_MSIL2A_20250721T073619_N0511_R092_T36HUG_20250721T095416.zarr/conditions/meteorology/ecmwf/step\"',\n",
       "  'Array /conditions/meteorology/ecmwf/step'),\n",
       " ('EOPFZARR:\"/vsicurl/https://objects.eodc.eu/e05ab01a9d56408d82ac32d69a5aae2a:202507-s02msil2a/21/products/cpm_v256/S2B_MSIL2A_20250721T073619_N0511_R092_T36HUG_20250721T095416.zarr/conditions/meteorology/ecmwf/surface\"',\n",
       "  'Array /conditions/meteorology/ecmwf/surface'),\n",
       " ('EOPFZARR:\"/vsicurl/https://objects.eodc.eu/e05ab01a9d56408d82ac32d69a5aae2a:202507-s02msil2a/21/products/cpm_v256/S2B_MSIL2A_20250721T073619_N0511_R092_T36HUG_20250721T095416.zarr/conditions/meteorology/ecmwf/tco3\"',\n",
       "  'Array /conditions/meteorology/ecmwf/tco3'),\n",
       " ('EOPFZARR:\"/vsicurl/https://objects.eodc.eu/e05ab01a9d56408d82ac32d69a5aae2a:202507-s02msil2a/21/products/cpm_v256/S2B_MSIL2A_20250721T073619_N0511_R092_T36HUG_20250721T095416.zarr/conditions/meteorology/ecmwf/tcwv\"',\n",
       "  'Array /conditions/meteorology/ecmwf/tcwv'),\n",
       " ('EOPFZARR:\"/vsicurl/https://objects.eodc.eu/e05ab01a9d56408d82ac32d69a5aae2a:202507-s02msil2a/21/products/cpm_v256/S2B_MSIL2A_20250721T073619_N0511_R092_T36HUG_20250721T095416.zarr/conditions/meteorology/ecmwf/time\"',\n",
       "  'Array /conditions/meteorology/ecmwf/time'),\n",
       " ('EOPFZARR:\"/vsicurl/https://objects.eodc.eu/e05ab01a9d56408d82ac32d69a5aae2a:202507-s02msil2a/21/products/cpm_v256/S2B_MSIL2A_20250721T073619_N0511_R092_T36HUG_20250721T095416.zarr/conditions/meteorology/ecmwf/u10\"',\n",
       "  'Array /conditions/meteorology/ecmwf/u10'),\n",
       " ('EOPFZARR:\"/vsicurl/https://objects.eodc.eu/e05ab01a9d56408d82ac32d69a5aae2a:202507-s02msil2a/21/products/cpm_v256/S2B_MSIL2A_20250721T073619_N0511_R092_T36HUG_20250721T095416.zarr/conditions/meteorology/ecmwf/v10\"',\n",
       "  'Array /conditions/meteorology/ecmwf/v10'),\n",
       " ('EOPFZARR:\"/vsicurl/https://objects.eodc.eu/e05ab01a9d56408d82ac32d69a5aae2a:202507-s02msil2a/21/products/cpm_v256/S2B_MSIL2A_20250721T073619_N0511_R092_T36HUG_20250721T095416.zarr/conditions/meteorology/ecmwf/valid_time\"',\n",
       "  'Array /conditions/meteorology/ecmwf/valid_time'),\n",
       " ('EOPFZARR:\"/vsicurl/https://objects.eodc.eu/e05ab01a9d56408d82ac32d69a5aae2a:202507-s02msil2a/21/products/cpm_v256/S2B_MSIL2A_20250721T073619_N0511_R092_T36HUG_20250721T095416.zarr/measurements/reflectance/r10m/x\"',\n",
       "  'Array /measurements/reflectance/r10m/x'),\n",
       " ('EOPFZARR:\"/vsicurl/https://objects.eodc.eu/e05ab01a9d56408d82ac32d69a5aae2a:202507-s02msil2a/21/products/cpm_v256/S2B_MSIL2A_20250721T073619_N0511_R092_T36HUG_20250721T095416.zarr/measurements/reflectance/r10m/y\"',\n",
       "  'Array /measurements/reflectance/r10m/y'),\n",
       " ('EOPFZARR:\"/vsicurl/https://objects.eodc.eu/e05ab01a9d56408d82ac32d69a5aae2a:202507-s02msil2a/21/products/cpm_v256/S2B_MSIL2A_20250721T073619_N0511_R092_T36HUG_20250721T095416.zarr/measurements/reflectance/r10m/b02\"',\n",
       "  'Array /measurements/reflectance/r10m/b02'),\n",
       " ('EOPFZARR:\"/vsicurl/https://objects.eodc.eu/e05ab01a9d56408d82ac32d69a5aae2a:202507-s02msil2a/21/products/cpm_v256/S2B_MSIL2A_20250721T073619_N0511_R092_T36HUG_20250721T095416.zarr/measurements/reflectance/r10m/b03\"',\n",
       "  'Array /measurements/reflectance/r10m/b03'),\n",
       " ('EOPFZARR:\"/vsicurl/https://objects.eodc.eu/e05ab01a9d56408d82ac32d69a5aae2a:202507-s02msil2a/21/products/cpm_v256/S2B_MSIL2A_20250721T073619_N0511_R092_T36HUG_20250721T095416.zarr/measurements/reflectance/r10m/b04\"',\n",
       "  'Array /measurements/reflectance/r10m/b04'),\n",
       " ('EOPFZARR:\"/vsicurl/https://objects.eodc.eu/e05ab01a9d56408d82ac32d69a5aae2a:202507-s02msil2a/21/products/cpm_v256/S2B_MSIL2A_20250721T073619_N0511_R092_T36HUG_20250721T095416.zarr/measurements/reflectance/r10m/b08\"',\n",
       "  'Array /measurements/reflectance/r10m/b08'),\n",
       " ('EOPFZARR:\"/vsicurl/https://objects.eodc.eu/e05ab01a9d56408d82ac32d69a5aae2a:202507-s02msil2a/21/products/cpm_v256/S2B_MSIL2A_20250721T073619_N0511_R092_T36HUG_20250721T095416.zarr/measurements/reflectance/r20m/x\"',\n",
       "  'Array /measurements/reflectance/r20m/x'),\n",
       " ('EOPFZARR:\"/vsicurl/https://objects.eodc.eu/e05ab01a9d56408d82ac32d69a5aae2a:202507-s02msil2a/21/products/cpm_v256/S2B_MSIL2A_20250721T073619_N0511_R092_T36HUG_20250721T095416.zarr/measurements/reflectance/r20m/y\"',\n",
       "  'Array /measurements/reflectance/r20m/y'),\n",
       " ('EOPFZARR:\"/vsicurl/https://objects.eodc.eu/e05ab01a9d56408d82ac32d69a5aae2a:202507-s02msil2a/21/products/cpm_v256/S2B_MSIL2A_20250721T073619_N0511_R092_T36HUG_20250721T095416.zarr/measurements/reflectance/r20m/b01\"',\n",
       "  'Array /measurements/reflectance/r20m/b01'),\n",
       " ('EOPFZARR:\"/vsicurl/https://objects.eodc.eu/e05ab01a9d56408d82ac32d69a5aae2a:202507-s02msil2a/21/products/cpm_v256/S2B_MSIL2A_20250721T073619_N0511_R092_T36HUG_20250721T095416.zarr/measurements/reflectance/r20m/b02\"',\n",
       "  'Array /measurements/reflectance/r20m/b02'),\n",
       " ('EOPFZARR:\"/vsicurl/https://objects.eodc.eu/e05ab01a9d56408d82ac32d69a5aae2a:202507-s02msil2a/21/products/cpm_v256/S2B_MSIL2A_20250721T073619_N0511_R092_T36HUG_20250721T095416.zarr/measurements/reflectance/r20m/b03\"',\n",
       "  'Array /measurements/reflectance/r20m/b03'),\n",
       " ('EOPFZARR:\"/vsicurl/https://objects.eodc.eu/e05ab01a9d56408d82ac32d69a5aae2a:202507-s02msil2a/21/products/cpm_v256/S2B_MSIL2A_20250721T073619_N0511_R092_T36HUG_20250721T095416.zarr/measurements/reflectance/r20m/b04\"',\n",
       "  'Array /measurements/reflectance/r20m/b04'),\n",
       " ('EOPFZARR:\"/vsicurl/https://objects.eodc.eu/e05ab01a9d56408d82ac32d69a5aae2a:202507-s02msil2a/21/products/cpm_v256/S2B_MSIL2A_20250721T073619_N0511_R092_T36HUG_20250721T095416.zarr/measurements/reflectance/r20m/b05\"',\n",
       "  'Array /measurements/reflectance/r20m/b05'),\n",
       " ('EOPFZARR:\"/vsicurl/https://objects.eodc.eu/e05ab01a9d56408d82ac32d69a5aae2a:202507-s02msil2a/21/products/cpm_v256/S2B_MSIL2A_20250721T073619_N0511_R092_T36HUG_20250721T095416.zarr/measurements/reflectance/r20m/b06\"',\n",
       "  'Array /measurements/reflectance/r20m/b06'),\n",
       " ('EOPFZARR:\"/vsicurl/https://objects.eodc.eu/e05ab01a9d56408d82ac32d69a5aae2a:202507-s02msil2a/21/products/cpm_v256/S2B_MSIL2A_20250721T073619_N0511_R092_T36HUG_20250721T095416.zarr/measurements/reflectance/r20m/b07\"',\n",
       "  'Array /measurements/reflectance/r20m/b07'),\n",
       " ('EOPFZARR:\"/vsicurl/https://objects.eodc.eu/e05ab01a9d56408d82ac32d69a5aae2a:202507-s02msil2a/21/products/cpm_v256/S2B_MSIL2A_20250721T073619_N0511_R092_T36HUG_20250721T095416.zarr/measurements/reflectance/r20m/b11\"',\n",
       "  'Array /measurements/reflectance/r20m/b11'),\n",
       " ('EOPFZARR:\"/vsicurl/https://objects.eodc.eu/e05ab01a9d56408d82ac32d69a5aae2a:202507-s02msil2a/21/products/cpm_v256/S2B_MSIL2A_20250721T073619_N0511_R092_T36HUG_20250721T095416.zarr/measurements/reflectance/r20m/b12\"',\n",
       "  'Array /measurements/reflectance/r20m/b12'),\n",
       " ('EOPFZARR:\"/vsicurl/https://objects.eodc.eu/e05ab01a9d56408d82ac32d69a5aae2a:202507-s02msil2a/21/products/cpm_v256/S2B_MSIL2A_20250721T073619_N0511_R092_T36HUG_20250721T095416.zarr/measurements/reflectance/r20m/b8a\"',\n",
       "  'Array /measurements/reflectance/r20m/b8a'),\n",
       " ('EOPFZARR:\"/vsicurl/https://objects.eodc.eu/e05ab01a9d56408d82ac32d69a5aae2a:202507-s02msil2a/21/products/cpm_v256/S2B_MSIL2A_20250721T073619_N0511_R092_T36HUG_20250721T095416.zarr/measurements/reflectance/r60m/x\"',\n",
       "  'Array /measurements/reflectance/r60m/x'),\n",
       " ('EOPFZARR:\"/vsicurl/https://objects.eodc.eu/e05ab01a9d56408d82ac32d69a5aae2a:202507-s02msil2a/21/products/cpm_v256/S2B_MSIL2A_20250721T073619_N0511_R092_T36HUG_20250721T095416.zarr/measurements/reflectance/r60m/y\"',\n",
       "  'Array /measurements/reflectance/r60m/y'),\n",
       " ('EOPFZARR:\"/vsicurl/https://objects.eodc.eu/e05ab01a9d56408d82ac32d69a5aae2a:202507-s02msil2a/21/products/cpm_v256/S2B_MSIL2A_20250721T073619_N0511_R092_T36HUG_20250721T095416.zarr/measurements/reflectance/r60m/b01\"',\n",
       "  'Array /measurements/reflectance/r60m/b01'),\n",
       " ('EOPFZARR:\"/vsicurl/https://objects.eodc.eu/e05ab01a9d56408d82ac32d69a5aae2a:202507-s02msil2a/21/products/cpm_v256/S2B_MSIL2A_20250721T073619_N0511_R092_T36HUG_20250721T095416.zarr/measurements/reflectance/r60m/b02\"',\n",
       "  'Array /measurements/reflectance/r60m/b02'),\n",
       " ('EOPFZARR:\"/vsicurl/https://objects.eodc.eu/e05ab01a9d56408d82ac32d69a5aae2a:202507-s02msil2a/21/products/cpm_v256/S2B_MSIL2A_20250721T073619_N0511_R092_T36HUG_20250721T095416.zarr/measurements/reflectance/r60m/b03\"',\n",
       "  'Array /measurements/reflectance/r60m/b03'),\n",
       " ('EOPFZARR:\"/vsicurl/https://objects.eodc.eu/e05ab01a9d56408d82ac32d69a5aae2a:202507-s02msil2a/21/products/cpm_v256/S2B_MSIL2A_20250721T073619_N0511_R092_T36HUG_20250721T095416.zarr/measurements/reflectance/r60m/b04\"',\n",
       "  'Array /measurements/reflectance/r60m/b04'),\n",
       " ('EOPFZARR:\"/vsicurl/https://objects.eodc.eu/e05ab01a9d56408d82ac32d69a5aae2a:202507-s02msil2a/21/products/cpm_v256/S2B_MSIL2A_20250721T073619_N0511_R092_T36HUG_20250721T095416.zarr/measurements/reflectance/r60m/b05\"',\n",
       "  'Array /measurements/reflectance/r60m/b05'),\n",
       " ('EOPFZARR:\"/vsicurl/https://objects.eodc.eu/e05ab01a9d56408d82ac32d69a5aae2a:202507-s02msil2a/21/products/cpm_v256/S2B_MSIL2A_20250721T073619_N0511_R092_T36HUG_20250721T095416.zarr/measurements/reflectance/r60m/b06\"',\n",
       "  'Array /measurements/reflectance/r60m/b06'),\n",
       " ('EOPFZARR:\"/vsicurl/https://objects.eodc.eu/e05ab01a9d56408d82ac32d69a5aae2a:202507-s02msil2a/21/products/cpm_v256/S2B_MSIL2A_20250721T073619_N0511_R092_T36HUG_20250721T095416.zarr/measurements/reflectance/r60m/b07\"',\n",
       "  'Array /measurements/reflectance/r60m/b07'),\n",
       " ('EOPFZARR:\"/vsicurl/https://objects.eodc.eu/e05ab01a9d56408d82ac32d69a5aae2a:202507-s02msil2a/21/products/cpm_v256/S2B_MSIL2A_20250721T073619_N0511_R092_T36HUG_20250721T095416.zarr/measurements/reflectance/r60m/b09\"',\n",
       "  'Array /measurements/reflectance/r60m/b09'),\n",
       " ('EOPFZARR:\"/vsicurl/https://objects.eodc.eu/e05ab01a9d56408d82ac32d69a5aae2a:202507-s02msil2a/21/products/cpm_v256/S2B_MSIL2A_20250721T073619_N0511_R092_T36HUG_20250721T095416.zarr/measurements/reflectance/r60m/b11\"',\n",
       "  'Array /measurements/reflectance/r60m/b11'),\n",
       " ('EOPFZARR:\"/vsicurl/https://objects.eodc.eu/e05ab01a9d56408d82ac32d69a5aae2a:202507-s02msil2a/21/products/cpm_v256/S2B_MSIL2A_20250721T073619_N0511_R092_T36HUG_20250721T095416.zarr/measurements/reflectance/r60m/b12\"',\n",
       "  'Array /measurements/reflectance/r60m/b12'),\n",
       " ('EOPFZARR:\"/vsicurl/https://objects.eodc.eu/e05ab01a9d56408d82ac32d69a5aae2a:202507-s02msil2a/21/products/cpm_v256/S2B_MSIL2A_20250721T073619_N0511_R092_T36HUG_20250721T095416.zarr/measurements/reflectance/r60m/b8a\"',\n",
       "  'Array /measurements/reflectance/r60m/b8a'),\n",
       " ('EOPFZARR:\"/vsicurl/https://objects.eodc.eu/e05ab01a9d56408d82ac32d69a5aae2a:202507-s02msil2a/21/products/cpm_v256/S2B_MSIL2A_20250721T073619_N0511_R092_T36HUG_20250721T095416.zarr/quality/atmosphere/r10m/x\"',\n",
       "  'Array /quality/atmosphere/r10m/x'),\n",
       " ('EOPFZARR:\"/vsicurl/https://objects.eodc.eu/e05ab01a9d56408d82ac32d69a5aae2a:202507-s02msil2a/21/products/cpm_v256/S2B_MSIL2A_20250721T073619_N0511_R092_T36HUG_20250721T095416.zarr/quality/atmosphere/r10m/y\"',\n",
       "  'Array /quality/atmosphere/r10m/y'),\n",
       " ('EOPFZARR:\"/vsicurl/https://objects.eodc.eu/e05ab01a9d56408d82ac32d69a5aae2a:202507-s02msil2a/21/products/cpm_v256/S2B_MSIL2A_20250721T073619_N0511_R092_T36HUG_20250721T095416.zarr/quality/atmosphere/r10m/aot\"',\n",
       "  'Array /quality/atmosphere/r10m/aot'),\n",
       " ('EOPFZARR:\"/vsicurl/https://objects.eodc.eu/e05ab01a9d56408d82ac32d69a5aae2a:202507-s02msil2a/21/products/cpm_v256/S2B_MSIL2A_20250721T073619_N0511_R092_T36HUG_20250721T095416.zarr/quality/atmosphere/r10m/wvp\"',\n",
       "  'Array /quality/atmosphere/r10m/wvp'),\n",
       " ('EOPFZARR:\"/vsicurl/https://objects.eodc.eu/e05ab01a9d56408d82ac32d69a5aae2a:202507-s02msil2a/21/products/cpm_v256/S2B_MSIL2A_20250721T073619_N0511_R092_T36HUG_20250721T095416.zarr/quality/atmosphere/r20m/x\"',\n",
       "  'Array /quality/atmosphere/r20m/x'),\n",
       " ('EOPFZARR:\"/vsicurl/https://objects.eodc.eu/e05ab01a9d56408d82ac32d69a5aae2a:202507-s02msil2a/21/products/cpm_v256/S2B_MSIL2A_20250721T073619_N0511_R092_T36HUG_20250721T095416.zarr/quality/atmosphere/r20m/y\"',\n",
       "  'Array /quality/atmosphere/r20m/y'),\n",
       " ('EOPFZARR:\"/vsicurl/https://objects.eodc.eu/e05ab01a9d56408d82ac32d69a5aae2a:202507-s02msil2a/21/products/cpm_v256/S2B_MSIL2A_20250721T073619_N0511_R092_T36HUG_20250721T095416.zarr/quality/atmosphere/r20m/aot\"',\n",
       "  'Array /quality/atmosphere/r20m/aot'),\n",
       " ('EOPFZARR:\"/vsicurl/https://objects.eodc.eu/e05ab01a9d56408d82ac32d69a5aae2a:202507-s02msil2a/21/products/cpm_v256/S2B_MSIL2A_20250721T073619_N0511_R092_T36HUG_20250721T095416.zarr/quality/atmosphere/r20m/wvp\"',\n",
       "  'Array /quality/atmosphere/r20m/wvp'),\n",
       " ('EOPFZARR:\"/vsicurl/https://objects.eodc.eu/e05ab01a9d56408d82ac32d69a5aae2a:202507-s02msil2a/21/products/cpm_v256/S2B_MSIL2A_20250721T073619_N0511_R092_T36HUG_20250721T095416.zarr/quality/atmosphere/r60m/x\"',\n",
       "  'Array /quality/atmosphere/r60m/x'),\n",
       " ('EOPFZARR:\"/vsicurl/https://objects.eodc.eu/e05ab01a9d56408d82ac32d69a5aae2a:202507-s02msil2a/21/products/cpm_v256/S2B_MSIL2A_20250721T073619_N0511_R092_T36HUG_20250721T095416.zarr/quality/atmosphere/r60m/y\"',\n",
       "  'Array /quality/atmosphere/r60m/y'),\n",
       " ('EOPFZARR:\"/vsicurl/https://objects.eodc.eu/e05ab01a9d56408d82ac32d69a5aae2a:202507-s02msil2a/21/products/cpm_v256/S2B_MSIL2A_20250721T073619_N0511_R092_T36HUG_20250721T095416.zarr/quality/atmosphere/r60m/aot\"',\n",
       "  'Array /quality/atmosphere/r60m/aot'),\n",
       " ('EOPFZARR:\"/vsicurl/https://objects.eodc.eu/e05ab01a9d56408d82ac32d69a5aae2a:202507-s02msil2a/21/products/cpm_v256/S2B_MSIL2A_20250721T073619_N0511_R092_T36HUG_20250721T095416.zarr/quality/atmosphere/r60m/wvp\"',\n",
       "  'Array /quality/atmosphere/r60m/wvp'),\n",
       " ('EOPFZARR:\"/vsicurl/https://objects.eodc.eu/e05ab01a9d56408d82ac32d69a5aae2a:202507-s02msil2a/21/products/cpm_v256/S2B_MSIL2A_20250721T073619_N0511_R092_T36HUG_20250721T095416.zarr/quality/l2a_quicklook/r10m/band\"',\n",
       "  'Array /quality/l2a_quicklook/r10m/band'),\n",
       " ('EOPFZARR:\"/vsicurl/https://objects.eodc.eu/e05ab01a9d56408d82ac32d69a5aae2a:202507-s02msil2a/21/products/cpm_v256/S2B_MSIL2A_20250721T073619_N0511_R092_T36HUG_20250721T095416.zarr/quality/l2a_quicklook/r10m/x\"',\n",
       "  'Array /quality/l2a_quicklook/r10m/x'),\n",
       " ('EOPFZARR:\"/vsicurl/https://objects.eodc.eu/e05ab01a9d56408d82ac32d69a5aae2a:202507-s02msil2a/21/products/cpm_v256/S2B_MSIL2A_20250721T073619_N0511_R092_T36HUG_20250721T095416.zarr/quality/l2a_quicklook/r10m/y\"',\n",
       "  'Array /quality/l2a_quicklook/r10m/y'),\n",
       " ('EOPFZARR:\"/vsicurl/https://objects.eodc.eu/e05ab01a9d56408d82ac32d69a5aae2a:202507-s02msil2a/21/products/cpm_v256/S2B_MSIL2A_20250721T073619_N0511_R092_T36HUG_20250721T095416.zarr/quality/l2a_quicklook/r10m/tci\"',\n",
       "  'Array /quality/l2a_quicklook/r10m/tci'),\n",
       " ('EOPFZARR:\"/vsicurl/https://objects.eodc.eu/e05ab01a9d56408d82ac32d69a5aae2a:202507-s02msil2a/21/products/cpm_v256/S2B_MSIL2A_20250721T073619_N0511_R092_T36HUG_20250721T095416.zarr/quality/l2a_quicklook/r20m/band\"',\n",
       "  'Array /quality/l2a_quicklook/r20m/band'),\n",
       " ('EOPFZARR:\"/vsicurl/https://objects.eodc.eu/e05ab01a9d56408d82ac32d69a5aae2a:202507-s02msil2a/21/products/cpm_v256/S2B_MSIL2A_20250721T073619_N0511_R092_T36HUG_20250721T095416.zarr/quality/l2a_quicklook/r20m/x\"',\n",
       "  'Array /quality/l2a_quicklook/r20m/x'),\n",
       " ('EOPFZARR:\"/vsicurl/https://objects.eodc.eu/e05ab01a9d56408d82ac32d69a5aae2a:202507-s02msil2a/21/products/cpm_v256/S2B_MSIL2A_20250721T073619_N0511_R092_T36HUG_20250721T095416.zarr/quality/l2a_quicklook/r20m/y\"',\n",
       "  'Array /quality/l2a_quicklook/r20m/y'),\n",
       " ('EOPFZARR:\"/vsicurl/https://objects.eodc.eu/e05ab01a9d56408d82ac32d69a5aae2a:202507-s02msil2a/21/products/cpm_v256/S2B_MSIL2A_20250721T073619_N0511_R092_T36HUG_20250721T095416.zarr/quality/l2a_quicklook/r20m/tci\"',\n",
       "  'Array /quality/l2a_quicklook/r20m/tci'),\n",
       " ('EOPFZARR:\"/vsicurl/https://objects.eodc.eu/e05ab01a9d56408d82ac32d69a5aae2a:202507-s02msil2a/21/products/cpm_v256/S2B_MSIL2A_20250721T073619_N0511_R092_T36HUG_20250721T095416.zarr/quality/l2a_quicklook/r60m/band\"',\n",
       "  'Array /quality/l2a_quicklook/r60m/band'),\n",
       " ('EOPFZARR:\"/vsicurl/https://objects.eodc.eu/e05ab01a9d56408d82ac32d69a5aae2a:202507-s02msil2a/21/products/cpm_v256/S2B_MSIL2A_20250721T073619_N0511_R092_T36HUG_20250721T095416.zarr/quality/l2a_quicklook/r60m/x\"',\n",
       "  'Array /quality/l2a_quicklook/r60m/x'),\n",
       " ('EOPFZARR:\"/vsicurl/https://objects.eodc.eu/e05ab01a9d56408d82ac32d69a5aae2a:202507-s02msil2a/21/products/cpm_v256/S2B_MSIL2A_20250721T073619_N0511_R092_T36HUG_20250721T095416.zarr/quality/l2a_quicklook/r60m/y\"',\n",
       "  'Array /quality/l2a_quicklook/r60m/y'),\n",
       " ('EOPFZARR:\"/vsicurl/https://objects.eodc.eu/e05ab01a9d56408d82ac32d69a5aae2a:202507-s02msil2a/21/products/cpm_v256/S2B_MSIL2A_20250721T073619_N0511_R092_T36HUG_20250721T095416.zarr/quality/l2a_quicklook/r60m/tci\"',\n",
       "  'Array /quality/l2a_quicklook/r60m/tci'),\n",
       " ('EOPFZARR:\"/vsicurl/https://objects.eodc.eu/e05ab01a9d56408d82ac32d69a5aae2a:202507-s02msil2a/21/products/cpm_v256/S2B_MSIL2A_20250721T073619_N0511_R092_T36HUG_20250721T095416.zarr/quality/mask/r10m/x\"',\n",
       "  'Array /quality/mask/r10m/x'),\n",
       " ('EOPFZARR:\"/vsicurl/https://objects.eodc.eu/e05ab01a9d56408d82ac32d69a5aae2a:202507-s02msil2a/21/products/cpm_v256/S2B_MSIL2A_20250721T073619_N0511_R092_T36HUG_20250721T095416.zarr/quality/mask/r10m/y\"',\n",
       "  'Array /quality/mask/r10m/y'),\n",
       " ('EOPFZARR:\"/vsicurl/https://objects.eodc.eu/e05ab01a9d56408d82ac32d69a5aae2a:202507-s02msil2a/21/products/cpm_v256/S2B_MSIL2A_20250721T073619_N0511_R092_T36HUG_20250721T095416.zarr/quality/mask/r10m/b02\"',\n",
       "  'Array /quality/mask/r10m/b02'),\n",
       " ('EOPFZARR:\"/vsicurl/https://objects.eodc.eu/e05ab01a9d56408d82ac32d69a5aae2a:202507-s02msil2a/21/products/cpm_v256/S2B_MSIL2A_20250721T073619_N0511_R092_T36HUG_20250721T095416.zarr/quality/mask/r10m/b03\"',\n",
       "  'Array /quality/mask/r10m/b03'),\n",
       " ('EOPFZARR:\"/vsicurl/https://objects.eodc.eu/e05ab01a9d56408d82ac32d69a5aae2a:202507-s02msil2a/21/products/cpm_v256/S2B_MSIL2A_20250721T073619_N0511_R092_T36HUG_20250721T095416.zarr/quality/mask/r10m/b04\"',\n",
       "  'Array /quality/mask/r10m/b04'),\n",
       " ('EOPFZARR:\"/vsicurl/https://objects.eodc.eu/e05ab01a9d56408d82ac32d69a5aae2a:202507-s02msil2a/21/products/cpm_v256/S2B_MSIL2A_20250721T073619_N0511_R092_T36HUG_20250721T095416.zarr/quality/mask/r10m/b08\"',\n",
       "  'Array /quality/mask/r10m/b08'),\n",
       " ('EOPFZARR:\"/vsicurl/https://objects.eodc.eu/e05ab01a9d56408d82ac32d69a5aae2a:202507-s02msil2a/21/products/cpm_v256/S2B_MSIL2A_20250721T073619_N0511_R092_T36HUG_20250721T095416.zarr/quality/mask/r20m/x\"',\n",
       "  'Array /quality/mask/r20m/x'),\n",
       " ('EOPFZARR:\"/vsicurl/https://objects.eodc.eu/e05ab01a9d56408d82ac32d69a5aae2a:202507-s02msil2a/21/products/cpm_v256/S2B_MSIL2A_20250721T073619_N0511_R092_T36HUG_20250721T095416.zarr/quality/mask/r20m/y\"',\n",
       "  'Array /quality/mask/r20m/y'),\n",
       " ('EOPFZARR:\"/vsicurl/https://objects.eodc.eu/e05ab01a9d56408d82ac32d69a5aae2a:202507-s02msil2a/21/products/cpm_v256/S2B_MSIL2A_20250721T073619_N0511_R092_T36HUG_20250721T095416.zarr/quality/mask/r20m/b05\"',\n",
       "  'Array /quality/mask/r20m/b05'),\n",
       " ('EOPFZARR:\"/vsicurl/https://objects.eodc.eu/e05ab01a9d56408d82ac32d69a5aae2a:202507-s02msil2a/21/products/cpm_v256/S2B_MSIL2A_20250721T073619_N0511_R092_T36HUG_20250721T095416.zarr/quality/mask/r20m/b06\"',\n",
       "  'Array /quality/mask/r20m/b06'),\n",
       " ('EOPFZARR:\"/vsicurl/https://objects.eodc.eu/e05ab01a9d56408d82ac32d69a5aae2a:202507-s02msil2a/21/products/cpm_v256/S2B_MSIL2A_20250721T073619_N0511_R092_T36HUG_20250721T095416.zarr/quality/mask/r20m/b07\"',\n",
       "  'Array /quality/mask/r20m/b07'),\n",
       " ('EOPFZARR:\"/vsicurl/https://objects.eodc.eu/e05ab01a9d56408d82ac32d69a5aae2a:202507-s02msil2a/21/products/cpm_v256/S2B_MSIL2A_20250721T073619_N0511_R092_T36HUG_20250721T095416.zarr/quality/mask/r20m/b11\"',\n",
       "  'Array /quality/mask/r20m/b11'),\n",
       " ('EOPFZARR:\"/vsicurl/https://objects.eodc.eu/e05ab01a9d56408d82ac32d69a5aae2a:202507-s02msil2a/21/products/cpm_v256/S2B_MSIL2A_20250721T073619_N0511_R092_T36HUG_20250721T095416.zarr/quality/mask/r20m/b12\"',\n",
       "  'Array /quality/mask/r20m/b12'),\n",
       " ('EOPFZARR:\"/vsicurl/https://objects.eodc.eu/e05ab01a9d56408d82ac32d69a5aae2a:202507-s02msil2a/21/products/cpm_v256/S2B_MSIL2A_20250721T073619_N0511_R092_T36HUG_20250721T095416.zarr/quality/mask/r20m/b8a\"',\n",
       "  'Array /quality/mask/r20m/b8a'),\n",
       " ('EOPFZARR:\"/vsicurl/https://objects.eodc.eu/e05ab01a9d56408d82ac32d69a5aae2a:202507-s02msil2a/21/products/cpm_v256/S2B_MSIL2A_20250721T073619_N0511_R092_T36HUG_20250721T095416.zarr/quality/mask/r60m/x\"',\n",
       "  'Array /quality/mask/r60m/x'),\n",
       " ('EOPFZARR:\"/vsicurl/https://objects.eodc.eu/e05ab01a9d56408d82ac32d69a5aae2a:202507-s02msil2a/21/products/cpm_v256/S2B_MSIL2A_20250721T073619_N0511_R092_T36HUG_20250721T095416.zarr/quality/mask/r60m/y\"',\n",
       "  'Array /quality/mask/r60m/y'),\n",
       " ('EOPFZARR:\"/vsicurl/https://objects.eodc.eu/e05ab01a9d56408d82ac32d69a5aae2a:202507-s02msil2a/21/products/cpm_v256/S2B_MSIL2A_20250721T073619_N0511_R092_T36HUG_20250721T095416.zarr/quality/mask/r60m/b01\"',\n",
       "  'Array /quality/mask/r60m/b01'),\n",
       " ('EOPFZARR:\"/vsicurl/https://objects.eodc.eu/e05ab01a9d56408d82ac32d69a5aae2a:202507-s02msil2a/21/products/cpm_v256/S2B_MSIL2A_20250721T073619_N0511_R092_T36HUG_20250721T095416.zarr/quality/mask/r60m/b09\"',\n",
       "  'Array /quality/mask/r60m/b09'),\n",
       " ('EOPFZARR:\"/vsicurl/https://objects.eodc.eu/e05ab01a9d56408d82ac32d69a5aae2a:202507-s02msil2a/21/products/cpm_v256/S2B_MSIL2A_20250721T073619_N0511_R092_T36HUG_20250721T095416.zarr/quality/mask/r60m/b10\"',\n",
       "  'Array /quality/mask/r60m/b10'),\n",
       " ('EOPFZARR:\"/vsicurl/https://objects.eodc.eu/e05ab01a9d56408d82ac32d69a5aae2a:202507-s02msil2a/21/products/cpm_v256/S2B_MSIL2A_20250721T073619_N0511_R092_T36HUG_20250721T095416.zarr/quality/probability/r20m/x\"',\n",
       "  'Array /quality/probability/r20m/x'),\n",
       " ('EOPFZARR:\"/vsicurl/https://objects.eodc.eu/e05ab01a9d56408d82ac32d69a5aae2a:202507-s02msil2a/21/products/cpm_v256/S2B_MSIL2A_20250721T073619_N0511_R092_T36HUG_20250721T095416.zarr/quality/probability/r20m/y\"',\n",
       "  'Array /quality/probability/r20m/y'),\n",
       " ('EOPFZARR:\"/vsicurl/https://objects.eodc.eu/e05ab01a9d56408d82ac32d69a5aae2a:202507-s02msil2a/21/products/cpm_v256/S2B_MSIL2A_20250721T073619_N0511_R092_T36HUG_20250721T095416.zarr/quality/probability/r20m/band\"',\n",
       "  'Array /quality/probability/r20m/band'),\n",
       " ('EOPFZARR:\"/vsicurl/https://objects.eodc.eu/e05ab01a9d56408d82ac32d69a5aae2a:202507-s02msil2a/21/products/cpm_v256/S2B_MSIL2A_20250721T073619_N0511_R092_T36HUG_20250721T095416.zarr/quality/probability/r20m/cld\"',\n",
       "  'Array /quality/probability/r20m/cld'),\n",
       " ('EOPFZARR:\"/vsicurl/https://objects.eodc.eu/e05ab01a9d56408d82ac32d69a5aae2a:202507-s02msil2a/21/products/cpm_v256/S2B_MSIL2A_20250721T073619_N0511_R092_T36HUG_20250721T095416.zarr/quality/probability/r20m/snw\"',\n",
       "  'Array /quality/probability/r20m/snw')]"
      ]
     },
     "execution_count": 9,
     "metadata": {},
     "output_type": "execute_result"
    }
   ],
   "source": [
    "remote_ds.GetSubDatasets()"
   ]
  },
  {
   "cell_type": "code",
   "execution_count": 10,
   "id": "832b1e6a-06d8-4db8-a254-c85d280150e1",
   "metadata": {},
   "outputs": [
    {
     "data": {
      "text/plain": [
       "('EOPFZARR:\"/vsicurl/https://objects.eodc.eu/e05ab01a9d56408d82ac32d69a5aae2a:202507-s02msil2a/21/products/cpm_v256/S2B_MSIL2A_20250721T073619_N0511_R092_T36HUG_20250721T095416.zarr/conditions/mask/detector_footprint/r20m/b11\"',\n",
       " 'Array /conditions/mask/detector_footprint/r20m/b11')"
      ]
     },
     "execution_count": 10,
     "metadata": {},
     "output_type": "execute_result"
    }
   ],
   "source": [
    "subds1=remote_ds.GetSubDatasets()[20]\n",
    "subds1"
   ]
  },
  {
   "cell_type": "markdown",
   "id": "99b81051-6a80-411c-9000-007c2e9fd6fd",
   "metadata": {},
   "source": [
    "**Open Subdatasets**"
   ]
  },
  {
   "cell_type": "code",
   "execution_count": 11,
   "id": "98b70eff-c45d-41cb-9a93-a1fdfd8c81c1",
   "metadata": {},
   "outputs": [
    {
     "name": "stderr",
     "output_type": "stream",
     "text": [
      "ERROR 3: Cannot open file '/vsicurl/https://objects.eodc.eu/e05ab01a9d56408d82ac32d69a5aae2a:202507-s02msil2a/21/products/cpm_v256/S2B_MSIL2A_20250721T073619_N0511_R092_T36HUG_20250721T095416.zarr/conditions/mask/detector_footprint/r20m/b11/.zmetadata'\n",
      "ERROR 3: Load json file /vsicurl/https://objects.eodc.eu/e05ab01a9d56408d82ac32d69a5aae2a:202507-s02msil2a/21/products/cpm_v256/S2B_MSIL2A_20250721T073619_N0511_R092_T36HUG_20250721T095416.zarr/conditions/mask/detector_footprint/r20m/b11/.zmetadata failed\n"
     ]
    },
    {
     "data": {
      "text/plain": [
       "<osgeo.gdal.Dataset; proxy of <Swig Object of type 'GDALDatasetShadow *' at 0x7fefc07310e0> >"
      ]
     },
     "execution_count": 11,
     "metadata": {},
     "output_type": "execute_result"
    }
   ],
   "source": [
    "subds1_open=gdal.Open(\"EOPFZARR:\" + \"/vsicurl/https://objects.eodc.eu/e05ab01a9d56408d82ac32d69a5aae2a:202507-s02msil2a/21/products/cpm_v256/S2B_MSIL2A_20250721T073619_N0511_R092_T36HUG_20250721T095416.zarr/conditions/mask/detector_footprint/r20m/b11\")\n",
    "subds1_open"
   ]
  },
  {
   "cell_type": "markdown",
   "id": "903823ea-01a1-42b9-a0a5-000f28c93885",
   "metadata": {},
   "source": [
    "- Get Subdatasets Metadata"
   ]
  },
  {
   "cell_type": "code",
   "execution_count": 12,
   "id": "d00a786d-7ac3-45dd-b5b6-47828d40749f",
   "metadata": {},
   "outputs": [
    {
     "data": {
      "text/plain": [
       "{'EOPF_PRODUCT': 'YES',\n",
       " 'EPSG': '32736',\n",
       " 'proj:wkt2': 'PROJCS[\"WGS 84 / UTM zone 36S\",GEOGCS[\"WGS 84\",DATUM[\"WGS_1984\",SPHEROID[\"WGS 84\",6378137,298.257223563,AUTHORITY[\"EPSG\",\"7030\"]],AUTHORITY[\"EPSG\",\"6326\"]],PRIMEM[\"Greenwich\",0,AUTHORITY[\"EPSG\",\"8901\"]],UNIT[\"degree\",0.0174532925199433,AUTHORITY[\"EPSG\",\"9122\"]],AUTHORITY[\"EPSG\",\"4326\"]],PROJECTION[\"Transverse_Mercator\"],PARAMETER[\"latitude_of_origin\",0],PARAMETER[\"central_meridian\",33],PARAMETER[\"scale_factor\",0.9996],PARAMETER[\"false_easting\",500000],PARAMETER[\"false_northing\",10000000],UNIT[\"metre\",1,AUTHORITY[\"EPSG\",\"9001\"]],AXIS[\"Easting\",EAST],AXIS[\"Northing\",NORTH],AUTHORITY[\"EPSG\",\"32736\"]]',\n",
       " 'spatial_ref': 'PROJCS[\"WGS 84 / UTM zone 36S\",GEOGCS[\"WGS 84\",DATUM[\"WGS_1984\",SPHEROID[\"WGS 84\",6378137,298.257223563,AUTHORITY[\"EPSG\",\"7030\"]],AUTHORITY[\"EPSG\",\"6326\"]],PRIMEM[\"Greenwich\",0,AUTHORITY[\"EPSG\",\"8901\"]],UNIT[\"degree\",0.0174532925199433,AUTHORITY[\"EPSG\",\"9122\"]],AUTHORITY[\"EPSG\",\"4326\"]],PROJECTION[\"Transverse_Mercator\"],PARAMETER[\"latitude_of_origin\",0],PARAMETER[\"central_meridian\",33],PARAMETER[\"scale_factor\",0.9996],PARAMETER[\"false_easting\",500000],PARAMETER[\"false_northing\",10000000],UNIT[\"metre\",1,AUTHORITY[\"EPSG\",\"9001\"]],AXIS[\"Easting\",EAST],AXIS[\"Northing\",NORTH],AUTHORITY[\"EPSG\",\"32736\"]]',\n",
       " 'geo_transform': '300000.000000000000,20.000000000000,0.000000000000,6200020.000000000000,0.000000000000,-20.000000000000',\n",
       " 'utm_easting_min': '300000.00000000',\n",
       " 'utm_easting_max': '409800.00000000',\n",
       " 'utm_northing_min': '6090220.00000000',\n",
       " 'utm_northing_max': '6200020.00000000',\n",
       " '_eopf_attrs': '{ \"coordinates\": [ \"x\", \"y\" ], \"dimensions\": [ \"y\", \"x\" ], \"dtype\": \"<u1\", \"long_name\": \"detector footprint mask provided in the final reference frame (ground geometry). 0 = no detector, 1-12 = detector 1-12\" }',\n",
       " 'dtype': '<u1',\n",
       " 'long_name': 'detector footprint mask provided in the final reference frame (ground geometry). 0 = no detector, 1-12 = detector 1-12'}"
      ]
     },
     "execution_count": 12,
     "metadata": {},
     "output_type": "execute_result"
    }
   ],
   "source": [
    "subds1_open.GetMetadata()"
   ]
  },
  {
   "cell_type": "markdown",
   "id": "95c0eaba-2a26-49ca-9069-47ba9004ec5c",
   "metadata": {},
   "source": [
    "**Get the raster band (assuming there is one band).**"
   ]
  },
  {
   "cell_type": "code",
   "execution_count": 13,
   "id": "019cd80a-48c3-4228-b5a2-4b873093a1fc",
   "metadata": {},
   "outputs": [
    {
     "name": "stdout",
     "output_type": "stream",
     "text": [
      "Original dimensions: 5490 x 5490\n"
     ]
    }
   ],
   "source": [
    "band = subds1_open.GetRasterBand(1)\n",
    "width = band.XSize\n",
    "height = band.YSize\n",
    "print(\"Original dimensions: {} x {}\".format(width, height))"
   ]
  },
  {
   "cell_type": "code",
   "execution_count": 14,
   "id": "cc8c8a8d",
   "metadata": {},
   "outputs": [
    {
     "name": "stdout",
     "output_type": "stream",
     "text": [
      "🔍 Testing xarray access to verify data...\n",
      "✅ Successfully loaded with xarray\n",
      "   Variables: ['pressure', 'temperature']\n",
      "   Coordinates: ['time', 'x', 'y']\n",
      "   Temperature range: 273.15 - 303.15 K\n",
      "   Pressure range: 1000.02 - 1500.00 hPa\n",
      "   Mean temperature: 15.00 °C\n"
     ]
    }
   ],
   "source": [
    "# Test xarray access to confirm data integrity\n",
    "print(\"🔍 Testing xarray access to verify data...\")\n",
    "\n",
    "try:\n",
    "    # Read back with xarray\n",
    "    loaded_data = xr.open_zarr(zarr_path)\n",
    "    print(f\"✅ Successfully loaded with xarray\")\n",
    "    print(f\"   Variables: {list(loaded_data.data_vars)}\")\n",
    "    print(f\"   Coordinates: {list(loaded_data.coords)}\")\n",
    "    print(f\"   Temperature range: {loaded_data.temperature.min().values:.2f} - {loaded_data.temperature.max().values:.2f} K\")\n",
    "    print(f\"   Pressure range: {loaded_data.pressure.min().values:.2f} - {loaded_data.pressure.max().values:.2f} hPa\")\n",
    "    \n",
    "    # Basic computation\n",
    "    temp_celsius = loaded_data.temperature - 273.15\n",
    "    mean_temp = temp_celsius.mean()\n",
    "    print(f\"   Mean temperature: {mean_temp.values:.2f} °C\")\n",
    "    \n",
    "except Exception as e:\n",
    "    print(f\"❌ Error with xarray: {e}\")"
   ]
  },
  {
   "cell_type": "code",
   "execution_count": 9,
   "id": "98accaa2",
   "metadata": {},
   "outputs": [
    {
     "name": "stdout",
     "output_type": "stream",
     "text": [
      "📊 Test Summary:\n",
      "=================\n",
      "✅ Python environment: Working\n",
      "✅ GDAL installation: Working (v3100200)\n",
      "✅ xarray/zarr: Working\n",
      "✅ Data creation/access: Working\n",
      "✅ EOPF-Zarr driver: Loaded\n",
      "\n",
      "🎉 Docker environment is ready for EOPF development!\n",
      "\n",
      "📝 Next steps:\n",
      "   1. Use this environment for EOPF data processing\n",
      "   2. Deploy to JupyterHub at https://jupyterhub.user.eopf.eodc.eu\n",
      "   3. Access your notebooks at http://localhost:8888 (local development)\n"
     ]
    }
   ],
   "source": [
    "# Summary\n",
    "print(\"📊 Test Summary:\")\n",
    "print(\"=================\")\n",
    "print(f\"✅ Python environment: Working\")\n",
    "print(f\"✅ GDAL installation: Working (v{gdal.VersionInfo()})\")\n",
    "print(f\"✅ xarray/zarr: Working\")\n",
    "print(f\"✅ Data creation/access: Working\")\n",
    "\n",
    "if eopf_driver:\n",
    "    print(f\"✅ EOPF-Zarr driver: Loaded\")\n",
    "else:\n",
    "    print(f\"⚠️ EOPF-Zarr driver: Not loaded (but standard Zarr works)\")\n",
    "\n",
    "print(\"\\n🎉 Docker environment is ready for EOPF development!\")\n",
    "print(\"\\n📝 Next steps:\")\n",
    "print(\"   1. Use this environment for EOPF data processing\")\n",
    "print(\"   2. Deploy to JupyterHub at https://jupyterhub.user.eopf.eodc.eu\")\n",
    "print(\"   3. Access your notebooks at http://localhost:8888 (local development)\")"
   ]
  },
  {
   "cell_type": "code",
   "execution_count": null,
   "id": "54ed08ca-a37f-4fa1-8b7f-73e6a520a1f2",
   "metadata": {},
   "outputs": [],
   "source": []
  }
 ],
 "metadata": {
  "kernelspec": {
   "display_name": "Python 3 (ipykernel)",
   "language": "python",
   "name": "python3"
  },
  "language_info": {
   "codemirror_mode": {
    "name": "ipython",
    "version": 3
   },
   "file_extension": ".py",
   "mimetype": "text/x-python",
   "name": "python",
   "nbconvert_exporter": "python",
   "pygments_lexer": "ipython3",
   "version": "3.13.3"
  }
 },
 "nbformat": 4,
 "nbformat_minor": 5
}
