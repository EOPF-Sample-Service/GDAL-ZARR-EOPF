{
 "cells": [
  {
   "cell_type": "markdown",
   "id": "7c9aca25",
   "metadata": {},
   "source": [
    "# EOPF-Zarr GDAL Driver Test Notebook\n",
    "\n",
    "This notebook demonstrates the EOPF-Zarr GDAL driver working in the Docker environment.\n",
    "\n",
    "## Overview\n",
    "\n",
    "- **Environment**: Ubuntu 25.04 + GDAL 3.10 + Python 3.13\n",
    "- **Driver**: Custom EOPF-Zarr GDAL driver\n",
    "- **Use Case**: Reading and processing EOPF/Zarr geospatial data"
   ]
  },
  {
   "cell_type": "code",
   "execution_count": 1,
   "id": "0a937da8",
   "metadata": {},
   "outputs": [
    {
     "name": "stdout",
     "output_type": "stream",
     "text": [
      "📦 Environment Information:\n",
      "   Python: 3.13.3 (main, Jun 16 2025, 18:15:32) [GCC 14.2.0]\n",
      "   GDAL: 3100200\n",
      "   NumPy: 2.2.3\n",
      "   xarray: 2025.7.1\n",
      "   zarr: 2.18.7\n"
     ]
    }
   ],
   "source": [
    "# Import required libraries\n",
    "import os\n",
    "import sys\n",
    "from osgeo import gdal\n",
    "import xarray as xr\n",
    "import zarr\n",
    "import numpy as np\n",
    "import pandas as pd\n",
    "\n",
    "print(\"📦 Environment Information:\")\n",
    "print(f\"   Python: {sys.version}\")\n",
    "print(f\"   GDAL: {gdal.VersionInfo()}\")\n",
    "print(f\"   NumPy: {np.__version__}\")\n",
    "print(f\"   xarray: {xr.__version__}\")\n",
    "print(f\"   zarr: {zarr.__version__}\")"
   ]
  },
  {
   "cell_type": "code",
   "execution_count": 2,
   "id": "b5f7f762",
   "metadata": {},
   "outputs": [
    {
     "name": "stdout",
     "output_type": "stream",
     "text": [
      "🔧 Environment Variables:\n",
      "   GDAL_DRIVER_PATH: /opt/eopf-zarr/drivers\n",
      "   GDAL_DATA: /usr/share/gdal\n",
      "   PROJ_LIB: /usr/share/proj\n",
      "   PYTHONPATH: /usr/local/lib/python3.13/site-packages\n"
     ]
    }
   ],
   "source": [
    "# Check environment variables\n",
    "print(\"🔧 Environment Variables:\")\n",
    "env_vars = ['GDAL_DRIVER_PATH', 'GDAL_DATA', 'PROJ_LIB', 'PYTHONPATH']\n",
    "for var in env_vars:\n",
    "    value = os.environ.get(var, 'Not set')\n",
    "    print(f\"   {var}: {value}\")"
   ]
  },
  {
   "cell_type": "code",
   "execution_count": 3,
   "id": "898e9cb4",
   "metadata": {},
   "outputs": [
    {
     "name": "stdout",
     "output_type": "stream",
     "text": [
      "📋 Total GDAL drivers available: 222\n",
      "\n",
      "🔍 Looking for EOPF-Zarr driver...\n",
      "✅ EOPF-Zarr driver found: EOPFZARR\n",
      "   Metadata: {'DMD_LONGNAME': 'EOPF Zarr Wrapper Driver', 'DCAP_RASTER': 'YES', 'DCAP_VIRTUALIO': 'YES', 'DMD_HELPTOPIC': 'drivers/raster/eopfzarr.html', 'DMD_SUBDATASETS': 'YES', 'DMD_OPENOPTIONLIST': \"<OpenOptionList>  <Option name='EOPF_PROCESS' type='boolean' default='NO' description='Enable EOPF features'>    <Value>YES</Value>    <Value>NO</Value>  </Option></OpenOptionList>\", 'DCAP_OPEN': 'YES'}\n"
     ]
    }
   ],
   "source": [
    "# List available GDAL drivers\n",
    "gdal.AllRegister()\n",
    "print(f\"📋 Total GDAL drivers available: {gdal.GetDriverCount()}\")\n",
    "print(\"\\n🔍 Looking for EOPF-Zarr driver...\")\n",
    "\n",
    "# Try to find EOPF-Zarr driver\n",
    "eopf_driver = gdal.GetDriverByName('EOPFZARR')\n",
    "if eopf_driver:\n",
    "    print(f\"✅ EOPF-Zarr driver found: {eopf_driver.GetDescription()}\")\n",
    "    print(f\"   Metadata: {eopf_driver.GetMetadata()}\")\n",
    "else:\n",
    "    print(\"⚠️ EOPF-Zarr driver not found\")\n",
    "    print(\"\\n📋 Available drivers containing 'zarr':\")\n",
    "    for i in range(gdal.GetDriverCount()):\n",
    "        driver = gdal.GetDriver(i)\n",
    "        name = driver.GetDescription()\n",
    "        if 'zarr' in name.lower():\n",
    "            print(f\"   {name}\")"
   ]
  },
  {
   "cell_type": "code",
   "execution_count": 4,
   "id": "c9653dcf",
   "metadata": {},
   "outputs": [
    {
     "name": "stdout",
     "output_type": "stream",
     "text": [
      "🧪 Creating test Zarr dataset...\n",
      "✅ Test data saved to: /tmp/test_zarr_data/test_data.zarr\n",
      "   Dataset shape: FrozenMappingWarningOnValuesAccess({'x': 100, 'y': 100, 'time': 10})\n",
      "   Variables: ['temperature', 'pressure']\n"
     ]
    }
   ],
   "source": [
    "# Create a sample Zarr dataset for testing\n",
    "print(\"🧪 Creating test Zarr dataset...\")\n",
    "\n",
    "# Create test data\n",
    "import tempfile\n",
    "import shutil\n",
    "\n",
    "# Create temporary directory for test data\n",
    "test_dir = '/tmp/test_zarr_data'\n",
    "if os.path.exists(test_dir):\n",
    "    shutil.rmtree(test_dir)\n",
    "os.makedirs(test_dir)\n",
    "\n",
    "# Create a simple xarray dataset\n",
    "data = xr.Dataset({\n",
    "    'temperature': (['x', 'y', 'time'], \n",
    "                   np.random.rand(100, 100, 10) * 30 + 273.15),  # Kelvin\n",
    "    'pressure': (['x', 'y', 'time'], \n",
    "                np.random.rand(100, 100, 10) * 500 + 1000),  # hPa\n",
    "}, coords={\n",
    "    'x': np.linspace(0, 10, 100),\n",
    "    'y': np.linspace(0, 10, 100),\n",
    "    'time': pd.date_range('2023-01-01', periods=10, freq='D')\n",
    "})\n",
    "\n",
    "# Add attributes\n",
    "data.attrs['title'] = 'Test EOPF Dataset'\n",
    "data.attrs['description'] = 'Sample data for testing EOPF-Zarr driver'\n",
    "data['temperature'].attrs['units'] = 'K'\n",
    "data['pressure'].attrs['units'] = 'hPa'\n",
    "\n",
    "# Save as Zarr\n",
    "zarr_path = os.path.join(test_dir, 'test_data.zarr')\n",
    "data.to_zarr(zarr_path)\n",
    "print(f\"✅ Test data saved to: {zarr_path}\")\n",
    "print(f\"   Dataset shape: {data.dims}\")\n",
    "print(f\"   Variables: {list(data.data_vars)}\")"
   ]
  },
  {
   "cell_type": "code",
   "execution_count": 7,
   "id": "538b7f12",
   "metadata": {},
   "outputs": [
    {
     "name": "stdout",
     "output_type": "stream",
     "text": [
      "🔍 Testing GDAL access to Zarr data...\n",
      "✅ Successfully opened Zarr with GDAL\n",
      "   Driver: EOPFZARR\n",
      "   Size: 512 x 512\n",
      "   Bands: 0\n",
      "   Metadata keys: ['EOPF_PRODUCT', 'spatial_ref', 'EPSG', 'proj:epsg', 'geospatial_lon_min']...\n"
     ]
    }
   ],
   "source": [
    "# Test GDAL access to Zarr data\n",
    "print(\"🔍 Testing GDAL access to Zarr data...\")\n",
    "\n",
    "# Try to open with GDAL\n",
    "try:\n",
    "    dataset = gdal.Open(\"EOPFZARR:\" + zarr_path)\n",
    "    if dataset:\n",
    "        print(f\"✅ Successfully opened Zarr with GDAL\")\n",
    "        print(f\"   Driver: {dataset.GetDriver().GetDescription()}\")\n",
    "        print(f\"   Size: {dataset.RasterXSize} x {dataset.RasterYSize}\")\n",
    "        print(f\"   Bands: {dataset.RasterCount}\")\n",
    "        \n",
    "        # Get some metadata\n",
    "        metadata = dataset.GetMetadata()\n",
    "        if metadata:\n",
    "            print(f\"   Metadata keys: {list(metadata.keys())[:5]}...\")  # Show first 5 keys\n",
    "        \n",
    "        dataset = None  # Close dataset\n",
    "    else:\n",
    "        print(\"❌ Could not open Zarr with GDAL\")\n",
    "except Exception as e:\n",
    "    print(f\"❌ Error opening Zarr with GDAL: {e}\")"
   ]
  },
  {
   "cell_type": "code",
   "execution_count": 8,
   "id": "cc8c8a8d",
   "metadata": {},
   "outputs": [
    {
     "name": "stdout",
     "output_type": "stream",
     "text": [
      "🔍 Testing xarray access to verify data...\n",
      "✅ Successfully loaded with xarray\n",
      "   Variables: ['pressure', 'temperature']\n",
      "   Coordinates: ['time', 'x', 'y']\n",
      "   Temperature range: 273.15 - 303.15 K\n",
      "   Pressure range: 1000.01 - 1500.00 hPa\n",
      "   Mean temperature: 15.07 °C\n"
     ]
    }
   ],
   "source": [
    "# Test xarray access to confirm data integrity\n",
    "print(\"🔍 Testing xarray access to verify data...\")\n",
    "\n",
    "try:\n",
    "    # Read back with xarray\n",
    "    loaded_data = xr.open_zarr(zarr_path)\n",
    "    print(f\"✅ Successfully loaded with xarray\")\n",
    "    print(f\"   Variables: {list(loaded_data.data_vars)}\")\n",
    "    print(f\"   Coordinates: {list(loaded_data.coords)}\")\n",
    "    print(f\"   Temperature range: {loaded_data.temperature.min().values:.2f} - {loaded_data.temperature.max().values:.2f} K\")\n",
    "    print(f\"   Pressure range: {loaded_data.pressure.min().values:.2f} - {loaded_data.pressure.max().values:.2f} hPa\")\n",
    "    \n",
    "    # Basic computation\n",
    "    temp_celsius = loaded_data.temperature - 273.15\n",
    "    mean_temp = temp_celsius.mean()\n",
    "    print(f\"   Mean temperature: {mean_temp.values:.2f} °C\")\n",
    "    \n",
    "except Exception as e:\n",
    "    print(f\"❌ Error with xarray: {e}\")"
   ]
  },
  {
   "cell_type": "code",
   "execution_count": 9,
   "id": "98accaa2",
   "metadata": {},
   "outputs": [
    {
     "name": "stdout",
     "output_type": "stream",
     "text": [
      "📊 Test Summary:\n",
      "=================\n",
      "✅ Python environment: Working\n",
      "✅ GDAL installation: Working (v3100200)\n",
      "✅ xarray/zarr: Working\n",
      "✅ Data creation/access: Working\n",
      "✅ EOPF-Zarr driver: Loaded\n",
      "\n",
      "🎉 Docker environment is ready for EOPF development!\n",
      "\n",
      "📝 Next steps:\n",
      "   1. Use this environment for EOPF data processing\n",
      "   2. Deploy to JupyterHub at https://jupyterhub.user.eopf.eodc.eu\n",
      "   3. Access your notebooks at http://localhost:8888 (local development)\n"
     ]
    }
   ],
   "source": [
    "# Summary\n",
    "print(\"📊 Test Summary:\")\n",
    "print(\"=================\")\n",
    "print(f\"✅ Python environment: Working\")\n",
    "print(f\"✅ GDAL installation: Working (v{gdal.VersionInfo()})\")\n",
    "print(f\"✅ xarray/zarr: Working\")\n",
    "print(f\"✅ Data creation/access: Working\")\n",
    "\n",
    "if eopf_driver:\n",
    "    print(f\"✅ EOPF-Zarr driver: Loaded\")\n",
    "else:\n",
    "    print(f\"⚠️ EOPF-Zarr driver: Not loaded (but standard Zarr works)\")\n",
    "\n",
    "print(\"\\n🎉 Docker environment is ready for EOPF development!\")\n",
    "print(\"\\n📝 Next steps:\")\n",
    "print(\"   1. Use this environment for EOPF data processing\")\n",
    "print(\"   2. Deploy to JupyterHub at https://jupyterhub.user.eopf.eodc.eu\")\n",
    "print(\"   3. Access your notebooks at http://localhost:8888 (local development)\")"
   ]
  },
  {
   "cell_type": "code",
   "execution_count": null,
   "id": "54ed08ca-a37f-4fa1-8b7f-73e6a520a1f2",
   "metadata": {},
   "outputs": [],
   "source": []
  }
 ],
 "metadata": {
  "kernelspec": {
   "display_name": "Python 3 (ipykernel)",
   "language": "python",
   "name": "python3"
  },
  "language_info": {
   "codemirror_mode": {
    "name": "ipython",
    "version": 3
   },
   "file_extension": ".py",
   "mimetype": "text/x-python",
   "name": "python",
   "nbconvert_exporter": "python",
   "pygments_lexer": "ipython3",
   "version": "3.13.3"
  }
 },
 "nbformat": 4,
 "nbformat_minor": 5
}
