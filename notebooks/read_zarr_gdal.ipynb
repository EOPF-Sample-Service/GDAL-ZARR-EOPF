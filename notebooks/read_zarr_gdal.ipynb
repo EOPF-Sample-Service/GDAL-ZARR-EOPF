{
 "cells": [
  {
   "cell_type": "code",
   "execution_count": 19,
   "metadata": {},
   "outputs": [],
   "source": [
    "from osgeo import gdal"
   ]
  },
  {
   "cell_type": "markdown",
   "metadata": {},
   "source": [
    "# Open ZARR dataset used in EOPF Product tutorials"
   ]
  },
  {
   "cell_type": "code",
   "execution_count": 20,
   "metadata": {},
   "outputs": [],
   "source": [
    "dataset = gdal.Open('ZARR:\"/vsicurl/https://storage.sbg.cloud.ovh.net/v1/AUTH_8471d76cdd494d98a078f28b195dace4/sentinel-1-public/demo_product/grd/S01SIWGRH_20240201T164915_0025_A146_S000_5464A_VH.zarr\"')"
   ]
  },
  {
   "cell_type": "markdown",
   "metadata": {},
   "source": [
    "# Check if the dataset was opened successfully"
   ]
  },
  {
   "cell_type": "code",
   "execution_count": 21,
   "metadata": {},
   "outputs": [
    {
     "name": "stdout",
     "output_type": "stream",
     "text": [
      "Dataset opened successfully!\n",
      "{}\n"
     ]
    }
   ],
   "source": [
    "if dataset is not None:\n",
    "    print(\"Dataset opened successfully!\")\n",
    "    # Print metadata\n",
    "    print(dataset.GetMetadata())\n",
    "else:\n",
    "    print(\"Failed to open dataset.\")"
   ]
  },
  {
   "cell_type": "code",
   "execution_count": 22,
   "metadata": {},
   "outputs": [
    {
     "name": "stdout",
     "output_type": "stream",
     "text": [
      "0 ('ZARR:\"/vsicurl/https://storage.sbg.cloud.ovh.net/v1/AUTH_8471d76cdd494d98a078f28b195dace4/sentinel-1-public/demo_product/grd/S01SIWGRH_20240201T164915_0025_A146_S000_5464A_VH.zarr\":/conditions/attitude/azimuth_time', 'Array /conditions/attitude/azimuth_time')\n",
      "1 ('ZARR:\"/vsicurl/https://storage.sbg.cloud.ovh.net/v1/AUTH_8471d76cdd494d98a078f28b195dace4/sentinel-1-public/demo_product/grd/S01SIWGRH_20240201T164915_0025_A146_S000_5464A_VH.zarr\":/conditions/attitude/pitch', 'Array /conditions/attitude/pitch')\n",
      "2 ('ZARR:\"/vsicurl/https://storage.sbg.cloud.ovh.net/v1/AUTH_8471d76cdd494d98a078f28b195dace4/sentinel-1-public/demo_product/grd/S01SIWGRH_20240201T164915_0025_A146_S000_5464A_VH.zarr\":/conditions/attitude/q0', 'Array /conditions/attitude/q0')\n",
      "3 ('ZARR:\"/vsicurl/https://storage.sbg.cloud.ovh.net/v1/AUTH_8471d76cdd494d98a078f28b195dace4/sentinel-1-public/demo_product/grd/S01SIWGRH_20240201T164915_0025_A146_S000_5464A_VH.zarr\":/conditions/attitude/q1', 'Array /conditions/attitude/q1')\n",
      "4 ('ZARR:\"/vsicurl/https://storage.sbg.cloud.ovh.net/v1/AUTH_8471d76cdd494d98a078f28b195dace4/sentinel-1-public/demo_product/grd/S01SIWGRH_20240201T164915_0025_A146_S000_5464A_VH.zarr\":/conditions/attitude/q2', 'Array /conditions/attitude/q2')\n",
      "5 ('ZARR:\"/vsicurl/https://storage.sbg.cloud.ovh.net/v1/AUTH_8471d76cdd494d98a078f28b195dace4/sentinel-1-public/demo_product/grd/S01SIWGRH_20240201T164915_0025_A146_S000_5464A_VH.zarr\":/conditions/attitude/q3', 'Array /conditions/attitude/q3')\n",
      "6 ('ZARR:\"/vsicurl/https://storage.sbg.cloud.ovh.net/v1/AUTH_8471d76cdd494d98a078f28b195dace4/sentinel-1-public/demo_product/grd/S01SIWGRH_20240201T164915_0025_A146_S000_5464A_VH.zarr\":/conditions/attitude/roll', 'Array /conditions/attitude/roll')\n",
      "7 ('ZARR:\"/vsicurl/https://storage.sbg.cloud.ovh.net/v1/AUTH_8471d76cdd494d98a078f28b195dace4/sentinel-1-public/demo_product/grd/S01SIWGRH_20240201T164915_0025_A146_S000_5464A_VH.zarr\":/conditions/attitude/wx', 'Array /conditions/attitude/wx')\n",
      "8 ('ZARR:\"/vsicurl/https://storage.sbg.cloud.ovh.net/v1/AUTH_8471d76cdd494d98a078f28b195dace4/sentinel-1-public/demo_product/grd/S01SIWGRH_20240201T164915_0025_A146_S000_5464A_VH.zarr\":/conditions/attitude/wy', 'Array /conditions/attitude/wy')\n",
      "9 ('ZARR:\"/vsicurl/https://storage.sbg.cloud.ovh.net/v1/AUTH_8471d76cdd494d98a078f28b195dace4/sentinel-1-public/demo_product/grd/S01SIWGRH_20240201T164915_0025_A146_S000_5464A_VH.zarr\":/conditions/attitude/wz', 'Array /conditions/attitude/wz')\n",
      "10 ('ZARR:\"/vsicurl/https://storage.sbg.cloud.ovh.net/v1/AUTH_8471d76cdd494d98a078f28b195dace4/sentinel-1-public/demo_product/grd/S01SIWGRH_20240201T164915_0025_A146_S000_5464A_VH.zarr\":/conditions/attitude/yaw', 'Array /conditions/attitude/yaw')\n",
      "11 ('ZARR:\"/vsicurl/https://storage.sbg.cloud.ovh.net/v1/AUTH_8471d76cdd494d98a078f28b195dace4/sentinel-1-public/demo_product/grd/S01SIWGRH_20240201T164915_0025_A146_S000_5464A_VH.zarr\":/conditions/azimuth_fm_rate/azimuth_time', 'Array /conditions/azimuth_fm_rate/azimuth_time')\n",
      "12 ('ZARR:\"/vsicurl/https://storage.sbg.cloud.ovh.net/v1/AUTH_8471d76cdd494d98a078f28b195dace4/sentinel-1-public/demo_product/grd/S01SIWGRH_20240201T164915_0025_A146_S000_5464A_VH.zarr\":/conditions/azimuth_fm_rate/degree', 'Array /conditions/azimuth_fm_rate/degree')\n",
      "13 ('ZARR:\"/vsicurl/https://storage.sbg.cloud.ovh.net/v1/AUTH_8471d76cdd494d98a078f28b195dace4/sentinel-1-public/demo_product/grd/S01SIWGRH_20240201T164915_0025_A146_S000_5464A_VH.zarr\":/conditions/azimuth_fm_rate/azimuth_fm_rate_polynomial', 'Array /conditions/azimuth_fm_rate/azimuth_fm_rate_polynomial')\n",
      "14 ('ZARR:\"/vsicurl/https://storage.sbg.cloud.ovh.net/v1/AUTH_8471d76cdd494d98a078f28b195dace4/sentinel-1-public/demo_product/grd/S01SIWGRH_20240201T164915_0025_A146_S000_5464A_VH.zarr\":/conditions/azimuth_fm_rate/t0', 'Array /conditions/azimuth_fm_rate/t0')\n",
      "15 ('ZARR:\"/vsicurl/https://storage.sbg.cloud.ovh.net/v1/AUTH_8471d76cdd494d98a078f28b195dace4/sentinel-1-public/demo_product/grd/S01SIWGRH_20240201T164915_0025_A146_S000_5464A_VH.zarr\":/conditions/coordinate_conversion/azimuth_time', 'Array /conditions/coordinate_conversion/azimuth_time')\n",
      "16 ('ZARR:\"/vsicurl/https://storage.sbg.cloud.ovh.net/v1/AUTH_8471d76cdd494d98a078f28b195dace4/sentinel-1-public/demo_product/grd/S01SIWGRH_20240201T164915_0025_A146_S000_5464A_VH.zarr\":/conditions/coordinate_conversion/degree', 'Array /conditions/coordinate_conversion/degree')\n",
      "17 ('ZARR:\"/vsicurl/https://storage.sbg.cloud.ovh.net/v1/AUTH_8471d76cdd494d98a078f28b195dace4/sentinel-1-public/demo_product/grd/S01SIWGRH_20240201T164915_0025_A146_S000_5464A_VH.zarr\":/conditions/coordinate_conversion/gr0', 'Array /conditions/coordinate_conversion/gr0')\n",
      "18 ('ZARR:\"/vsicurl/https://storage.sbg.cloud.ovh.net/v1/AUTH_8471d76cdd494d98a078f28b195dace4/sentinel-1-public/demo_product/grd/S01SIWGRH_20240201T164915_0025_A146_S000_5464A_VH.zarr\":/conditions/coordinate_conversion/grsrCoefficients', 'Array /conditions/coordinate_conversion/grsrCoefficients')\n",
      "19 ('ZARR:\"/vsicurl/https://storage.sbg.cloud.ovh.net/v1/AUTH_8471d76cdd494d98a078f28b195dace4/sentinel-1-public/demo_product/grd/S01SIWGRH_20240201T164915_0025_A146_S000_5464A_VH.zarr\":/conditions/coordinate_conversion/slant_range_time', 'Array /conditions/coordinate_conversion/slant_range_time')\n",
      "20 ('ZARR:\"/vsicurl/https://storage.sbg.cloud.ovh.net/v1/AUTH_8471d76cdd494d98a078f28b195dace4/sentinel-1-public/demo_product/grd/S01SIWGRH_20240201T164915_0025_A146_S000_5464A_VH.zarr\":/conditions/coordinate_conversion/sr0', 'Array /conditions/coordinate_conversion/sr0')\n",
      "21 ('ZARR:\"/vsicurl/https://storage.sbg.cloud.ovh.net/v1/AUTH_8471d76cdd494d98a078f28b195dace4/sentinel-1-public/demo_product/grd/S01SIWGRH_20240201T164915_0025_A146_S000_5464A_VH.zarr\":/conditions/coordinate_conversion/srgrCoefficients', 'Array /conditions/coordinate_conversion/srgrCoefficients')\n",
      "22 ('ZARR:\"/vsicurl/https://storage.sbg.cloud.ovh.net/v1/AUTH_8471d76cdd494d98a078f28b195dace4/sentinel-1-public/demo_product/grd/S01SIWGRH_20240201T164915_0025_A146_S000_5464A_VH.zarr\":/conditions/doppler_centroid/azimuth_time', 'Array /conditions/doppler_centroid/azimuth_time')\n",
      "23 ('ZARR:\"/vsicurl/https://storage.sbg.cloud.ovh.net/v1/AUTH_8471d76cdd494d98a078f28b195dace4/sentinel-1-public/demo_product/grd/S01SIWGRH_20240201T164915_0025_A146_S000_5464A_VH.zarr\":/conditions/doppler_centroid/degree', 'Array /conditions/doppler_centroid/degree')\n",
      "24 ('ZARR:\"/vsicurl/https://storage.sbg.cloud.ovh.net/v1/AUTH_8471d76cdd494d98a078f28b195dace4/sentinel-1-public/demo_product/grd/S01SIWGRH_20240201T164915_0025_A146_S000_5464A_VH.zarr\":/conditions/doppler_centroid/data_dc_polynomial', 'Array /conditions/doppler_centroid/data_dc_polynomial')\n",
      "25 ('ZARR:\"/vsicurl/https://storage.sbg.cloud.ovh.net/v1/AUTH_8471d76cdd494d98a078f28b195dace4/sentinel-1-public/demo_product/grd/S01SIWGRH_20240201T164915_0025_A146_S000_5464A_VH.zarr\":/conditions/doppler_centroid/data_dc_rms_error', 'Array /conditions/doppler_centroid/data_dc_rms_error')\n",
      "26 ('ZARR:\"/vsicurl/https://storage.sbg.cloud.ovh.net/v1/AUTH_8471d76cdd494d98a078f28b195dace4/sentinel-1-public/demo_product/grd/S01SIWGRH_20240201T164915_0025_A146_S000_5464A_VH.zarr\":/conditions/doppler_centroid/data_dc_rms_error_above_threshold', 'Array /conditions/doppler_centroid/data_dc_rms_error_above_threshold')\n",
      "27 ('ZARR:\"/vsicurl/https://storage.sbg.cloud.ovh.net/v1/AUTH_8471d76cdd494d98a078f28b195dace4/sentinel-1-public/demo_product/grd/S01SIWGRH_20240201T164915_0025_A146_S000_5464A_VH.zarr\":/conditions/doppler_centroid/fine_dce_azimuth_start_time', 'Array /conditions/doppler_centroid/fine_dce_azimuth_start_time')\n",
      "28 ('ZARR:\"/vsicurl/https://storage.sbg.cloud.ovh.net/v1/AUTH_8471d76cdd494d98a078f28b195dace4/sentinel-1-public/demo_product/grd/S01SIWGRH_20240201T164915_0025_A146_S000_5464A_VH.zarr\":/conditions/doppler_centroid/fine_dce_azimuth_stop_time', 'Array /conditions/doppler_centroid/fine_dce_azimuth_stop_time')\n",
      "29 ('ZARR:\"/vsicurl/https://storage.sbg.cloud.ovh.net/v1/AUTH_8471d76cdd494d98a078f28b195dace4/sentinel-1-public/demo_product/grd/S01SIWGRH_20240201T164915_0025_A146_S000_5464A_VH.zarr\":/conditions/doppler_centroid/geometry_dc_polynomial', 'Array /conditions/doppler_centroid/geometry_dc_polynomial')\n",
      "30 ('ZARR:\"/vsicurl/https://storage.sbg.cloud.ovh.net/v1/AUTH_8471d76cdd494d98a078f28b195dace4/sentinel-1-public/demo_product/grd/S01SIWGRH_20240201T164915_0025_A146_S000_5464A_VH.zarr\":/conditions/doppler_centroid/t0', 'Array /conditions/doppler_centroid/t0')\n",
      "31 ('ZARR:\"/vsicurl/https://storage.sbg.cloud.ovh.net/v1/AUTH_8471d76cdd494d98a078f28b195dace4/sentinel-1-public/demo_product/grd/S01SIWGRH_20240201T164915_0025_A146_S000_5464A_VH.zarr\":/conditions/gcp/azimuth_time', 'Array /conditions/gcp/azimuth_time')\n",
      "32 ('ZARR:\"/vsicurl/https://storage.sbg.cloud.ovh.net/v1/AUTH_8471d76cdd494d98a078f28b195dace4/sentinel-1-public/demo_product/grd/S01SIWGRH_20240201T164915_0025_A146_S000_5464A_VH.zarr\":/conditions/gcp/ground_range', 'Array /conditions/gcp/ground_range')\n",
      "33 ('ZARR:\"/vsicurl/https://storage.sbg.cloud.ovh.net/v1/AUTH_8471d76cdd494d98a078f28b195dace4/sentinel-1-public/demo_product/grd/S01SIWGRH_20240201T164915_0025_A146_S000_5464A_VH.zarr\":/conditions/gcp/elevationAngle', 'Array /conditions/gcp/elevationAngle')\n",
      "34 ('ZARR:\"/vsicurl/https://storage.sbg.cloud.ovh.net/v1/AUTH_8471d76cdd494d98a078f28b195dace4/sentinel-1-public/demo_product/grd/S01SIWGRH_20240201T164915_0025_A146_S000_5464A_VH.zarr\":/conditions/gcp/height', 'Array /conditions/gcp/height')\n",
      "35 ('ZARR:\"/vsicurl/https://storage.sbg.cloud.ovh.net/v1/AUTH_8471d76cdd494d98a078f28b195dace4/sentinel-1-public/demo_product/grd/S01SIWGRH_20240201T164915_0025_A146_S000_5464A_VH.zarr\":/conditions/gcp/incidenceAngle', 'Array /conditions/gcp/incidenceAngle')\n",
      "36 ('ZARR:\"/vsicurl/https://storage.sbg.cloud.ovh.net/v1/AUTH_8471d76cdd494d98a078f28b195dace4/sentinel-1-public/demo_product/grd/S01SIWGRH_20240201T164915_0025_A146_S000_5464A_VH.zarr\":/conditions/gcp/latitude', 'Array /conditions/gcp/latitude')\n",
      "37 ('ZARR:\"/vsicurl/https://storage.sbg.cloud.ovh.net/v1/AUTH_8471d76cdd494d98a078f28b195dace4/sentinel-1-public/demo_product/grd/S01SIWGRH_20240201T164915_0025_A146_S000_5464A_VH.zarr\":/conditions/gcp/line', 'Array /conditions/gcp/line')\n",
      "38 ('ZARR:\"/vsicurl/https://storage.sbg.cloud.ovh.net/v1/AUTH_8471d76cdd494d98a078f28b195dace4/sentinel-1-public/demo_product/grd/S01SIWGRH_20240201T164915_0025_A146_S000_5464A_VH.zarr\":/conditions/gcp/longitude', 'Array /conditions/gcp/longitude')\n",
      "39 ('ZARR:\"/vsicurl/https://storage.sbg.cloud.ovh.net/v1/AUTH_8471d76cdd494d98a078f28b195dace4/sentinel-1-public/demo_product/grd/S01SIWGRH_20240201T164915_0025_A146_S000_5464A_VH.zarr\":/conditions/gcp/pixel', 'Array /conditions/gcp/pixel')\n",
      "40 ('ZARR:\"/vsicurl/https://storage.sbg.cloud.ovh.net/v1/AUTH_8471d76cdd494d98a078f28b195dace4/sentinel-1-public/demo_product/grd/S01SIWGRH_20240201T164915_0025_A146_S000_5464A_VH.zarr\":/conditions/gcp/slant_range_time', 'Array /conditions/gcp/slant_range_time')\n",
      "41 ('ZARR:\"/vsicurl/https://storage.sbg.cloud.ovh.net/v1/AUTH_8471d76cdd494d98a078f28b195dace4/sentinel-1-public/demo_product/grd/S01SIWGRH_20240201T164915_0025_A146_S000_5464A_VH.zarr\":/conditions/orbit/axis', 'Array /conditions/orbit/axis')\n",
      "42 ('ZARR:\"/vsicurl/https://storage.sbg.cloud.ovh.net/v1/AUTH_8471d76cdd494d98a078f28b195dace4/sentinel-1-public/demo_product/grd/S01SIWGRH_20240201T164915_0025_A146_S000_5464A_VH.zarr\":/conditions/orbit/azimuth_time', 'Array /conditions/orbit/azimuth_time')\n",
      "43 ('ZARR:\"/vsicurl/https://storage.sbg.cloud.ovh.net/v1/AUTH_8471d76cdd494d98a078f28b195dace4/sentinel-1-public/demo_product/grd/S01SIWGRH_20240201T164915_0025_A146_S000_5464A_VH.zarr\":/conditions/orbit/position', 'Array /conditions/orbit/position')\n",
      "44 ('ZARR:\"/vsicurl/https://storage.sbg.cloud.ovh.net/v1/AUTH_8471d76cdd494d98a078f28b195dace4/sentinel-1-public/demo_product/grd/S01SIWGRH_20240201T164915_0025_A146_S000_5464A_VH.zarr\":/conditions/orbit/velocity', 'Array /conditions/orbit/velocity')\n",
      "45 ('ZARR:\"/vsicurl/https://storage.sbg.cloud.ovh.net/v1/AUTH_8471d76cdd494d98a078f28b195dace4/sentinel-1-public/demo_product/grd/S01SIWGRH_20240201T164915_0025_A146_S000_5464A_VH.zarr\":/conditions/reference_replica/degree', 'Array /conditions/reference_replica/degree')\n",
      "46 ('ZARR:\"/vsicurl/https://storage.sbg.cloud.ovh.net/v1/AUTH_8471d76cdd494d98a078f28b195dace4/sentinel-1-public/demo_product/grd/S01SIWGRH_20240201T164915_0025_A146_S000_5464A_VH.zarr\":/conditions/reference_replica/reference_replica_amplitude_coefficients', 'Array /conditions/reference_replica/reference_replica_amplitude_coefficients')\n",
      "47 ('ZARR:\"/vsicurl/https://storage.sbg.cloud.ovh.net/v1/AUTH_8471d76cdd494d98a078f28b195dace4/sentinel-1-public/demo_product/grd/S01SIWGRH_20240201T164915_0025_A146_S000_5464A_VH.zarr\":/conditions/reference_replica/reference_replica_phase_coefficients', 'Array /conditions/reference_replica/reference_replica_phase_coefficients')\n",
      "48 ('ZARR:\"/vsicurl/https://storage.sbg.cloud.ovh.net/v1/AUTH_8471d76cdd494d98a078f28b195dace4/sentinel-1-public/demo_product/grd/S01SIWGRH_20240201T164915_0025_A146_S000_5464A_VH.zarr\":/conditions/replica/azimuth_time', 'Array /conditions/replica/azimuth_time')\n",
      "49 ('ZARR:\"/vsicurl/https://storage.sbg.cloud.ovh.net/v1/AUTH_8471d76cdd494d98a078f28b195dace4/sentinel-1-public/demo_product/grd/S01SIWGRH_20240201T164915_0025_A146_S000_5464A_VH.zarr\":/conditions/replica/absolute_pg_product_valid_flag', 'Array /conditions/replica/absolute_pg_product_valid_flag')\n",
      "50 ('ZARR:\"/vsicurl/https://storage.sbg.cloud.ovh.net/v1/AUTH_8471d76cdd494d98a078f28b195dace4/sentinel-1-public/demo_product/grd/S01SIWGRH_20240201T164915_0025_A146_S000_5464A_VH.zarr\":/conditions/replica/cross_correlation_bandwidth', 'Array /conditions/replica/cross_correlation_bandwidth')\n",
      "51 ('ZARR:\"/vsicurl/https://storage.sbg.cloud.ovh.net/v1/AUTH_8471d76cdd494d98a078f28b195dace4/sentinel-1-public/demo_product/grd/S01SIWGRH_20240201T164915_0025_A146_S000_5464A_VH.zarr\":/conditions/replica/cross_correlation_peak_location', 'Array /conditions/replica/cross_correlation_peak_location')\n",
      "52 ('ZARR:\"/vsicurl/https://storage.sbg.cloud.ovh.net/v1/AUTH_8471d76cdd494d98a078f28b195dace4/sentinel-1-public/demo_product/grd/S01SIWGRH_20240201T164915_0025_A146_S000_5464A_VH.zarr\":/conditions/replica/cross_correlation_pslr', 'Array /conditions/replica/cross_correlation_pslr')\n",
      "53 ('ZARR:\"/vsicurl/https://storage.sbg.cloud.ovh.net/v1/AUTH_8471d76cdd494d98a078f28b195dace4/sentinel-1-public/demo_product/grd/S01SIWGRH_20240201T164915_0025_A146_S000_5464A_VH.zarr\":/conditions/replica/internal_time_delay', 'Array /conditions/replica/internal_time_delay')\n",
      "54 ('ZARR:\"/vsicurl/https://storage.sbg.cloud.ovh.net/v1/AUTH_8471d76cdd494d98a078f28b195dace4/sentinel-1-public/demo_product/grd/S01SIWGRH_20240201T164915_0025_A146_S000_5464A_VH.zarr\":/conditions/replica/model_pg_product_amplitude', 'Array /conditions/replica/model_pg_product_amplitude')\n",
      "55 ('ZARR:\"/vsicurl/https://storage.sbg.cloud.ovh.net/v1/AUTH_8471d76cdd494d98a078f28b195dace4/sentinel-1-public/demo_product/grd/S01SIWGRH_20240201T164915_0025_A146_S000_5464A_VH.zarr\":/conditions/replica/model_pg_product_phase', 'Array /conditions/replica/model_pg_product_phase')\n",
      "56 ('ZARR:\"/vsicurl/https://storage.sbg.cloud.ovh.net/v1/AUTH_8471d76cdd494d98a078f28b195dace4/sentinel-1-public/demo_product/grd/S01SIWGRH_20240201T164915_0025_A146_S000_5464A_VH.zarr\":/conditions/replica/pg_product_amplitude', 'Array /conditions/replica/pg_product_amplitude')\n",
      "57 ('ZARR:\"/vsicurl/https://storage.sbg.cloud.ovh.net/v1/AUTH_8471d76cdd494d98a078f28b195dace4/sentinel-1-public/demo_product/grd/S01SIWGRH_20240201T164915_0025_A146_S000_5464A_VH.zarr\":/conditions/replica/pg_product_phase', 'Array /conditions/replica/pg_product_phase')\n",
      "58 ('ZARR:\"/vsicurl/https://storage.sbg.cloud.ovh.net/v1/AUTH_8471d76cdd494d98a078f28b195dace4/sentinel-1-public/demo_product/grd/S01SIWGRH_20240201T164915_0025_A146_S000_5464A_VH.zarr\":/conditions/replica/reconstructed_replica_valid_flag', 'Array /conditions/replica/reconstructed_replica_valid_flag')\n",
      "59 ('ZARR:\"/vsicurl/https://storage.sbg.cloud.ovh.net/v1/AUTH_8471d76cdd494d98a078f28b195dace4/sentinel-1-public/demo_product/grd/S01SIWGRH_20240201T164915_0025_A146_S000_5464A_VH.zarr\":/conditions/replica/relative_pg_product_valid_flag', 'Array /conditions/replica/relative_pg_product_valid_flag')\n",
      "60 ('ZARR:\"/vsicurl/https://storage.sbg.cloud.ovh.net/v1/AUTH_8471d76cdd494d98a078f28b195dace4/sentinel-1-public/demo_product/grd/S01SIWGRH_20240201T164915_0025_A146_S000_5464A_VH.zarr\":/measurements/azimuth_time', 'Array /measurements/azimuth_time')\n",
      "61 ('ZARR:\"/vsicurl/https://storage.sbg.cloud.ovh.net/v1/AUTH_8471d76cdd494d98a078f28b195dace4/sentinel-1-public/demo_product/grd/S01SIWGRH_20240201T164915_0025_A146_S000_5464A_VH.zarr\":/measurements/ground_range', 'Array /measurements/ground_range')\n",
      "62 ('ZARR:\"/vsicurl/https://storage.sbg.cloud.ovh.net/v1/AUTH_8471d76cdd494d98a078f28b195dace4/sentinel-1-public/demo_product/grd/S01SIWGRH_20240201T164915_0025_A146_S000_5464A_VH.zarr\":/measurements/grd', 'Array /measurements/grd')\n",
      "63 ('ZARR:\"/vsicurl/https://storage.sbg.cloud.ovh.net/v1/AUTH_8471d76cdd494d98a078f28b195dace4/sentinel-1-public/demo_product/grd/S01SIWGRH_20240201T164915_0025_A146_S000_5464A_VH.zarr\":/measurements/line', 'Array /measurements/line')\n",
      "64 ('ZARR:\"/vsicurl/https://storage.sbg.cloud.ovh.net/v1/AUTH_8471d76cdd494d98a078f28b195dace4/sentinel-1-public/demo_product/grd/S01SIWGRH_20240201T164915_0025_A146_S000_5464A_VH.zarr\":/measurements/pixel', 'Array /measurements/pixel')\n",
      "65 ('ZARR:\"/vsicurl/https://storage.sbg.cloud.ovh.net/v1/AUTH_8471d76cdd494d98a078f28b195dace4/sentinel-1-public/demo_product/grd/S01SIWGRH_20240201T164915_0025_A146_S000_5464A_VH.zarr\":/quality/calibration/azimuth_time', 'Array /quality/calibration/azimuth_time')\n",
      "66 ('ZARR:\"/vsicurl/https://storage.sbg.cloud.ovh.net/v1/AUTH_8471d76cdd494d98a078f28b195dace4/sentinel-1-public/demo_product/grd/S01SIWGRH_20240201T164915_0025_A146_S000_5464A_VH.zarr\":/quality/calibration/ground_range', 'Array /quality/calibration/ground_range')\n",
      "67 ('ZARR:\"/vsicurl/https://storage.sbg.cloud.ovh.net/v1/AUTH_8471d76cdd494d98a078f28b195dace4/sentinel-1-public/demo_product/grd/S01SIWGRH_20240201T164915_0025_A146_S000_5464A_VH.zarr\":/quality/calibration/beta_nought', 'Array /quality/calibration/beta_nought')\n",
      "68 ('ZARR:\"/vsicurl/https://storage.sbg.cloud.ovh.net/v1/AUTH_8471d76cdd494d98a078f28b195dace4/sentinel-1-public/demo_product/grd/S01SIWGRH_20240201T164915_0025_A146_S000_5464A_VH.zarr\":/quality/calibration/dn', 'Array /quality/calibration/dn')\n",
      "69 ('ZARR:\"/vsicurl/https://storage.sbg.cloud.ovh.net/v1/AUTH_8471d76cdd494d98a078f28b195dace4/sentinel-1-public/demo_product/grd/S01SIWGRH_20240201T164915_0025_A146_S000_5464A_VH.zarr\":/quality/calibration/gamma', 'Array /quality/calibration/gamma')\n",
      "70 ('ZARR:\"/vsicurl/https://storage.sbg.cloud.ovh.net/v1/AUTH_8471d76cdd494d98a078f28b195dace4/sentinel-1-public/demo_product/grd/S01SIWGRH_20240201T164915_0025_A146_S000_5464A_VH.zarr\":/quality/calibration/line', 'Array /quality/calibration/line')\n",
      "71 ('ZARR:\"/vsicurl/https://storage.sbg.cloud.ovh.net/v1/AUTH_8471d76cdd494d98a078f28b195dace4/sentinel-1-public/demo_product/grd/S01SIWGRH_20240201T164915_0025_A146_S000_5464A_VH.zarr\":/quality/calibration/pixel', 'Array /quality/calibration/pixel')\n",
      "72 ('ZARR:\"/vsicurl/https://storage.sbg.cloud.ovh.net/v1/AUTH_8471d76cdd494d98a078f28b195dace4/sentinel-1-public/demo_product/grd/S01SIWGRH_20240201T164915_0025_A146_S000_5464A_VH.zarr\":/quality/calibration/sigma_nought', 'Array /quality/calibration/sigma_nought')\n",
      "73 ('ZARR:\"/vsicurl/https://storage.sbg.cloud.ovh.net/v1/AUTH_8471d76cdd494d98a078f28b195dace4/sentinel-1-public/demo_product/grd/S01SIWGRH_20240201T164915_0025_A146_S000_5464A_VH.zarr\":/quality/noise_azimuth/azimuth_time', 'Array /quality/noise_azimuth/azimuth_time')\n",
      "74 ('ZARR:\"/vsicurl/https://storage.sbg.cloud.ovh.net/v1/AUTH_8471d76cdd494d98a078f28b195dace4/sentinel-1-public/demo_product/grd/S01SIWGRH_20240201T164915_0025_A146_S000_5464A_VH.zarr\":/quality/noise_azimuth/line', 'Array /quality/noise_azimuth/line')\n",
      "75 ('ZARR:\"/vsicurl/https://storage.sbg.cloud.ovh.net/v1/AUTH_8471d76cdd494d98a078f28b195dace4/sentinel-1-public/demo_product/grd/S01SIWGRH_20240201T164915_0025_A146_S000_5464A_VH.zarr\":/quality/noise_azimuth/noise_azimuth_lut', 'Array /quality/noise_azimuth/noise_azimuth_lut')\n",
      "76 ('ZARR:\"/vsicurl/https://storage.sbg.cloud.ovh.net/v1/AUTH_8471d76cdd494d98a078f28b195dace4/sentinel-1-public/demo_product/grd/S01SIWGRH_20240201T164915_0025_A146_S000_5464A_VH.zarr\":/quality/noise_range/azimuth_time', 'Array /quality/noise_range/azimuth_time')\n",
      "77 ('ZARR:\"/vsicurl/https://storage.sbg.cloud.ovh.net/v1/AUTH_8471d76cdd494d98a078f28b195dace4/sentinel-1-public/demo_product/grd/S01SIWGRH_20240201T164915_0025_A146_S000_5464A_VH.zarr\":/quality/noise_range/ground_range', 'Array /quality/noise_range/ground_range')\n",
      "78 ('ZARR:\"/vsicurl/https://storage.sbg.cloud.ovh.net/v1/AUTH_8471d76cdd494d98a078f28b195dace4/sentinel-1-public/demo_product/grd/S01SIWGRH_20240201T164915_0025_A146_S000_5464A_VH.zarr\":/quality/noise_range/line', 'Array /quality/noise_range/line')\n",
      "79 ('ZARR:\"/vsicurl/https://storage.sbg.cloud.ovh.net/v1/AUTH_8471d76cdd494d98a078f28b195dace4/sentinel-1-public/demo_product/grd/S01SIWGRH_20240201T164915_0025_A146_S000_5464A_VH.zarr\":/quality/noise_range/noiseRangeLut', 'Array /quality/noise_range/noiseRangeLut')\n",
      "80 ('ZARR:\"/vsicurl/https://storage.sbg.cloud.ovh.net/v1/AUTH_8471d76cdd494d98a078f28b195dace4/sentinel-1-public/demo_product/grd/S01SIWGRH_20240201T164915_0025_A146_S000_5464A_VH.zarr\":/quality/noise_range/pixel', 'Array /quality/noise_range/pixel')\n"
     ]
    }
   ],
   "source": [
    "subds = dataset.GetSubDatasets()\n",
    "for idx, s in enumerate(subds):\n",
    "    print(idx, s)"
   ]
  }
 ],
 "metadata": {
  "kernelspec": {
   "display_name": "Python 3 (ipykernel)",
   "language": "python",
   "name": "python3"
  },
  "language_info": {
   "codemirror_mode": {
    "name": "ipython",
    "version": 3
   },
   "file_extension": ".py",
   "mimetype": "text/x-python",
   "name": "python",
   "nbconvert_exporter": "python",
   "pygments_lexer": "ipython3",
   "version": "3.11.6"
  }
 },
 "nbformat": 4,
 "nbformat_minor": 2
}
