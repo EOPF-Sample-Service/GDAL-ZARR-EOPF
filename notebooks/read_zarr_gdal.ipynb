{
 "cells": [
  {
   "cell_type": "code",
   "execution_count": 1,
   "metadata": {},
   "outputs": [],
   "source": [
    "from osgeo import gdal"
   ]
  },
  {
   "cell_type": "markdown",
   "metadata": {},
   "source": [
    "# Open ZARR dataset used in EOPF Product tutorials"
   ]
  },
  {
   "cell_type": "code",
   "execution_count": 5,
   "metadata": {},
   "outputs": [],
   "source": [
    "dataset = gdal.Open('ZARR:\"/vsicurl/https://storage.sbg.cloud.ovh.net/v1/AUTH_8471d76cdd494d98a078f28b195dace4/sentinel-1-public/demo_product/grd/S01SIWGRH_20240201T164915_0025_A146_S000_5464A_VH.zarr\"')"
   ]
  },
  {
   "cell_type": "markdown",
   "metadata": {},
   "source": [
    "# Check if the dataset was opened successfully"
   ]
  },
  {
   "cell_type": "code",
   "execution_count": 6,
   "metadata": {},
   "outputs": [
    {
     "name": "stdout",
     "output_type": "stream",
     "text": [
      "Dataset opened successfully!\n",
      "{}\n"
     ]
    }
   ],
   "source": [
    "if dataset is not None:\n",
    "    print(\"Dataset opened successfully!\")\n",
    "    # Print metadata\n",
    "    print(dataset.GetMetadata())\n",
    "else:\n",
    "    print(\"Failed to open dataset.\")"
   ]
  },
  {
   "cell_type": "code",
   "execution_count": 7,
   "metadata": {},
   "outputs": [
    {
     "name": "stdout",
     "output_type": "stream",
     "text": [
      "0 ('ZARR:\"/vsicurl/https://storage.sbg.cloud.ovh.net/v1/AUTH_8471d76cdd494d98a078f28b195dace4/sentinel-1-public/demo_product/grd/S01SIWGRH_20240201T164915_0025_A146_S000_5464A_VH.zarr\":/conditions/attitude/azimuth_time', 'Array /conditions/attitude/azimuth_time')\n",
      "1 ('ZARR:\"/vsicurl/https://storage.sbg.cloud.ovh.net/v1/AUTH_8471d76cdd494d98a078f28b195dace4/sentinel-1-public/demo_product/grd/S01SIWGRH_20240201T164915_0025_A146_S000_5464A_VH.zarr\":/conditions/attitude/pitch', 'Array /conditions/attitude/pitch')\n",
      "2 ('ZARR:\"/vsicurl/https://storage.sbg.cloud.ovh.net/v1/AUTH_8471d76cdd494d98a078f28b195dace4/sentinel-1-public/demo_product/grd/S01SIWGRH_20240201T164915_0025_A146_S000_5464A_VH.zarr\":/conditions/attitude/q0', 'Array /conditions/attitude/q0')\n",
      "3 ('ZARR:\"/vsicurl/https://storage.sbg.cloud.ovh.net/v1/AUTH_8471d76cdd494d98a078f28b195dace4/sentinel-1-public/demo_product/grd/S01SIWGRH_20240201T164915_0025_A146_S000_5464A_VH.zarr\":/conditions/attitude/q1', 'Array /conditions/attitude/q1')\n",
      "4 ('ZARR:\"/vsicurl/https://storage.sbg.cloud.ovh.net/v1/AUTH_8471d76cdd494d98a078f28b195dace4/sentinel-1-public/demo_product/grd/S01SIWGRH_20240201T164915_0025_A146_S000_5464A_VH.zarr\":/conditions/attitude/q2', 'Array /conditions/attitude/q2')\n",
      "5 ('ZARR:\"/vsicurl/https://storage.sbg.cloud.ovh.net/v1/AUTH_8471d76cdd494d98a078f28b195dace4/sentinel-1-public/demo_product/grd/S01SIWGRH_20240201T164915_0025_A146_S000_5464A_VH.zarr\":/conditions/attitude/q3', 'Array /conditions/attitude/q3')\n",
      "6 ('ZARR:\"/vsicurl/https://storage.sbg.cloud.ovh.net/v1/AUTH_8471d76cdd494d98a078f28b195dace4/sentinel-1-public/demo_product/grd/S01SIWGRH_20240201T164915_0025_A146_S000_5464A_VH.zarr\":/conditions/attitude/roll', 'Array /conditions/attitude/roll')\n",
      "7 ('ZARR:\"/vsicurl/https://storage.sbg.cloud.ovh.net/v1/AUTH_8471d76cdd494d98a078f28b195dace4/sentinel-1-public/demo_product/grd/S01SIWGRH_20240201T164915_0025_A146_S000_5464A_VH.zarr\":/conditions/attitude/wx', 'Array /conditions/attitude/wx')\n",
      "8 ('ZARR:\"/vsicurl/https://storage.sbg.cloud.ovh.net/v1/AUTH_8471d76cdd494d98a078f28b195dace4/sentinel-1-public/demo_product/grd/S01SIWGRH_20240201T164915_0025_A146_S000_5464A_VH.zarr\":/conditions/attitude/wy', 'Array /conditions/attitude/wy')\n",
      "9 ('ZARR:\"/vsicurl/https://storage.sbg.cloud.ovh.net/v1/AUTH_8471d76cdd494d98a078f28b195dace4/sentinel-1-public/demo_product/grd/S01SIWGRH_20240201T164915_0025_A146_S000_5464A_VH.zarr\":/conditions/attitude/wz', 'Array /conditions/attitude/wz')\n",
      "10 ('ZARR:\"/vsicurl/https://storage.sbg.cloud.ovh.net/v1/AUTH_8471d76cdd494d98a078f28b195dace4/sentinel-1-public/demo_product/grd/S01SIWGRH_20240201T164915_0025_A146_S000_5464A_VH.zarr\":/conditions/attitude/yaw', 'Array /conditions/attitude/yaw')\n",
      "11 ('ZARR:\"/vsicurl/https://storage.sbg.cloud.ovh.net/v1/AUTH_8471d76cdd494d98a078f28b195dace4/sentinel-1-public/demo_product/grd/S01SIWGRH_20240201T164915_0025_A146_S000_5464A_VH.zarr\":/conditions/azimuth_fm_rate/azimuth_time', 'Array /conditions/azimuth_fm_rate/azimuth_time')\n",
      "12 ('ZARR:\"/vsicurl/https://storage.sbg.cloud.ovh.net/v1/AUTH_8471d76cdd494d98a078f28b195dace4/sentinel-1-public/demo_product/grd/S01SIWGRH_20240201T164915_0025_A146_S000_5464A_VH.zarr\":/conditions/azimuth_fm_rate/degree', 'Array /conditions/azimuth_fm_rate/degree')\n",
      "13 ('ZARR:\"/vsicurl/https://storage.sbg.cloud.ovh.net/v1/AUTH_8471d76cdd494d98a078f28b195dace4/sentinel-1-public/demo_product/grd/S01SIWGRH_20240201T164915_0025_A146_S000_5464A_VH.zarr\":/conditions/azimuth_fm_rate/azimuth_fm_rate_polynomial', 'Array /conditions/azimuth_fm_rate/azimuth_fm_rate_polynomial')\n",
      "14 ('ZARR:\"/vsicurl/https://storage.sbg.cloud.ovh.net/v1/AUTH_8471d76cdd494d98a078f28b195dace4/sentinel-1-public/demo_product/grd/S01SIWGRH_20240201T164915_0025_A146_S000_5464A_VH.zarr\":/conditions/azimuth_fm_rate/t0', 'Array /conditions/azimuth_fm_rate/t0')\n",
      "15 ('ZARR:\"/vsicurl/https://storage.sbg.cloud.ovh.net/v1/AUTH_8471d76cdd494d98a078f28b195dace4/sentinel-1-public/demo_product/grd/S01SIWGRH_20240201T164915_0025_A146_S000_5464A_VH.zarr\":/conditions/coordinate_conversion/azimuth_time', 'Array /conditions/coordinate_conversion/azimuth_time')\n",
      "16 ('ZARR:\"/vsicurl/https://storage.sbg.cloud.ovh.net/v1/AUTH_8471d76cdd494d98a078f28b195dace4/sentinel-1-public/demo_product/grd/S01SIWGRH_20240201T164915_0025_A146_S000_5464A_VH.zarr\":/conditions/coordinate_conversion/degree', 'Array /conditions/coordinate_conversion/degree')\n",
      "17 ('ZARR:\"/vsicurl/https://storage.sbg.cloud.ovh.net/v1/AUTH_8471d76cdd494d98a078f28b195dace4/sentinel-1-public/demo_product/grd/S01SIWGRH_20240201T164915_0025_A146_S000_5464A_VH.zarr\":/conditions/coordinate_conversion/gr0', 'Array /conditions/coordinate_conversion/gr0')\n",
      "18 ('ZARR:\"/vsicurl/https://storage.sbg.cloud.ovh.net/v1/AUTH_8471d76cdd494d98a078f28b195dace4/sentinel-1-public/demo_product/grd/S01SIWGRH_20240201T164915_0025_A146_S000_5464A_VH.zarr\":/conditions/coordinate_conversion/grsrCoefficients', 'Array /conditions/coordinate_conversion/grsrCoefficients')\n",
      "19 ('ZARR:\"/vsicurl/https://storage.sbg.cloud.ovh.net/v1/AUTH_8471d76cdd494d98a078f28b195dace4/sentinel-1-public/demo_product/grd/S01SIWGRH_20240201T164915_0025_A146_S000_5464A_VH.zarr\":/conditions/coordinate_conversion/slant_range_time', 'Array /conditions/coordinate_conversion/slant_range_time')\n",
      "20 ('ZARR:\"/vsicurl/https://storage.sbg.cloud.ovh.net/v1/AUTH_8471d76cdd494d98a078f28b195dace4/sentinel-1-public/demo_product/grd/S01SIWGRH_20240201T164915_0025_A146_S000_5464A_VH.zarr\":/conditions/coordinate_conversion/sr0', 'Array /conditions/coordinate_conversion/sr0')\n",
      "21 ('ZARR:\"/vsicurl/https://storage.sbg.cloud.ovh.net/v1/AUTH_8471d76cdd494d98a078f28b195dace4/sentinel-1-public/demo_product/grd/S01SIWGRH_20240201T164915_0025_A146_S000_5464A_VH.zarr\":/conditions/coordinate_conversion/srgrCoefficients', 'Array /conditions/coordinate_conversion/srgrCoefficients')\n",
      "22 ('ZARR:\"/vsicurl/https://storage.sbg.cloud.ovh.net/v1/AUTH_8471d76cdd494d98a078f28b195dace4/sentinel-1-public/demo_product/grd/S01SIWGRH_20240201T164915_0025_A146_S000_5464A_VH.zarr\":/conditions/doppler_centroid/azimuth_time', 'Array /conditions/doppler_centroid/azimuth_time')\n",
      "23 ('ZARR:\"/vsicurl/https://storage.sbg.cloud.ovh.net/v1/AUTH_8471d76cdd494d98a078f28b195dace4/sentinel-1-public/demo_product/grd/S01SIWGRH_20240201T164915_0025_A146_S000_5464A_VH.zarr\":/conditions/doppler_centroid/degree', 'Array /conditions/doppler_centroid/degree')\n",
      "24 ('ZARR:\"/vsicurl/https://storage.sbg.cloud.ovh.net/v1/AUTH_8471d76cdd494d98a078f28b195dace4/sentinel-1-public/demo_product/grd/S01SIWGRH_20240201T164915_0025_A146_S000_5464A_VH.zarr\":/conditions/doppler_centroid/data_dc_polynomial', 'Array /conditions/doppler_centroid/data_dc_polynomial')\n",
      "25 ('ZARR:\"/vsicurl/https://storage.sbg.cloud.ovh.net/v1/AUTH_8471d76cdd494d98a078f28b195dace4/sentinel-1-public/demo_product/grd/S01SIWGRH_20240201T164915_0025_A146_S000_5464A_VH.zarr\":/conditions/doppler_centroid/data_dc_rms_error', 'Array /conditions/doppler_centroid/data_dc_rms_error')\n",
      "26 ('ZARR:\"/vsicurl/https://storage.sbg.cloud.ovh.net/v1/AUTH_8471d76cdd494d98a078f28b195dace4/sentinel-1-public/demo_product/grd/S01SIWGRH_20240201T164915_0025_A146_S000_5464A_VH.zarr\":/conditions/doppler_centroid/data_dc_rms_error_above_threshold', 'Array /conditions/doppler_centroid/data_dc_rms_error_above_threshold')\n",
      "27 ('ZARR:\"/vsicurl/https://storage.sbg.cloud.ovh.net/v1/AUTH_8471d76cdd494d98a078f28b195dace4/sentinel-1-public/demo_product/grd/S01SIWGRH_20240201T164915_0025_A146_S000_5464A_VH.zarr\":/conditions/doppler_centroid/fine_dce_azimuth_start_time', 'Array /conditions/doppler_centroid/fine_dce_azimuth_start_time')\n",
      "28 ('ZARR:\"/vsicurl/https://storage.sbg.cloud.ovh.net/v1/AUTH_8471d76cdd494d98a078f28b195dace4/sentinel-1-public/demo_product/grd/S01SIWGRH_20240201T164915_0025_A146_S000_5464A_VH.zarr\":/conditions/doppler_centroid/fine_dce_azimuth_stop_time', 'Array /conditions/doppler_centroid/fine_dce_azimuth_stop_time')\n",
      "29 ('ZARR:\"/vsicurl/https://storage.sbg.cloud.ovh.net/v1/AUTH_8471d76cdd494d98a078f28b195dace4/sentinel-1-public/demo_product/grd/S01SIWGRH_20240201T164915_0025_A146_S000_5464A_VH.zarr\":/conditions/doppler_centroid/geometry_dc_polynomial', 'Array /conditions/doppler_centroid/geometry_dc_polynomial')\n",
      "30 ('ZARR:\"/vsicurl/https://storage.sbg.cloud.ovh.net/v1/AUTH_8471d76cdd494d98a078f28b195dace4/sentinel-1-public/demo_product/grd/S01SIWGRH_20240201T164915_0025_A146_S000_5464A_VH.zarr\":/conditions/doppler_centroid/t0', 'Array /conditions/doppler_centroid/t0')\n",
      "31 ('ZARR:\"/vsicurl/https://storage.sbg.cloud.ovh.net/v1/AUTH_8471d76cdd494d98a078f28b195dace4/sentinel-1-public/demo_product/grd/S01SIWGRH_20240201T164915_0025_A146_S000_5464A_VH.zarr\":/conditions/gcp/azimuth_time', 'Array /conditions/gcp/azimuth_time')\n",
      "32 ('ZARR:\"/vsicurl/https://storage.sbg.cloud.ovh.net/v1/AUTH_8471d76cdd494d98a078f28b195dace4/sentinel-1-public/demo_product/grd/S01SIWGRH_20240201T164915_0025_A146_S000_5464A_VH.zarr\":/conditions/gcp/ground_range', 'Array /conditions/gcp/ground_range')\n",
      "33 ('ZARR:\"/vsicurl/https://storage.sbg.cloud.ovh.net/v1/AUTH_8471d76cdd494d98a078f28b195dace4/sentinel-1-public/demo_product/grd/S01SIWGRH_20240201T164915_0025_A146_S000_5464A_VH.zarr\":/conditions/gcp/elevationAngle', 'Array /conditions/gcp/elevationAngle')\n",
      "34 ('ZARR:\"/vsicurl/https://storage.sbg.cloud.ovh.net/v1/AUTH_8471d76cdd494d98a078f28b195dace4/sentinel-1-public/demo_product/grd/S01SIWGRH_20240201T164915_0025_A146_S000_5464A_VH.zarr\":/conditions/gcp/height', 'Array /conditions/gcp/height')\n",
      "35 ('ZARR:\"/vsicurl/https://storage.sbg.cloud.ovh.net/v1/AUTH_8471d76cdd494d98a078f28b195dace4/sentinel-1-public/demo_product/grd/S01SIWGRH_20240201T164915_0025_A146_S000_5464A_VH.zarr\":/conditions/gcp/incidenceAngle', 'Array /conditions/gcp/incidenceAngle')\n",
      "36 ('ZARR:\"/vsicurl/https://storage.sbg.cloud.ovh.net/v1/AUTH_8471d76cdd494d98a078f28b195dace4/sentinel-1-public/demo_product/grd/S01SIWGRH_20240201T164915_0025_A146_S000_5464A_VH.zarr\":/conditions/gcp/latitude', 'Array /conditions/gcp/latitude')\n",
      "37 ('ZARR:\"/vsicurl/https://storage.sbg.cloud.ovh.net/v1/AUTH_8471d76cdd494d98a078f28b195dace4/sentinel-1-public/demo_product/grd/S01SIWGRH_20240201T164915_0025_A146_S000_5464A_VH.zarr\":/conditions/gcp/line', 'Array /conditions/gcp/line')\n",
      "38 ('ZARR:\"/vsicurl/https://storage.sbg.cloud.ovh.net/v1/AUTH_8471d76cdd494d98a078f28b195dace4/sentinel-1-public/demo_product/grd/S01SIWGRH_20240201T164915_0025_A146_S000_5464A_VH.zarr\":/conditions/gcp/longitude', 'Array /conditions/gcp/longitude')\n",
      "39 ('ZARR:\"/vsicurl/https://storage.sbg.cloud.ovh.net/v1/AUTH_8471d76cdd494d98a078f28b195dace4/sentinel-1-public/demo_product/grd/S01SIWGRH_20240201T164915_0025_A146_S000_5464A_VH.zarr\":/conditions/gcp/pixel', 'Array /conditions/gcp/pixel')\n",
      "40 ('ZARR:\"/vsicurl/https://storage.sbg.cloud.ovh.net/v1/AUTH_8471d76cdd494d98a078f28b195dace4/sentinel-1-public/demo_product/grd/S01SIWGRH_20240201T164915_0025_A146_S000_5464A_VH.zarr\":/conditions/gcp/slant_range_time', 'Array /conditions/gcp/slant_range_time')\n",
      "41 ('ZARR:\"/vsicurl/https://storage.sbg.cloud.ovh.net/v1/AUTH_8471d76cdd494d98a078f28b195dace4/sentinel-1-public/demo_product/grd/S01SIWGRH_20240201T164915_0025_A146_S000_5464A_VH.zarr\":/conditions/orbit/axis', 'Array /conditions/orbit/axis')\n",
      "42 ('ZARR:\"/vsicurl/https://storage.sbg.cloud.ovh.net/v1/AUTH_8471d76cdd494d98a078f28b195dace4/sentinel-1-public/demo_product/grd/S01SIWGRH_20240201T164915_0025_A146_S000_5464A_VH.zarr\":/conditions/orbit/azimuth_time', 'Array /conditions/orbit/azimuth_time')\n",
      "43 ('ZARR:\"/vsicurl/https://storage.sbg.cloud.ovh.net/v1/AUTH_8471d76cdd494d98a078f28b195dace4/sentinel-1-public/demo_product/grd/S01SIWGRH_20240201T164915_0025_A146_S000_5464A_VH.zarr\":/conditions/orbit/position', 'Array /conditions/orbit/position')\n",
      "44 ('ZARR:\"/vsicurl/https://storage.sbg.cloud.ovh.net/v1/AUTH_8471d76cdd494d98a078f28b195dace4/sentinel-1-public/demo_product/grd/S01SIWGRH_20240201T164915_0025_A146_S000_5464A_VH.zarr\":/conditions/orbit/velocity', 'Array /conditions/orbit/velocity')\n",
      "45 ('ZARR:\"/vsicurl/https://storage.sbg.cloud.ovh.net/v1/AUTH_8471d76cdd494d98a078f28b195dace4/sentinel-1-public/demo_product/grd/S01SIWGRH_20240201T164915_0025_A146_S000_5464A_VH.zarr\":/conditions/reference_replica/degree', 'Array /conditions/reference_replica/degree')\n",
      "46 ('ZARR:\"/vsicurl/https://storage.sbg.cloud.ovh.net/v1/AUTH_8471d76cdd494d98a078f28b195dace4/sentinel-1-public/demo_product/grd/S01SIWGRH_20240201T164915_0025_A146_S000_5464A_VH.zarr\":/conditions/reference_replica/reference_replica_amplitude_coefficients', 'Array /conditions/reference_replica/reference_replica_amplitude_coefficients')\n",
      "47 ('ZARR:\"/vsicurl/https://storage.sbg.cloud.ovh.net/v1/AUTH_8471d76cdd494d98a078f28b195dace4/sentinel-1-public/demo_product/grd/S01SIWGRH_20240201T164915_0025_A146_S000_5464A_VH.zarr\":/conditions/reference_replica/reference_replica_phase_coefficients', 'Array /conditions/reference_replica/reference_replica_phase_coefficients')\n",
      "48 ('ZARR:\"/vsicurl/https://storage.sbg.cloud.ovh.net/v1/AUTH_8471d76cdd494d98a078f28b195dace4/sentinel-1-public/demo_product/grd/S01SIWGRH_20240201T164915_0025_A146_S000_5464A_VH.zarr\":/conditions/replica/azimuth_time', 'Array /conditions/replica/azimuth_time')\n",
      "49 ('ZARR:\"/vsicurl/https://storage.sbg.cloud.ovh.net/v1/AUTH_8471d76cdd494d98a078f28b195dace4/sentinel-1-public/demo_product/grd/S01SIWGRH_20240201T164915_0025_A146_S000_5464A_VH.zarr\":/conditions/replica/absolute_pg_product_valid_flag', 'Array /conditions/replica/absolute_pg_product_valid_flag')\n",
      "50 ('ZARR:\"/vsicurl/https://storage.sbg.cloud.ovh.net/v1/AUTH_8471d76cdd494d98a078f28b195dace4/sentinel-1-public/demo_product/grd/S01SIWGRH_20240201T164915_0025_A146_S000_5464A_VH.zarr\":/conditions/replica/cross_correlation_bandwidth', 'Array /conditions/replica/cross_correlation_bandwidth')\n",
      "51 ('ZARR:\"/vsicurl/https://storage.sbg.cloud.ovh.net/v1/AUTH_8471d76cdd494d98a078f28b195dace4/sentinel-1-public/demo_product/grd/S01SIWGRH_20240201T164915_0025_A146_S000_5464A_VH.zarr\":/conditions/replica/cross_correlation_peak_location', 'Array /conditions/replica/cross_correlation_peak_location')\n",
      "52 ('ZARR:\"/vsicurl/https://storage.sbg.cloud.ovh.net/v1/AUTH_8471d76cdd494d98a078f28b195dace4/sentinel-1-public/demo_product/grd/S01SIWGRH_20240201T164915_0025_A146_S000_5464A_VH.zarr\":/conditions/replica/cross_correlation_pslr', 'Array /conditions/replica/cross_correlation_pslr')\n",
      "53 ('ZARR:\"/vsicurl/https://storage.sbg.cloud.ovh.net/v1/AUTH_8471d76cdd494d98a078f28b195dace4/sentinel-1-public/demo_product/grd/S01SIWGRH_20240201T164915_0025_A146_S000_5464A_VH.zarr\":/conditions/replica/internal_time_delay', 'Array /conditions/replica/internal_time_delay')\n",
      "54 ('ZARR:\"/vsicurl/https://storage.sbg.cloud.ovh.net/v1/AUTH_8471d76cdd494d98a078f28b195dace4/sentinel-1-public/demo_product/grd/S01SIWGRH_20240201T164915_0025_A146_S000_5464A_VH.zarr\":/conditions/replica/model_pg_product_amplitude', 'Array /conditions/replica/model_pg_product_amplitude')\n",
      "55 ('ZARR:\"/vsicurl/https://storage.sbg.cloud.ovh.net/v1/AUTH_8471d76cdd494d98a078f28b195dace4/sentinel-1-public/demo_product/grd/S01SIWGRH_20240201T164915_0025_A146_S000_5464A_VH.zarr\":/conditions/replica/model_pg_product_phase', 'Array /conditions/replica/model_pg_product_phase')\n",
      "56 ('ZARR:\"/vsicurl/https://storage.sbg.cloud.ovh.net/v1/AUTH_8471d76cdd494d98a078f28b195dace4/sentinel-1-public/demo_product/grd/S01SIWGRH_20240201T164915_0025_A146_S000_5464A_VH.zarr\":/conditions/replica/pg_product_amplitude', 'Array /conditions/replica/pg_product_amplitude')\n",
      "57 ('ZARR:\"/vsicurl/https://storage.sbg.cloud.ovh.net/v1/AUTH_8471d76cdd494d98a078f28b195dace4/sentinel-1-public/demo_product/grd/S01SIWGRH_20240201T164915_0025_A146_S000_5464A_VH.zarr\":/conditions/replica/pg_product_phase', 'Array /conditions/replica/pg_product_phase')\n",
      "58 ('ZARR:\"/vsicurl/https://storage.sbg.cloud.ovh.net/v1/AUTH_8471d76cdd494d98a078f28b195dace4/sentinel-1-public/demo_product/grd/S01SIWGRH_20240201T164915_0025_A146_S000_5464A_VH.zarr\":/conditions/replica/reconstructed_replica_valid_flag', 'Array /conditions/replica/reconstructed_replica_valid_flag')\n",
      "59 ('ZARR:\"/vsicurl/https://storage.sbg.cloud.ovh.net/v1/AUTH_8471d76cdd494d98a078f28b195dace4/sentinel-1-public/demo_product/grd/S01SIWGRH_20240201T164915_0025_A146_S000_5464A_VH.zarr\":/conditions/replica/relative_pg_product_valid_flag', 'Array /conditions/replica/relative_pg_product_valid_flag')\n",
      "60 ('ZARR:\"/vsicurl/https://storage.sbg.cloud.ovh.net/v1/AUTH_8471d76cdd494d98a078f28b195dace4/sentinel-1-public/demo_product/grd/S01SIWGRH_20240201T164915_0025_A146_S000_5464A_VH.zarr\":/measurements/azimuth_time', 'Array /measurements/azimuth_time')\n",
      "61 ('ZARR:\"/vsicurl/https://storage.sbg.cloud.ovh.net/v1/AUTH_8471d76cdd494d98a078f28b195dace4/sentinel-1-public/demo_product/grd/S01SIWGRH_20240201T164915_0025_A146_S000_5464A_VH.zarr\":/measurements/ground_range', 'Array /measurements/ground_range')\n",
      "62 ('ZARR:\"/vsicurl/https://storage.sbg.cloud.ovh.net/v1/AUTH_8471d76cdd494d98a078f28b195dace4/sentinel-1-public/demo_product/grd/S01SIWGRH_20240201T164915_0025_A146_S000_5464A_VH.zarr\":/measurements/grd', 'Array /measurements/grd')\n",
      "63 ('ZARR:\"/vsicurl/https://storage.sbg.cloud.ovh.net/v1/AUTH_8471d76cdd494d98a078f28b195dace4/sentinel-1-public/demo_product/grd/S01SIWGRH_20240201T164915_0025_A146_S000_5464A_VH.zarr\":/measurements/line', 'Array /measurements/line')\n",
      "64 ('ZARR:\"/vsicurl/https://storage.sbg.cloud.ovh.net/v1/AUTH_8471d76cdd494d98a078f28b195dace4/sentinel-1-public/demo_product/grd/S01SIWGRH_20240201T164915_0025_A146_S000_5464A_VH.zarr\":/measurements/pixel', 'Array /measurements/pixel')\n",
      "65 ('ZARR:\"/vsicurl/https://storage.sbg.cloud.ovh.net/v1/AUTH_8471d76cdd494d98a078f28b195dace4/sentinel-1-public/demo_product/grd/S01SIWGRH_20240201T164915_0025_A146_S000_5464A_VH.zarr\":/quality/calibration/azimuth_time', 'Array /quality/calibration/azimuth_time')\n",
      "66 ('ZARR:\"/vsicurl/https://storage.sbg.cloud.ovh.net/v1/AUTH_8471d76cdd494d98a078f28b195dace4/sentinel-1-public/demo_product/grd/S01SIWGRH_20240201T164915_0025_A146_S000_5464A_VH.zarr\":/quality/calibration/ground_range', 'Array /quality/calibration/ground_range')\n",
      "67 ('ZARR:\"/vsicurl/https://storage.sbg.cloud.ovh.net/v1/AUTH_8471d76cdd494d98a078f28b195dace4/sentinel-1-public/demo_product/grd/S01SIWGRH_20240201T164915_0025_A146_S000_5464A_VH.zarr\":/quality/calibration/beta_nought', 'Array /quality/calibration/beta_nought')\n",
      "68 ('ZARR:\"/vsicurl/https://storage.sbg.cloud.ovh.net/v1/AUTH_8471d76cdd494d98a078f28b195dace4/sentinel-1-public/demo_product/grd/S01SIWGRH_20240201T164915_0025_A146_S000_5464A_VH.zarr\":/quality/calibration/dn', 'Array /quality/calibration/dn')\n",
      "69 ('ZARR:\"/vsicurl/https://storage.sbg.cloud.ovh.net/v1/AUTH_8471d76cdd494d98a078f28b195dace4/sentinel-1-public/demo_product/grd/S01SIWGRH_20240201T164915_0025_A146_S000_5464A_VH.zarr\":/quality/calibration/gamma', 'Array /quality/calibration/gamma')\n",
      "70 ('ZARR:\"/vsicurl/https://storage.sbg.cloud.ovh.net/v1/AUTH_8471d76cdd494d98a078f28b195dace4/sentinel-1-public/demo_product/grd/S01SIWGRH_20240201T164915_0025_A146_S000_5464A_VH.zarr\":/quality/calibration/line', 'Array /quality/calibration/line')\n",
      "71 ('ZARR:\"/vsicurl/https://storage.sbg.cloud.ovh.net/v1/AUTH_8471d76cdd494d98a078f28b195dace4/sentinel-1-public/demo_product/grd/S01SIWGRH_20240201T164915_0025_A146_S000_5464A_VH.zarr\":/quality/calibration/pixel', 'Array /quality/calibration/pixel')\n",
      "72 ('ZARR:\"/vsicurl/https://storage.sbg.cloud.ovh.net/v1/AUTH_8471d76cdd494d98a078f28b195dace4/sentinel-1-public/demo_product/grd/S01SIWGRH_20240201T164915_0025_A146_S000_5464A_VH.zarr\":/quality/calibration/sigma_nought', 'Array /quality/calibration/sigma_nought')\n",
      "73 ('ZARR:\"/vsicurl/https://storage.sbg.cloud.ovh.net/v1/AUTH_8471d76cdd494d98a078f28b195dace4/sentinel-1-public/demo_product/grd/S01SIWGRH_20240201T164915_0025_A146_S000_5464A_VH.zarr\":/quality/noise_azimuth/azimuth_time', 'Array /quality/noise_azimuth/azimuth_time')\n",
      "74 ('ZARR:\"/vsicurl/https://storage.sbg.cloud.ovh.net/v1/AUTH_8471d76cdd494d98a078f28b195dace4/sentinel-1-public/demo_product/grd/S01SIWGRH_20240201T164915_0025_A146_S000_5464A_VH.zarr\":/quality/noise_azimuth/line', 'Array /quality/noise_azimuth/line')\n",
      "75 ('ZARR:\"/vsicurl/https://storage.sbg.cloud.ovh.net/v1/AUTH_8471d76cdd494d98a078f28b195dace4/sentinel-1-public/demo_product/grd/S01SIWGRH_20240201T164915_0025_A146_S000_5464A_VH.zarr\":/quality/noise_azimuth/noise_azimuth_lut', 'Array /quality/noise_azimuth/noise_azimuth_lut')\n",
      "76 ('ZARR:\"/vsicurl/https://storage.sbg.cloud.ovh.net/v1/AUTH_8471d76cdd494d98a078f28b195dace4/sentinel-1-public/demo_product/grd/S01SIWGRH_20240201T164915_0025_A146_S000_5464A_VH.zarr\":/quality/noise_range/azimuth_time', 'Array /quality/noise_range/azimuth_time')\n",
      "77 ('ZARR:\"/vsicurl/https://storage.sbg.cloud.ovh.net/v1/AUTH_8471d76cdd494d98a078f28b195dace4/sentinel-1-public/demo_product/grd/S01SIWGRH_20240201T164915_0025_A146_S000_5464A_VH.zarr\":/quality/noise_range/ground_range', 'Array /quality/noise_range/ground_range')\n",
      "78 ('ZARR:\"/vsicurl/https://storage.sbg.cloud.ovh.net/v1/AUTH_8471d76cdd494d98a078f28b195dace4/sentinel-1-public/demo_product/grd/S01SIWGRH_20240201T164915_0025_A146_S000_5464A_VH.zarr\":/quality/noise_range/line', 'Array /quality/noise_range/line')\n",
      "79 ('ZARR:\"/vsicurl/https://storage.sbg.cloud.ovh.net/v1/AUTH_8471d76cdd494d98a078f28b195dace4/sentinel-1-public/demo_product/grd/S01SIWGRH_20240201T164915_0025_A146_S000_5464A_VH.zarr\":/quality/noise_range/noiseRangeLut', 'Array /quality/noise_range/noiseRangeLut')\n",
      "80 ('ZARR:\"/vsicurl/https://storage.sbg.cloud.ovh.net/v1/AUTH_8471d76cdd494d98a078f28b195dace4/sentinel-1-public/demo_product/grd/S01SIWGRH_20240201T164915_0025_A146_S000_5464A_VH.zarr\":/quality/noise_range/pixel', 'Array /quality/noise_range/pixel')\n"
     ]
    }
   ],
   "source": [
    "subds = dataset.GetSubDatasets()\n",
    "for idx, s in enumerate(subds):\n",
    "    print(idx, s)"
   ]
  },
  {
   "cell_type": "markdown",
   "metadata": {},
   "source": [
    "**Get Metadata of sub-datasets**"
   ]
  },
  {
   "cell_type": "code",
   "execution_count": 8,
   "metadata": {},
   "outputs": [
    {
     "data": {
      "text/plain": [
       "{'calendar': 'proleptic_gregorian', 'long_name': 'zero-Doppler azimuth time'}"
      ]
     },
     "execution_count": 8,
     "metadata": {},
     "output_type": "execute_result"
    }
   ],
   "source": [
    "sub1 = gdal.Open('ZARR:\"/vsicurl/https://storage.sbg.cloud.ovh.net/v1/AUTH_8471d76cdd494d98a078f28b195dace4/sentinel-1-public/demo_product/grd/S01SIWGRH_20240201T164915_0025_A146_S000_5464A_VH.zarr\":/conditions/attitude/azimuth_time')\n",
    "if sub1 is None:\n",
    "    raise Exception(\"Failed to open subdataset\")\n",
    "sub1.GetMetadata()"
   ]
  },
  {
   "cell_type": "code",
   "execution_count": 9,
   "metadata": {},
   "outputs": [
    {
     "data": {
      "text/plain": [
       "{'long_name': 'platform pitch'}"
      ]
     },
     "execution_count": 9,
     "metadata": {},
     "output_type": "execute_result"
    }
   ],
   "source": [
    "sub2 = gdal.Open('ZARR:\"/vsicurl/https://storage.sbg.cloud.ovh.net/v1/AUTH_8471d76cdd494d98a078f28b195dace4/sentinel-1-public/demo_product/grd/S01SIWGRH_20240201T164915_0025_A146_S000_5464A_VH.zarr\":/conditions/attitude/pitch')\n",
    "if sub1 is None:\n",
    "    raise Exception(\"Failed to open subdataset\")\n",
    "sub2.GetMetadata()"
   ]
  },
  {
   "cell_type": "code",
   "execution_count": 10,
   "metadata": {},
   "outputs": [
    {
     "data": {
      "text/plain": [
       "{'ascending_node_time': '2024-02-01T16:38:33.596595',\n",
       " 'azimuth_pixel_spacing': '10',\n",
       " 'azimuth_time_interval': '0.001499231873605405',\n",
       " 'coordinates': 'line pixel',\n",
       " 'family_name': 'SENTINEL-1',\n",
       " 'geospatial_bounds': 'POLYGON((18.62418337217432 39.86652099000666,18.31174989120519 41.36716535718914,15.21723805934151 40.95977917443068,15.58555002601945 39.45608375551823,18.62418337217432 39.86652099000666))',\n",
       " 'geospatial_lat_max': '41.367165357189137',\n",
       " 'geospatial_lat_min': '39.456083755518229',\n",
       " 'geospatial_lon_max': '18.624183372174318',\n",
       " 'geospatial_lon_min': '15.21723805934151',\n",
       " 'image_slant_range_time': '0.0053358298697226024',\n",
       " 'incidence_angle_mid_swath': '39.134455217493851',\n",
       " 'long_name': 'digital number',\n",
       " 'mode': 'IW',\n",
       " 'number': 'A',\n",
       " 'orbit_number': '52368',\n",
       " 'pass': 'ASCENDING',\n",
       " 'product_first_line_utc_time': '2024-02-01T16:49:15.722819',\n",
       " 'product_last_line_utc_time': '2024-02-01T16:49:40.721011',\n",
       " 'product_type': 'GRD',\n",
       " 'radar_frequency': '5.4050004543343499',\n",
       " 'range_pixel_spacing': '10',\n",
       " 'range_sampling_rate': '64345238.12571428',\n",
       " 'relative_orbit_number': '146',\n",
       " 'start_time': '2024-02-01T16:49:15.722819',\n",
       " 'stop_time': '2024-02-01T16:49:40.721011',\n",
       " 'swaths': 'IW',\n",
       " 'transmitter_receiver_polarisations': '{VV,VH}'}"
      ]
     },
     "execution_count": 10,
     "metadata": {},
     "output_type": "execute_result"
    }
   ],
   "source": [
    "sub62 = gdal.Open(subds[62][0])\n",
    "if sub62 is None:\n",
    "    raise Exception(\"Failed to open subdataset\")\n",
    "sub62.GetMetadata()"
   ]
  },
  {
   "cell_type": "code",
   "execution_count": null,
   "metadata": {},
   "outputs": [],
   "source": []
  }
 ],
 "metadata": {
  "kernelspec": {
   "display_name": "Python 3 (ipykernel)",
   "language": "python",
   "name": "python3"
  },
  "language_info": {
   "codemirror_mode": {
    "name": "ipython",
    "version": 3
   },
   "file_extension": ".py",
   "mimetype": "text/x-python",
   "name": "python",
   "nbconvert_exporter": "python",
   "pygments_lexer": "ipython3",
   "version": "3.13.3"
  }
 },
 "nbformat": 4,
 "nbformat_minor": 4
}
