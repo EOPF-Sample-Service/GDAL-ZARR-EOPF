{
 "cells": [
  {
   "cell_type": "markdown",
   "id": "0d67cb2c",
   "metadata": {},
   "source": [
    "# EOPF-Zarr Driver: Remote Data Access Demo\n",
    "\n",
    "This notebook demonstrates remote data access capabilities of the EOPF-Zarr GDAL driver.\n",
    "\n",
    "## 📦 Installation & Setup\n",
    "\n",
    "### 🐳 Quick Start (Docker - Recommended)\n",
    "```bash\n",
    "# Pull and run the complete environment\n",
    "docker pull yuvraj1989/eopf-zarr-driver:v2.0.0\n",
    "docker run -p 8888:8888 yuvraj1989/eopf-zarr-driver:v2.0.0\n",
    "# ➜ Open: http://localhost:8888\n",
    "```\n",
    "\n",
    "### 🔧 Manual Installation\n",
    "```bash\n",
    "# Get the latest driver release\n",
    "curl -L https://github.com/EOPF-Sample-Service/GDAL-ZARR-EOPF/releases/latest/download/gdal_EOPFZarr-Linux.zip -o driver.zip\n",
    "\n",
    "# Install Python dependencies\n",
    "pip install gdal rasterio xarray zarr matplotlib requests\n",
    "\n",
    "# Configure environment\n",
    "export GDAL_DRIVER_PATH=/path/to/driver\n",
    "export GDAL_DATA=/usr/share/gdal\n",
    "```\n",
    "\n",
    "### 🌐 Network Requirements\n",
    "- **Internet access** for remote Zarr datasets\n",
    "- **HTTPS support** via GDAL's /vsicurl/ driver\n",
    "- **Optional**: VPN/credentials for secured data sources\n",
    "\n",
    "📖 **Complete guides**: [INSTALLATION.md](../INSTALLATION.md) | [DOCKER_QUICKSTART.md](../DOCKER_QUICKSTART.md)\n",
    "\n",
    "## 🎯 Objectives\n",
    "\n",
    "- **HTTPS URL Access**: Access Zarr datasets via HTTPS using /vsicurl/\n",
    "- **Cloud Storage**: Demonstrate access to cloud-hosted Zarr datasets\n",
    "- **Authentication**: Handle authentication for secured datasets\n",
    "- **Performance**: Optimize remote data access\n",
    "\n",
    "## 📋 Environment\n",
    "\n",
    "- **Docker Environment**: Ubuntu 25.04 + GDAL 3.10 + Python 3.13\n",
    "- **Driver**: Custom EOPF-Zarr GDAL driver\n",
    "- **Network**: HTTPS, /vsicurl/ virtual file system"
   ]
  },
  {
   "cell_type": "code",
   "execution_count": 1,
   "id": "bc355111",
   "metadata": {},
   "outputs": [
    {
     "name": "stdout",
     "output_type": "stream",
     "text": [
      "🌐 EOPF-Zarr Remote Data Access Demo\n",
      "==========================================\n",
      "📅 Date: 2025-08-06 15:09:02\n",
      "✅ EOPFZARR driver: Available\n",
      "\n",
      "🔗 Test Dataset:\n",
      "   Base URL: https://objects.eodc.eu/e05ab01a9d56408d82ac32d69a5aae2a:202507-s02msil2a/21/pro...\n",
      "   EOPF URL: EOPFZARR:'/vsicurl/https://objects.eodc.eu/e05ab01a9d56408d82ac32d69a5aae2a:2025...\n"
     ]
    }
   ],
   "source": [
    "# Remote Data Access Demo Setup\n",
    "import os\n",
    "import sys\n",
    "from osgeo import gdal\n",
    "import numpy as np\n",
    "import matplotlib.pyplot as plt\n",
    "from datetime import datetime\n",
    "\n",
    "print(\"🌐 EOPF-Zarr Remote Data Access Demo\")\n",
    "print(\"=\" * 42)\n",
    "print(f\"📅 Date: {datetime.now().strftime('%Y-%m-%d %H:%M:%S')}\")\n",
    "\n",
    "# Initialize GDAL\n",
    "gdal.AllRegister()\n",
    "\n",
    "# Check EOPFZARR driver\n",
    "eopf_driver = gdal.GetDriverByName('EOPFZARR')\n",
    "if eopf_driver:\n",
    "    print(f\"✅ EOPFZARR driver: Available\")\n",
    "else:\n",
    "    print(f\"❌ EOPFZARR driver: Not found\")\n",
    "\n",
    "# Test remote dataset URL (EODC example)\n",
    "remote_base_url = \"https://objects.eodc.eu/e05ab01a9d56408d82ac32d69a5aae2a:202507-s02msil2a/21/products/cpm_v256/S2B_MSIL2A_20250721T073619_N0511_R092_T36HUG_20250721T095416.zarr\"\n",
    "eopf_remote_url = f\"EOPFZARR:'/vsicurl/{remote_base_url}'\"\n",
    "\n",
    "print(f\"\\n🔗 Test Dataset:\")\n",
    "print(f\"   Base URL: {remote_base_url[:80]}...\")\n",
    "print(f\"   EOPF URL: {eopf_remote_url[:80]}...\")"
   ]
  },
  {
   "cell_type": "code",
   "execution_count": 2,
   "id": "336555ba",
   "metadata": {},
   "outputs": [
    {
     "name": "stdout",
     "output_type": "stream",
     "text": [
      "🌐 Test 1: Basic Remote Dataset Access\n",
      "==========================================\n"
     ]
    },
    {
     "name": "stderr",
     "output_type": "stream",
     "text": [
      "/usr/lib/python3/dist-packages/osgeo/gdal.py:311: FutureWarning: Neither gdal.UseExceptions() nor gdal.DontUseExceptions() has been explicitly called. In GDAL 4.0, exceptions will be enabled by default.\n",
      "  warnings.warn(\n"
     ]
    },
    {
     "name": "stdout",
     "output_type": "stream",
     "text": [
      "✅ Successfully opened remote dataset\n",
      "   Driver: EOPFZARR\n",
      "   Size: 512 x 512\n",
      "   Bands: 0\n",
      "   Metadata items: 9\n",
      "\n",
      "📊 Remote dataset loaded successfully!\n"
     ]
    }
   ],
   "source": [
    "# Test 1: Basic remote dataset access\n",
    "print(\"🌐 Test 1: Basic Remote Dataset Access\")\n",
    "print(\"=\" * 42)\n",
    "\n",
    "try:\n",
    "    remote_dataset = gdal.Open(eopf_remote_url)\n",
    "    \n",
    "    if remote_dataset:\n",
    "        print(f\"✅ Successfully opened remote dataset\")\n",
    "        print(f\"   Driver: {remote_dataset.GetDriver().GetDescription()}\")\n",
    "        print(f\"   Size: {remote_dataset.RasterXSize} x {remote_dataset.RasterYSize}\")\n",
    "        print(f\"   Bands: {remote_dataset.RasterCount}\")\n",
    "        \n",
    "        # Get metadata\n",
    "        metadata = remote_dataset.GetMetadata()\n",
    "        print(f\"   Metadata items: {len(metadata)}\")\n",
    "        \n",
    "        # Show some key metadata\n",
    "        for key in ['title', 'description', 'institution'][:3]:\n",
    "            if key in metadata:\n",
    "                print(f\"      {key}: {metadata[key][:50]}...\")\n",
    "        \n",
    "        print(f\"\\n📊 Remote dataset loaded successfully!\")\n",
    "        \n",
    "    else:\n",
    "        print(f\"❌ Failed to open remote dataset\")\n",
    "        print(f\"   Error: {gdal.GetLastErrorMsg()}\")\n",
    "        remote_dataset = None\n",
    "        \n",
    "except Exception as e:\n",
    "    print(f\"❌ Exception: {e}\")\n",
    "    remote_dataset = None"
   ]
  },
  {
   "cell_type": "code",
   "execution_count": 3,
   "id": "17a90823",
   "metadata": {},
   "outputs": [
    {
     "name": "stdout",
     "output_type": "stream",
     "text": [
      "\n",
      "🔍 Test 2: Remote Subdatasets Exploration\n",
      "=============================================\n",
      "📊 Found 149 subdatasets:\n",
      "    1. Array /conditions/geometry/angle\n",
      "       Variable: angle\"\n",
      "       Path: ..._R092_T36HUG_20250721T095416.zarr/conditions/geometry/angle\"\n",
      "    2. Array /conditions/geometry/band\n",
      "       Variable: band\"\n",
      "       Path: ...1_R092_T36HUG_20250721T095416.zarr/conditions/geometry/band\"\n",
      "    3. Array /conditions/geometry/detector\n",
      "       Variable: detector\"\n",
      "       Path: ...92_T36HUG_20250721T095416.zarr/conditions/geometry/detector\"\n",
      "    4. Array /conditions/geometry/x\n",
      "       Variable: x\"\n",
      "       Path: ...0511_R092_T36HUG_20250721T095416.zarr/conditions/geometry/x\"\n",
      "    5. Array /conditions/geometry/y\n",
      "       Variable: y\"\n",
      "       Path: ...0511_R092_T36HUG_20250721T095416.zarr/conditions/geometry/y\"\n",
      "    6. Array /conditions/geometry/mean_sun_angles\n",
      "       Variable: mean_sun_angles\"\n",
      "       Path: ...UG_20250721T095416.zarr/conditions/geometry/mean_sun_angles\"\n",
      "    7. Array /conditions/geometry/mean_viewing_incidence_angles\n",
      "       Variable: mean_viewing_incidence_angles\"\n",
      "       Path: ...5416.zarr/conditions/geometry/mean_viewing_incidence_angles\"\n",
      "    8. Array /conditions/geometry/sun_angles\n",
      "       Variable: sun_angles\"\n",
      "       Path: ..._T36HUG_20250721T095416.zarr/conditions/geometry/sun_angles\"\n",
      "    9. Array /conditions/geometry/viewing_incidence_angles\n",
      "       Variable: viewing_incidence_angles\"\n",
      "       Path: ...21T095416.zarr/conditions/geometry/viewing_incidence_angles\"\n",
      "   10. Array /conditions/mask/detector_footprint/r10m/x\n",
      "       Variable: x\"\n",
      "       Path: ...50721T095416.zarr/conditions/mask/detector_footprint/r10m/x\"\n",
      "   ... and 139 more subdatasets\n",
      "\n",
      "🎯 Selected for detailed testing:\n",
      "   Array /conditions/mask/detector_footprint/r10m/b04\n",
      "Test subdataset: ('EOPFZARR:\"/vsicurl/https://objects.eodc.eu/e05ab01a9d56408d82ac32d69a5aae2a:202507-s02msil2a/21/products/cpm_v256/S2B_MSIL2A_20250721T073619_N0511_R092_T36HUG_20250721T095416.zarr/conditions/mask/detector_footprint/r10m/b04\"', 'Array /conditions/mask/detector_footprint/r10m/b04')\n"
     ]
    }
   ],
   "source": [
    "# Test 2: Explore remote subdatasets\n",
    "print(\"\\n🔍 Test 2: Remote Subdatasets Exploration\")\n",
    "print(\"=\" * 45)\n",
    "\n",
    "if remote_dataset:\n",
    "    subdatasets = remote_dataset.GetSubDatasets()\n",
    "    \n",
    "    if subdatasets:\n",
    "        print(f\"📊 Found {len(subdatasets)} subdatasets:\")\n",
    "        \n",
    "        # Show first 10 subdatasets\n",
    "        for i, (subds_path, subds_desc) in enumerate(subdatasets[:10]):\n",
    "            print(f\"   {i+1:2d}. {subds_desc}\")\n",
    "            \n",
    "            # Extract variable name from path\n",
    "            var_name = subds_path.split('/')[-1] if '/' in subds_path else 'unknown'\n",
    "            print(f\"       Variable: {var_name}\")\n",
    "            print(f\"       Path: ...{subds_path[-60:]}\")\n",
    "        \n",
    "        if len(subdatasets) > 10:\n",
    "            print(f\"   ... and {len(subdatasets) - 10} more subdatasets\")\n",
    "        \n",
    "        # Select an interesting subdataset for testing\n",
    "        test_subdataset = None\n",
    "        for subds_path, subds_desc in subdatasets:\n",
    "            if any(keyword in subds_desc.lower() for keyword in ['b04', 'red', 'ndvi', 'temperature']):\n",
    "                test_subdataset = (subds_path, subds_desc)\n",
    "                break\n",
    "        \n",
    "        if not test_subdataset and subdatasets:\n",
    "            test_subdataset = subdatasets[0]  # Use first if no specific match\n",
    "        \n",
    "        if test_subdataset:\n",
    "            print(f\"\\n🎯 Selected for detailed testing:\")\n",
    "            print(f\"   {test_subdataset[1]}\")\n",
    "        \n",
    "    else:\n",
    "        print(f\"📊 No subdatasets found\")\n",
    "        test_subdataset = None\n",
    "else:\n",
    "    print(f\"⚠️  Remote dataset not available\")\n",
    "    test_subdataset = None\n",
    "\n",
    "print(\"Test subdataset:\", test_subdataset)"
   ]
  },
  {
   "cell_type": "code",
   "execution_count": 4,
   "id": "93fae2e0",
   "metadata": {},
   "outputs": [
    {
     "name": "stdout",
     "output_type": "stream",
     "text": [
      "\n",
      "📊 Test 3: Remote Subdataset Data Access\n",
      "=============================================\n",
      "🔍 Testing: Array /conditions/mask/detector_footprint/r10m/b04\n"
     ]
    },
    {
     "name": "stderr",
     "output_type": "stream",
     "text": [
      "ERROR 3: Cannot open file '/vsicurl/https://objects.eodc.eu/e05ab01a9d56408d82ac32d69a5aae2a:202507-s02msil2a/21/products/cpm_v256/S2B_MSIL2A_20250721T073619_N0511_R092_T36HUG_20250721T095416.zarr/conditions/mask/detector_footprint/r10m/b04/.zmetadata'\n",
      "ERROR 3: Load json file /vsicurl/https://objects.eodc.eu/e05ab01a9d56408d82ac32d69a5aae2a:202507-s02msil2a/21/products/cpm_v256/S2B_MSIL2A_20250721T073619_N0511_R092_T36HUG_20250721T095416.zarr/conditions/mask/detector_footprint/r10m/b04/.zmetadata failed\n"
     ]
    },
    {
     "name": "stdout",
     "output_type": "stream",
     "text": [
      "✅ Subdataset opened successfully\n",
      "   Size: 10980 x 10980\n",
      "   Bands: 1\n",
      "   Data type: Byte\n",
      "\n",
      "📖 Reading sample data (100x100)...\n",
      "✅ Data read successfully\n",
      "   Shape: (100, 100)\n",
      "   Data type: uint8\n",
      "   Range: 12.000 to 12.000\n",
      "   Mean: 12.000\n"
     ]
    },
    {
     "name": "stderr",
     "output_type": "stream",
     "text": [
      "Warning 1: Unable to save auxiliary information in ZARR:\"/vsicurl/https://objects.eodc.eu/e05ab01a9d56408d82ac32d69a5aae2a:202507-s02msil2a/21/products/cpm_v256/S2B_MSIL2A_20250721T073619_N0511_R092_T36HUG_20250721T095416.zarr/conditions/mask/detector_footprint/r10m/b04\".aux.xml.\n"
     ]
    }
   ],
   "source": [
    "# Test 3: Access remote subdataset data\n",
    "print(\"\\n📊 Test 3: Remote Subdataset Data Access\")\n",
    "print(\"=\" * 45)\n",
    "\n",
    "if test_subdataset:\n",
    "    subds_path, subds_desc = test_subdataset\n",
    "    print(f\"🔍 Testing: {subds_desc}\")\n",
    "    \n",
    "    try:\n",
    "        # Open the subdataset\n",
    "        sub_ds = gdal.Open(subds_path)\n",
    "        \n",
    "        if sub_ds:\n",
    "            print(f\"✅ Subdataset opened successfully\")\n",
    "            print(f\"   Size: {sub_ds.RasterXSize} x {sub_ds.RasterYSize}\")\n",
    "            print(f\"   Bands: {sub_ds.RasterCount}\")\n",
    "            \n",
    "            if sub_ds.RasterCount > 0:\n",
    "                band = sub_ds.GetRasterBand(1)\n",
    "                print(f\"   Data type: {gdal.GetDataTypeName(band.DataType)}\")\n",
    "                \n",
    "                # Get band metadata\n",
    "                band_metadata = band.GetMetadata()\n",
    "                if band_metadata:\n",
    "                    print(f\"   Band metadata: {len(band_metadata)} items\")\n",
    "                    for key, value in list(band_metadata.items())[:3]:\n",
    "                        print(f\"      {key}: {value}\")\n",
    "                \n",
    "                # Read a small sample for performance (remote data)\n",
    "                sample_size = 100\n",
    "                x_size = min(sample_size, sub_ds.RasterXSize)\n",
    "                y_size = min(sample_size, sub_ds.RasterYSize)\n",
    "                \n",
    "                print(f\"\\n📖 Reading sample data ({x_size}x{y_size})...\")\n",
    "                \n",
    "                sample_data = band.ReadAsArray(0, 0, x_size, y_size)\n",
    "                \n",
    "                if sample_data is not None:\n",
    "                    print(f\"✅ Data read successfully\")\n",
    "                    print(f\"   Shape: {sample_data.shape}\")\n",
    "                    print(f\"   Data type: {sample_data.dtype}\")\n",
    "                    print(f\"   Range: {np.min(sample_data):.3f} to {np.max(sample_data):.3f}\")\n",
    "                    print(f\"   Mean: {np.mean(sample_data):.3f}\")\n",
    "                    \n",
    "                    # Check for no-data values\n",
    "                    nodata = band.GetNoDataValue()\n",
    "                    if nodata is not None:\n",
    "                        nodata_count = np.count_nonzero(sample_data == nodata)\n",
    "                        print(f\"   No-data pixels: {nodata_count} ({nodata_count/sample_data.size*100:.1f}%)\")\n",
    "                    \n",
    "                    remote_sample_data = sample_data\n",
    "                    remote_sample_desc = subds_desc\n",
    "                    \n",
    "                else:\n",
    "                    print(f\"❌ Failed to read sample data\")\n",
    "                    remote_sample_data = None\n",
    "                    remote_sample_desc = None\n",
    "            \n",
    "            sub_ds = None  # Close\n",
    "            \n",
    "        else:\n",
    "            print(f\"❌ Failed to open subdataset\")\n",
    "            print(f\"   Error: {gdal.GetLastErrorMsg()}\")\n",
    "            remote_sample_data = None\n",
    "            remote_sample_desc = None\n",
    "            \n",
    "    except Exception as e:\n",
    "        print(f\"❌ Exception: {e}\")\n",
    "        remote_sample_data = None\n",
    "        remote_sample_desc = None\n",
    "else:\n",
    "    print(f\"⚠️  No test subdataset available\")\n",
    "    remote_sample_data = None\n",
    "    remote_sample_desc = None"
   ]
  },
  {
   "cell_type": "code",
   "execution_count": 5,
   "id": "5059ec60",
   "metadata": {},
   "outputs": [
    {
     "name": "stdout",
     "output_type": "stream",
     "text": [
      "\n",
      "📈 Test 4: Remote Data Visualization\n",
      "======================================\n"
     ]
    },
    {
     "data": {
      "image/png": "[encoded data removed]",
      "text/plain": [
       "<Figure size 1500x600 with 3 Axes>"
      ]
     },
     "metadata": {},
     "output_type": "display_data"
    },
    {
     "name": "stdout",
     "output_type": "stream",
     "text": [
      "✅ Remote data visualization complete!\n"
     ]
    }
   ],
   "source": [
    "# Test 4: Remote data visualization\n",
    "print(\"\\n📈 Test 4: Remote Data Visualization\")\n",
    "print(\"=\" * 38)\n",
    "\n",
    "if remote_sample_data is not None:\n",
    "    fig, axes = plt.subplots(1, 2, figsize=(15, 6))\n",
    "    fig.suptitle('EOPF-Zarr Remote Data Access Demo', fontsize=16)\n",
    "    \n",
    "    # Plot 1: Data visualization\n",
    "    ax1 = axes[0]\n",
    "    im = ax1.imshow(remote_sample_data, cmap='viridis', aspect='auto')\n",
    "    ax1.set_title(f'Remote Dataset Sample\\n{remote_sample_desc[:40]}...')\n",
    "    ax1.set_xlabel('X Pixel')\n",
    "    ax1.set_ylabel('Y Pixel')\n",
    "    plt.colorbar(im, ax=ax1, shrink=0.8)\n",
    "    \n",
    "    # Plot 2: Data statistics\n",
    "    ax2 = axes[1]\n",
    "    ax2.hist(remote_sample_data.flatten(), bins=50, alpha=0.7, color='skyblue', edgecolor='black')\n",
    "    ax2.set_title('Data Value Distribution')\n",
    "    ax2.set_xlabel('Value')\n",
    "    ax2.set_ylabel('Frequency')\n",
    "    ax2.grid(True, alpha=0.3)\n",
    "    \n",
    "    plt.tight_layout()\n",
    "    plt.show()\n",
    "    \n",
    "    print(f\"✅ Remote data visualization complete!\")\n",
    "else:\n",
    "    print(f\"⚠️  No remote data available for visualization\")"
   ]
  },
  {
   "cell_type": "code",
   "execution_count": 6,
   "id": "c51b0d4b",
   "metadata": {},
   "outputs": [
    {
     "name": "stdout",
     "output_type": "stream",
     "text": [
      "\n",
      "⚡ Test 5: Remote Access Performance\n",
      "======================================\n",
      "🔍 Performance test on: Array /conditions/mask/detector_footprint/r10m/b04...\n"
     ]
    },
    {
     "name": "stderr",
     "output_type": "stream",
     "text": [
      "ERROR 3: Cannot open file '/vsicurl/https://objects.eodc.eu/e05ab01a9d56408d82ac32d69a5aae2a:202507-s02msil2a/21/products/cpm_v256/S2B_MSIL2A_20250721T073619_N0511_R092_T36HUG_20250721T095416.zarr/conditions/mask/detector_footprint/r10m/b04/.zmetadata'\n",
      "ERROR 3: Load json file /vsicurl/https://objects.eodc.eu/e05ab01a9d56408d82ac32d69a5aae2a:202507-s02msil2a/21/products/cpm_v256/S2B_MSIL2A_20250721T073619_N0511_R092_T36HUG_20250721T095416.zarr/conditions/mask/detector_footprint/r10m/b04/.zmetadata failed\n"
     ]
    },
    {
     "name": "stdout",
     "output_type": "stream",
     "text": [
      "   📊 50x50: 0.68s, 0.00MB, 0.00MB/s\n"
     ]
    },
    {
     "name": "stderr",
     "output_type": "stream",
     "text": [
      "Warning 1: Unable to save auxiliary information in ZARR:\"/vsicurl/https://objects.eodc.eu/e05ab01a9d56408d82ac32d69a5aae2a:202507-s02msil2a/21/products/cpm_v256/S2B_MSIL2A_20250721T073619_N0511_R092_T36HUG_20250721T095416.zarr/conditions/mask/detector_footprint/r10m/b04\".aux.xml.\n",
      "ERROR 3: Cannot open file '/vsicurl/https://objects.eodc.eu/e05ab01a9d56408d82ac32d69a5aae2a:202507-s02msil2a/21/products/cpm_v256/S2B_MSIL2A_20250721T073619_N0511_R092_T36HUG_20250721T095416.zarr/conditions/mask/detector_footprint/r10m/b04/.zmetadata'\n",
      "ERROR 3: Load json file /vsicurl/https://objects.eodc.eu/e05ab01a9d56408d82ac32d69a5aae2a:202507-s02msil2a/21/products/cpm_v256/S2B_MSIL2A_20250721T073619_N0511_R092_T36HUG_20250721T095416.zarr/conditions/mask/detector_footprint/r10m/b04/.zmetadata failed\n"
     ]
    },
    {
     "name": "stdout",
     "output_type": "stream",
     "text": [
      "   📊 100x100: 0.69s, 0.01MB, 0.01MB/s\n"
     ]
    },
    {
     "name": "stderr",
     "output_type": "stream",
     "text": [
      "Warning 1: Unable to save auxiliary information in ZARR:\"/vsicurl/https://objects.eodc.eu/e05ab01a9d56408d82ac32d69a5aae2a:202507-s02msil2a/21/products/cpm_v256/S2B_MSIL2A_20250721T073619_N0511_R092_T36HUG_20250721T095416.zarr/conditions/mask/detector_footprint/r10m/b04\".aux.xml.\n",
      "ERROR 3: Cannot open file '/vsicurl/https://objects.eodc.eu/e05ab01a9d56408d82ac32d69a5aae2a:202507-s02msil2a/21/products/cpm_v256/S2B_MSIL2A_20250721T073619_N0511_R092_T36HUG_20250721T095416.zarr/conditions/mask/detector_footprint/r10m/b04/.zmetadata'\n",
      "ERROR 3: Load json file /vsicurl/https://objects.eodc.eu/e05ab01a9d56408d82ac32d69a5aae2a:202507-s02msil2a/21/products/cpm_v256/S2B_MSIL2A_20250721T073619_N0511_R092_T36HUG_20250721T095416.zarr/conditions/mask/detector_footprint/r10m/b04/.zmetadata failed\n"
     ]
    },
    {
     "name": "stdout",
     "output_type": "stream",
     "text": [
      "   📊 200x200: 0.75s, 0.04MB, 0.05MB/s\n",
      "\n",
      "📈 Performance Summary:\n",
      "   Average throughput: 0.02 MB/s\n",
      "   Total tests completed: 3\n"
     ]
    },
    {
     "name": "stderr",
     "output_type": "stream",
     "text": [
      "Warning 1: Unable to save auxiliary information in ZARR:\"/vsicurl/https://objects.eodc.eu/e05ab01a9d56408d82ac32d69a5aae2a:202507-s02msil2a/21/products/cpm_v256/S2B_MSIL2A_20250721T073619_N0511_R092_T36HUG_20250721T095416.zarr/conditions/mask/detector_footprint/r10m/b04\".aux.xml.\n"
     ]
    }
   ],
   "source": [
    "# Test 5: Performance benchmarking\n",
    "print(\"\\n⚡ Test 5: Remote Access Performance\")\n",
    "print(\"=\" * 38)\n",
    "\n",
    "if test_subdataset:\n",
    "    import time\n",
    "    \n",
    "    subds_path, subds_desc = test_subdataset\n",
    "    print(f\"🔍 Performance test on: {subds_desc[:50]}...\")\n",
    "    \n",
    "    # Test different read sizes\n",
    "    test_sizes = [50, 100, 200]  # Keep reasonable for remote access\n",
    "    \n",
    "    performance_results = []\n",
    "    \n",
    "    for size in test_sizes:\n",
    "        try:\n",
    "            start_time = time.time()\n",
    "            \n",
    "            # Open and read\n",
    "            sub_ds = gdal.Open(subds_path)\n",
    "            if sub_ds and sub_ds.RasterCount > 0:\n",
    "                band = sub_ds.GetRasterBand(1)\n",
    "                \n",
    "                # Constrain to actual dataset size\n",
    "                actual_x = min(size, sub_ds.RasterXSize)\n",
    "                actual_y = min(size, sub_ds.RasterYSize)\n",
    "                \n",
    "                data = band.ReadAsArray(0, 0, actual_x, actual_y)\n",
    "                \n",
    "                end_time = time.time()\n",
    "                duration = end_time - start_time\n",
    "                \n",
    "                if data is not None:\n",
    "                    data_size_mb = data.nbytes / (1024 * 1024)\n",
    "                    throughput = data_size_mb / duration if duration > 0 else 0\n",
    "                    \n",
    "                    performance_results.append({\n",
    "                        'size': f'{actual_x}x{actual_y}',\n",
    "                        'duration': duration,\n",
    "                        'data_size_mb': data_size_mb,\n",
    "                        'throughput_mbps': throughput\n",
    "                    })\n",
    "                    \n",
    "                    print(f\"   📊 {actual_x}x{actual_y}: {duration:.2f}s, {data_size_mb:.2f}MB, {throughput:.2f}MB/s\")\n",
    "                else:\n",
    "                    print(f\"   ❌ Failed to read {size}x{size} data\")\n",
    "                \n",
    "                sub_ds = None\n",
    "            else:\n",
    "                print(f\"   ❌ Failed to open dataset for size {size}\")\n",
    "                \n",
    "        except Exception as e:\n",
    "            print(f\"   ❌ Error with size {size}: {e}\")\n",
    "    \n",
    "    if performance_results:\n",
    "        print(f\"\\n📈 Performance Summary:\")\n",
    "        avg_throughput = np.mean([r['throughput_mbps'] for r in performance_results])\n",
    "        print(f\"   Average throughput: {avg_throughput:.2f} MB/s\")\n",
    "        print(f\"   Total tests completed: {len(performance_results)}\")\n",
    "    else:\n",
    "        print(f\"\\n⚠️  No performance data collected\")\n",
    "        \n",
    "else:\n",
    "    print(f\"⚠️  No subdataset available for performance testing\")"
   ]
  },
  {
   "cell_type": "code",
   "execution_count": 7,
   "id": "dcaa7d44",
   "metadata": {},
   "outputs": [
    {
     "name": "stdout",
     "output_type": "stream",
     "text": [
      "\n",
      "🎉 Remote Data Access Demo Summary\n",
      "========================================\n",
      "✅ Remote dataset closed\n",
      "\n",
      "📊 Test Results:\n",
      "   Remote Connection: ❌ FAIL\n",
      "   Subdatasets Found: ✅ PASS\n",
      "   Data Access: ✅ PASS\n",
      "   Visualization: ✅ PASS\n",
      "   Performance Test: ✅ PASS\n",
      "\n",
      "🏆 Overall: 4/5 tests passed (80.0%)\n",
      "🎉 Remote data access is working well!\n",
      "\n",
      "📝 Key Capabilities Demonstrated:\n",
      "   ✅ HTTPS URL access via /vsicurl/\n",
      "   ✅ Remote subdataset enumeration\n",
      "   ✅ Efficient remote data reading\n",
      "   ✅ Performance monitoring\n",
      "\n",
      "🌐 Remote Access Best Practices:\n",
      "   • Use small read operations for better performance\n",
      "   • Cache frequently accessed data locally\n",
      "   • Consider network bandwidth limitations\n",
      "   • Test connectivity before large operations\n"
     ]
    },
    {
     "name": "stderr",
     "output_type": "stream",
     "text": [
      "Warning 1: Unable to save auxiliary information in ZARR:\"/vsicurl/https://objects.eodc.eu/e05ab01a9d56408d82ac32d69a5aae2a:202507-s02msil2a/21/products/cpm_v256/S2B_MSIL2A_20250721T073619_N0511_R092_T36HUG_20250721T095416.zarr\".aux.xml.\n"
     ]
    }
   ],
   "source": [
    "# Summary and cleanup\n",
    "print(\"\\n🎉 Remote Data Access Demo Summary\")\n",
    "print(\"=\" * 40)\n",
    "\n",
    "# Close datasets\n",
    "if 'remote_dataset' in locals() and remote_dataset:\n",
    "    remote_dataset = None\n",
    "    print(f\"✅ Remote dataset closed\")\n",
    "\n",
    "# Test results summary\n",
    "test_results = {\n",
    "    'remote_connection': 'remote_dataset' in locals() and remote_dataset is not None,\n",
    "    'subdatasets_found': 'test_subdataset' in locals() and test_subdataset is not None,\n",
    "    'data_access': 'remote_sample_data' in locals() and remote_sample_data is not None,\n",
    "    'visualization': 'remote_sample_data' in locals() and remote_sample_data is not None,\n",
    "    'performance_test': 'performance_results' in locals() and len(performance_results) > 0\n",
    "}\n",
    "\n",
    "print(f\"\\n📊 Test Results:\")\n",
    "for test_name, result in test_results.items():\n",
    "    status = \"✅ PASS\" if result else \"❌ FAIL\"\n",
    "    print(f\"   {test_name.replace('_', ' ').title()}: {status}\")\n",
    "\n",
    "passed = sum(test_results.values())\n",
    "total = len(test_results)\n",
    "print(f\"\\n🏆 Overall: {passed}/{total} tests passed ({passed/total*100:.1f}%)\")\n",
    "\n",
    "if passed >= 3:\n",
    "    print(f\"🎉 Remote data access is working well!\")\n",
    "    print(f\"\\n📝 Key Capabilities Demonstrated:\")\n",
    "    print(f\"   ✅ HTTPS URL access via /vsicurl/\")\n",
    "    print(f\"   ✅ Remote subdataset enumeration\")\n",
    "    print(f\"   ✅ Efficient remote data reading\")\n",
    "    print(f\"   ✅ Performance monitoring\")\n",
    "else:\n",
    "    print(f\"⚠️  Some remote access features need investigation\")\n",
    "\n",
    "print(f\"\\n🌐 Remote Access Best Practices:\")\n",
    "print(f\"   • Use small read operations for better performance\")\n",
    "print(f\"   • Cache frequently accessed data locally\")\n",
    "print(f\"   • Consider network bandwidth limitations\")\n",
    "print(f\"   • Test connectivity before large operations\")"
   ]
  },
  {
   "cell_type": "code",
   "execution_count": 8,
   "id": "01944ef7",
   "metadata": {},
   "outputs": [],
   "source": [
    "import rasterio\n",
    "from osgeo import gdal"
   ]
  },
  {
   "cell_type": "code",
   "execution_count": 12,
   "id": "5ebaf767-7e9b-45ec-8251-caf8c5e010cf",
   "metadata": {},
   "outputs": [
    {
     "name": "stdout",
     "output_type": "stream",
     "text": [
      "Shape: (512, 512)\n"
     ]
    }
   ],
   "source": [
    "# Test URL from user\n",
    "url = 'EOPFZARR:\"/vsicurl/https://storage.sbg.cloud.ovh.net/v1/AUTH_8471d76cdd494d98a078f28b195dace4/sentinel-1-public/demo_product/grd/S01SIWGRH_20240201T164915_0025_A146_S000_5464A_VH.zarr\"'\n",
    "rs_ds = rasterio.open(url)\n",
    "print(f\"Shape: {rs_ds.shape}\")\n",
    "\n",
    "            "
   ]
  },
  {
   "cell_type": "code",
   "execution_count": null,
   "id": "5c833cc9-9373-4d75-ab39-65142d83f408",
   "metadata": {},
   "outputs": [],
   "source": []
  }
 ],
 "metadata": {
  "kernelspec": {
   "display_name": "Python 3 (ipykernel)",
   "language": "python",
   "name": "python3"
  },
  "language_info": {
   "codemirror_mode": {
    "name": "ipython",
    "version": 3
   },
   "file_extension": ".py",
   "mimetype": "text/x-python",
   "name": "python",
   "nbconvert_exporter": "python",
   "pygments_lexer": "ipython3",
   "version": "3.13.3"
  }
 },
 "nbformat": 4,
 "nbformat_minor": 5
}
